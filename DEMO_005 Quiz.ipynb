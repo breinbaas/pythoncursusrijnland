{
 "cells": [
  {
   "cell_type": "markdown",
   "metadata": {},
   "source": [
    "Lees de volgende beschrijving (of zoek je eigen uitleg) en probeer het power.csv bestand in te lezen\n",
    "\n",
    "https://pandas.pydata.org/pandas-docs/stable/reference/api/pandas.read_csv.html\n"
   ]
  },
  {
   "cell_type": "code",
   "execution_count": 2,
   "metadata": {},
   "outputs": [
    {
     "data": {
      "text/html": [
       "<div>\n",
       "<style scoped>\n",
       "    .dataframe tbody tr th:only-of-type {\n",
       "        vertical-align: middle;\n",
       "    }\n",
       "\n",
       "    .dataframe tbody tr th {\n",
       "        vertical-align: top;\n",
       "    }\n",
       "\n",
       "    .dataframe thead th {\n",
       "        text-align: right;\n",
       "    }\n",
       "</style>\n",
       "<table border=\"1\" class=\"dataframe\">\n",
       "  <thead>\n",
       "    <tr style=\"text-align: right;\">\n",
       "      <th></th>\n",
       "      <th>UNIX timestamp [s]</th>\n",
       "      <th>Time UTC</th>\n",
       "      <th>Power [W]</th>\n",
       "    </tr>\n",
       "  </thead>\n",
       "  <tbody>\n",
       "    <tr>\n",
       "      <th>0</th>\n",
       "      <td>1605168040</td>\n",
       "      <td>2020-11-12 08:00:40</td>\n",
       "      <td>-4.340100</td>\n",
       "    </tr>\n",
       "    <tr>\n",
       "      <th>1</th>\n",
       "      <td>1605168100</td>\n",
       "      <td>2020-11-12 08:01:40</td>\n",
       "      <td>-4.336182</td>\n",
       "    </tr>\n",
       "    <tr>\n",
       "      <th>2</th>\n",
       "      <td>1605168160</td>\n",
       "      <td>2020-11-12 08:02:40</td>\n",
       "      <td>-4.348271</td>\n",
       "    </tr>\n",
       "    <tr>\n",
       "      <th>3</th>\n",
       "      <td>1605168220</td>\n",
       "      <td>2020-11-12 08:03:40</td>\n",
       "      <td>-4.358246</td>\n",
       "    </tr>\n",
       "    <tr>\n",
       "      <th>4</th>\n",
       "      <td>1605168280</td>\n",
       "      <td>2020-11-12 08:04:40</td>\n",
       "      <td>-4.341981</td>\n",
       "    </tr>\n",
       "    <tr>\n",
       "      <th>...</th>\n",
       "      <td>...</td>\n",
       "      <td>...</td>\n",
       "      <td>...</td>\n",
       "    </tr>\n",
       "    <tr>\n",
       "      <th>994</th>\n",
       "      <td>1605227723</td>\n",
       "      <td>2020-11-13 00:35:23</td>\n",
       "      <td>-4.360253</td>\n",
       "    </tr>\n",
       "    <tr>\n",
       "      <th>995</th>\n",
       "      <td>1605227783</td>\n",
       "      <td>2020-11-13 00:36:23</td>\n",
       "      <td>-4.351744</td>\n",
       "    </tr>\n",
       "    <tr>\n",
       "      <th>996</th>\n",
       "      <td>1605227843</td>\n",
       "      <td>2020-11-13 00:37:23</td>\n",
       "      <td>-4.360418</td>\n",
       "    </tr>\n",
       "    <tr>\n",
       "      <th>997</th>\n",
       "      <td>1605227903</td>\n",
       "      <td>2020-11-13 00:38:23</td>\n",
       "      <td>-4.352323</td>\n",
       "    </tr>\n",
       "    <tr>\n",
       "      <th>998</th>\n",
       "      <td>1605227963</td>\n",
       "      <td>2020-11-13 00:39:23</td>\n",
       "      <td>-4.355211</td>\n",
       "    </tr>\n",
       "  </tbody>\n",
       "</table>\n",
       "<p>999 rows × 3 columns</p>\n",
       "</div>"
      ],
      "text/plain": [
       "     UNIX timestamp [s]             Time UTC  Power [W]\n",
       "0            1605168040  2020-11-12 08:00:40  -4.340100\n",
       "1            1605168100  2020-11-12 08:01:40  -4.336182\n",
       "2            1605168160  2020-11-12 08:02:40  -4.348271\n",
       "3            1605168220  2020-11-12 08:03:40  -4.358246\n",
       "4            1605168280  2020-11-12 08:04:40  -4.341981\n",
       "..                  ...                  ...        ...\n",
       "994          1605227723  2020-11-13 00:35:23  -4.360253\n",
       "995          1605227783  2020-11-13 00:36:23  -4.351744\n",
       "996          1605227843  2020-11-13 00:37:23  -4.360418\n",
       "997          1605227903  2020-11-13 00:38:23  -4.352323\n",
       "998          1605227963  2020-11-13 00:39:23  -4.355211\n",
       "\n",
       "[999 rows x 3 columns]"
      ]
     },
     "execution_count": 2,
     "metadata": {},
     "output_type": "execute_result"
    }
   ],
   "source": [
    "import pandas as pd\n",
    "df = pd.read_csv('data/power.csv')\n",
    "df"
   ]
  },
  {
   "cell_type": "markdown",
   "metadata": {},
   "source": [
    "Hoeveel rijen en kolommen heeft je data?"
   ]
  },
  {
   "cell_type": "code",
   "execution_count": 26,
   "metadata": {},
   "outputs": [
    {
     "data": {
      "text/plain": [
       "(999, 3)"
      ]
     },
     "execution_count": 26,
     "metadata": {},
     "output_type": "execute_result"
    }
   ],
   "source": [
    "df.shape"
   ]
  },
  {
   "cell_type": "markdown",
   "metadata": {},
   "source": [
    "Wat is de minimale waarde van de Power meting"
   ]
  },
  {
   "cell_type": "code",
   "execution_count": 29,
   "metadata": {},
   "outputs": [
    {
     "data": {
      "text/plain": [
       "'2020-11-13 00:24:22'"
      ]
     },
     "execution_count": 29,
     "metadata": {},
     "output_type": "execute_result"
    }
   ],
   "source": [
    "#i = df['Power [W]'].argmin()\n",
    "df['Time UTC'].iloc[df['Power [W]'].argmin()]"
   ]
  },
  {
   "cell_type": "markdown",
   "metadata": {},
   "source": [
    "Waarschijnlijk ben je er achter gekomen dat het niet zo handig is om de bestaande kolomnamen en te houden. Zoek op google naar een manier om de kolomnamen te veranderen naar de namen;\n",
    "\n",
    "* time_s\n",
    "* time_utc\n",
    "* power"
   ]
  },
  {
   "cell_type": "code",
   "execution_count": 30,
   "metadata": {},
   "outputs": [
    {
     "data": {
      "text/html": [
       "<div>\n",
       "<style scoped>\n",
       "    .dataframe tbody tr th:only-of-type {\n",
       "        vertical-align: middle;\n",
       "    }\n",
       "\n",
       "    .dataframe tbody tr th {\n",
       "        vertical-align: top;\n",
       "    }\n",
       "\n",
       "    .dataframe thead th {\n",
       "        text-align: right;\n",
       "    }\n",
       "</style>\n",
       "<table border=\"1\" class=\"dataframe\">\n",
       "  <thead>\n",
       "    <tr style=\"text-align: right;\">\n",
       "      <th></th>\n",
       "      <th>time_s</th>\n",
       "      <th>time_utc</th>\n",
       "      <th>power</th>\n",
       "    </tr>\n",
       "  </thead>\n",
       "  <tbody>\n",
       "    <tr>\n",
       "      <th>0</th>\n",
       "      <td>1605168040</td>\n",
       "      <td>2020-11-12 08:00:40</td>\n",
       "      <td>-4.340100</td>\n",
       "    </tr>\n",
       "    <tr>\n",
       "      <th>1</th>\n",
       "      <td>1605168100</td>\n",
       "      <td>2020-11-12 08:01:40</td>\n",
       "      <td>-4.336182</td>\n",
       "    </tr>\n",
       "    <tr>\n",
       "      <th>2</th>\n",
       "      <td>1605168160</td>\n",
       "      <td>2020-11-12 08:02:40</td>\n",
       "      <td>-4.348271</td>\n",
       "    </tr>\n",
       "    <tr>\n",
       "      <th>3</th>\n",
       "      <td>1605168220</td>\n",
       "      <td>2020-11-12 08:03:40</td>\n",
       "      <td>-4.358246</td>\n",
       "    </tr>\n",
       "    <tr>\n",
       "      <th>4</th>\n",
       "      <td>1605168280</td>\n",
       "      <td>2020-11-12 08:04:40</td>\n",
       "      <td>-4.341981</td>\n",
       "    </tr>\n",
       "    <tr>\n",
       "      <th>...</th>\n",
       "      <td>...</td>\n",
       "      <td>...</td>\n",
       "      <td>...</td>\n",
       "    </tr>\n",
       "    <tr>\n",
       "      <th>994</th>\n",
       "      <td>1605227723</td>\n",
       "      <td>2020-11-13 00:35:23</td>\n",
       "      <td>-4.360253</td>\n",
       "    </tr>\n",
       "    <tr>\n",
       "      <th>995</th>\n",
       "      <td>1605227783</td>\n",
       "      <td>2020-11-13 00:36:23</td>\n",
       "      <td>-4.351744</td>\n",
       "    </tr>\n",
       "    <tr>\n",
       "      <th>996</th>\n",
       "      <td>1605227843</td>\n",
       "      <td>2020-11-13 00:37:23</td>\n",
       "      <td>-4.360418</td>\n",
       "    </tr>\n",
       "    <tr>\n",
       "      <th>997</th>\n",
       "      <td>1605227903</td>\n",
       "      <td>2020-11-13 00:38:23</td>\n",
       "      <td>-4.352323</td>\n",
       "    </tr>\n",
       "    <tr>\n",
       "      <th>998</th>\n",
       "      <td>1605227963</td>\n",
       "      <td>2020-11-13 00:39:23</td>\n",
       "      <td>-4.355211</td>\n",
       "    </tr>\n",
       "  </tbody>\n",
       "</table>\n",
       "<p>999 rows × 3 columns</p>\n",
       "</div>"
      ],
      "text/plain": [
       "         time_s             time_utc     power\n",
       "0    1605168040  2020-11-12 08:00:40 -4.340100\n",
       "1    1605168100  2020-11-12 08:01:40 -4.336182\n",
       "2    1605168160  2020-11-12 08:02:40 -4.348271\n",
       "3    1605168220  2020-11-12 08:03:40 -4.358246\n",
       "4    1605168280  2020-11-12 08:04:40 -4.341981\n",
       "..          ...                  ...       ...\n",
       "994  1605227723  2020-11-13 00:35:23 -4.360253\n",
       "995  1605227783  2020-11-13 00:36:23 -4.351744\n",
       "996  1605227843  2020-11-13 00:37:23 -4.360418\n",
       "997  1605227903  2020-11-13 00:38:23 -4.352323\n",
       "998  1605227963  2020-11-13 00:39:23 -4.355211\n",
       "\n",
       "[999 rows x 3 columns]"
      ]
     },
     "execution_count": 30,
     "metadata": {},
     "output_type": "execute_result"
    }
   ],
   "source": [
    "df.columns = ['time_s', 'time_utc', 'power']\n",
    "df"
   ]
  },
  {
   "cell_type": "markdown",
   "metadata": {},
   "source": [
    "Kopieer deze code en kijk wat er gebeurt (let op dat de kolomnamen aangepast moeten zijn!)\n",
    "\n",
    "```df.plot(x='time_s', y='power')```"
   ]
  },
  {
   "cell_type": "code",
   "execution_count": 32,
   "metadata": {},
   "outputs": [
    {
     "data": {
      "text/plain": [
       "<AxesSubplot:xlabel='time_s', ylabel='power'>"
      ]
     },
     "execution_count": 32,
     "metadata": {},
     "output_type": "execute_result"
    },
    {
     "data": {
      "image/png": "[encoded data removed]",
      "text/plain": [
       "<Figure size 432x288 with 1 Axes>"
      ]
     },
     "metadata": {
      "needs_background": "light"
     },
     "output_type": "display_data"
    }
   ],
   "source": [
    "#arr = np.array(....)\n",
    "#plt.plot(x=arr[:,0], y=arr[:,1])\n",
    "\n",
    "df.plot(x='time_s', y='power', kind='scatter') # scatter hist ..."
   ]
  },
  {
   "cell_type": "markdown",
   "metadata": {},
   "source": [
    "Kun je de time_s kolom aanpassen door overal de eerste waarde voor time_s eraf te halen zodat de time_s op 0 begint?"
   ]
  },
  {
   "cell_type": "code",
   "execution_count": 36,
   "metadata": {},
   "outputs": [],
   "source": [
    "df['time_s'] -= df.iloc[0]['time_s']"
   ]
  },
  {
   "cell_type": "code",
   "execution_count": 39,
   "metadata": {},
   "outputs": [
    {
     "data": {
      "text/html": [
       "<div>\n",
       "<style scoped>\n",
       "    .dataframe tbody tr th:only-of-type {\n",
       "        vertical-align: middle;\n",
       "    }\n",
       "\n",
       "    .dataframe tbody tr th {\n",
       "        vertical-align: top;\n",
       "    }\n",
       "\n",
       "    .dataframe thead th {\n",
       "        text-align: right;\n",
       "    }\n",
       "</style>\n",
       "<table border=\"1\" class=\"dataframe\">\n",
       "  <thead>\n",
       "    <tr style=\"text-align: right;\">\n",
       "      <th></th>\n",
       "      <th>time_s</th>\n",
       "      <th>time_utc</th>\n",
       "      <th>power</th>\n",
       "    </tr>\n",
       "  </thead>\n",
       "  <tbody>\n",
       "    <tr>\n",
       "      <th>989</th>\n",
       "      <td>59383</td>\n",
       "      <td>2020-11-13 00:30:23</td>\n",
       "      <td>-4.359339</td>\n",
       "    </tr>\n",
       "    <tr>\n",
       "      <th>990</th>\n",
       "      <td>59443</td>\n",
       "      <td>2020-11-13 00:31:23</td>\n",
       "      <td>-4.342711</td>\n",
       "    </tr>\n",
       "    <tr>\n",
       "      <th>991</th>\n",
       "      <td>59503</td>\n",
       "      <td>2020-11-13 00:32:23</td>\n",
       "      <td>-4.360952</td>\n",
       "    </tr>\n",
       "    <tr>\n",
       "      <th>992</th>\n",
       "      <td>59563</td>\n",
       "      <td>2020-11-13 00:33:23</td>\n",
       "      <td>-4.347695</td>\n",
       "    </tr>\n",
       "    <tr>\n",
       "      <th>993</th>\n",
       "      <td>59623</td>\n",
       "      <td>2020-11-13 00:34:23</td>\n",
       "      <td>-4.344126</td>\n",
       "    </tr>\n",
       "    <tr>\n",
       "      <th>994</th>\n",
       "      <td>59683</td>\n",
       "      <td>2020-11-13 00:35:23</td>\n",
       "      <td>-4.360253</td>\n",
       "    </tr>\n",
       "    <tr>\n",
       "      <th>995</th>\n",
       "      <td>59743</td>\n",
       "      <td>2020-11-13 00:36:23</td>\n",
       "      <td>-4.351744</td>\n",
       "    </tr>\n",
       "    <tr>\n",
       "      <th>996</th>\n",
       "      <td>59803</td>\n",
       "      <td>2020-11-13 00:37:23</td>\n",
       "      <td>-4.360418</td>\n",
       "    </tr>\n",
       "    <tr>\n",
       "      <th>997</th>\n",
       "      <td>59863</td>\n",
       "      <td>2020-11-13 00:38:23</td>\n",
       "      <td>-4.352323</td>\n",
       "    </tr>\n",
       "    <tr>\n",
       "      <th>998</th>\n",
       "      <td>59923</td>\n",
       "      <td>2020-11-13 00:39:23</td>\n",
       "      <td>-4.355211</td>\n",
       "    </tr>\n",
       "  </tbody>\n",
       "</table>\n",
       "</div>"
      ],
      "text/plain": [
       "     time_s             time_utc     power\n",
       "989   59383  2020-11-13 00:30:23 -4.359339\n",
       "990   59443  2020-11-13 00:31:23 -4.342711\n",
       "991   59503  2020-11-13 00:32:23 -4.360952\n",
       "992   59563  2020-11-13 00:33:23 -4.347695\n",
       "993   59623  2020-11-13 00:34:23 -4.344126\n",
       "994   59683  2020-11-13 00:35:23 -4.360253\n",
       "995   59743  2020-11-13 00:36:23 -4.351744\n",
       "996   59803  2020-11-13 00:37:23 -4.360418\n",
       "997   59863  2020-11-13 00:38:23 -4.352323\n",
       "998   59923  2020-11-13 00:39:23 -4.355211"
      ]
     },
     "execution_count": 39,
     "metadata": {},
     "output_type": "execute_result"
    }
   ],
   "source": [
    "df.tail(10)"
   ]
  },
  {
   "cell_type": "markdown",
   "metadata": {},
   "source": [
    "Kun je nu een plot maken die de waarden plot waarbij time_s > 20000 en time_s <= 27500?"
   ]
  },
  {
   "cell_type": "code",
   "execution_count": 48,
   "metadata": {},
   "outputs": [
    {
     "data": {
      "text/plain": [
       "<AxesSubplot:xlabel='time_s'>"
      ]
     },
     "execution_count": 48,
     "metadata": {},
     "output_type": "execute_result"
    },
    {
     "data": {
      "image/png": "[encoded data removed]",
      "text/plain": [
       "<Figure size 432x288 with 1 Axes>"
      ]
     },
     "metadata": {
      "needs_background": "light"
     },
     "output_type": "display_data"
    }
   ],
   "source": [
    "import pandas as pd\n",
    "df = pd.read_csv('data/power.csv')\n",
    "df.columns = ['time_s', 'time_utc', 'power']\n",
    "df['time_s'] -= df.iloc[0]['time_s']\n",
    "df[(df['time_s']>20000) & (df['time_s']<27500)].plot(x='time_s', y='power')"
   ]
  },
  {
   "cell_type": "code",
   "execution_count": null,
   "metadata": {},
   "outputs": [],
   "source": [
    "savefig"
   ]
  }
 ],
 "metadata": {
  "kernelspec": {
   "display_name": "Python 3",
   "language": "python",
   "name": "python3"
  },
  "language_info": {
   "codemirror_mode": {
    "name": "ipython",
    "version": 3
   },
   "file_extension": ".py",
   "mimetype": "text/x-python",
   "name": "python",
   "nbconvert_exporter": "python",
   "pygments_lexer": "ipython3",
   "version": "3.8.5"
  }
 },
 "nbformat": 4,
 "nbformat_minor": 4
}
