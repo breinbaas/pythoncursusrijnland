{
 "cells": [
  {
   "cell_type": "markdown",
   "metadata": {},
   "source": [
    "breinbaas | revisie 2 | 04-12-2020 \n",
    "\n",
    "# Opdrachten - Classes en overerving\n",
    "\n",
    "In dit notebook gaan we aan de slag met de Python classes en overerving. Probeer de vragen zoveel mogelijk zelf te beantwoorden maar kom je er echt niet uit vraag dan een mede cursist of de leraar of bekijk het antwoord op dit notebook.\n",
    "\n",
    "### 1 classes\n",
    "\n",
    "We willen GEF bestanden inlezen via een class. Maak hiervoor een class met de volgende eigenschappen en functies;\n",
    "\n",
    "Eigenschappen;\n",
    "* z is een lijst van floats die de diepte van de meting aangeeft (de eerste kolom in het sample.gef bestand)\n",
    "* qc is een lijst van floats die de conusweestand aangeeft (tweede kolom in het sample.gef bestand)\n",
    "* fs is een lijst van floats die de plaatselijke wrijving aangeeft (derde kolom in het sample.gef bestand)\n",
    "\n",
    "Functies;\n",
    "* read_from_file is een functie die een bestandsnaam meekrijgt en de lijst met z, qc en fs uit het bestand leest, gebruik sample.gef om je code te testen\n",
    "* print_stats is een functie die voor zowel qc als fs het minimum en maximum weergeeft\n",
    "\n",
    "Mocht je moeite hebben met de uitwerking omdat je nog niet zo bekend ben met classes kijk dan bv eens naar;\n",
    "\n",
    "https://www.w3schools.com/python/python_classes.asp"
   ]
  },
  {
   "cell_type": "code",
   "execution_count": null,
   "metadata": {},
   "outputs": [],
   "source": []
  },
  {
   "cell_type": "markdown",
   "metadata": {},
   "source": [
    "### 2 overerving\n",
    "\n",
    "Nu we een GEFReader hebben gemaakt kunnen we een class maken die erft van de GEFReader en een plot functie toevoegt. We gaan deze class de GEFPlotter noemen. De plot functie moet met matplotlib een plotje maken van de qc en de fs tegen de diepte z.\n",
    "\n",
    "Let op; \n",
    "* je hoeft niks te veranderen aan de GEFReader class\n",
    "\n",
    "Ben je nog onzeker over het onderdeel overerving kijk dan bv eens op;\n",
    "\n",
    "https://www.w3schools.com/python/python_inheritance.asp"
   ]
  },
  {
   "cell_type": "code",
   "execution_count": null,
   "metadata": {},
   "outputs": [],
   "source": []
  }
 ],
 "metadata": {
  "kernelspec": {
   "display_name": "Python 3",
   "language": "python",
   "name": "python3"
  },
  "language_info": {
   "codemirror_mode": {
    "name": "ipython",
    "version": 3
   },
   "file_extension": ".py",
   "mimetype": "text/x-python",
   "name": "python",
   "nbconvert_exporter": "python",
   "pygments_lexer": "ipython3",
   "version": "3.8.5"
  }
 },
 "nbformat": 4,
 "nbformat_minor": 2
}
