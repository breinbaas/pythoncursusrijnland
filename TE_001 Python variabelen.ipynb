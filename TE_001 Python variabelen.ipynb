{
 "cells": [
  {
   "cell_type": "markdown",
   "metadata": {},
   "source": [
    "breinbaas | revisie 3 | 22-03-2020 \n",
    "\n",
    "# Opdrachten - Python variabelen\n",
    "\n",
    "In dit notebook gaan we aan de slag met de Python variabelen. Probeer de vragen zoveel mogelijk zelf te beantwoorden maar kom je er echt niet uit vraag dan een mede cursist of de leraar of bekijk het antwoord op dit notebook.\n",
    "\n",
    "### 1 integers\n",
    "\n",
    "#### 1.1 integers initialiseren en rekenen\n",
    "\n",
    "Initialiseer een variabele met naam i en waarde 1251"
   ]
  },
  {
   "cell_type": "code",
   "execution_count": null,
   "metadata": {},
   "outputs": [],
   "source": []
  },
  {
   "cell_type": "markdown",
   "metadata": {},
   "source": [
    "Initialiseer een variabele met naam j en waarde 9034"
   ]
  },
  {
   "cell_type": "code",
   "execution_count": null,
   "metadata": {},
   "outputs": [],
   "source": []
  },
  {
   "cell_type": "markdown",
   "metadata": {},
   "source": [
    "Bereken met Python de som en het verschil van de twee getallen"
   ]
  },
  {
   "cell_type": "code",
   "execution_count": null,
   "metadata": {},
   "outputs": [],
   "source": []
  },
  {
   "cell_type": "code",
   "execution_count": null,
   "metadata": {},
   "outputs": [],
   "source": []
  },
  {
   "cell_type": "markdown",
   "metadata": {},
   "source": [
    "Maak een variabele k met waarde 5 en bereken het kwadraat."
   ]
  },
  {
   "cell_type": "code",
   "execution_count": null,
   "metadata": {},
   "outputs": [],
   "source": []
  },
  {
   "cell_type": "markdown",
   "metadata": {},
   "source": [
    "Bereken de som van i en j minus het kwadraat van k"
   ]
  },
  {
   "cell_type": "code",
   "execution_count": null,
   "metadata": {},
   "outputs": [],
   "source": []
  },
  {
   "cell_type": "markdown",
   "metadata": {},
   "source": [
    "Verzin je eigen berekeningen en ga na of Python zich houdt aan de rekenregels (bv vermenigvuldigen gaat voor optellen)."
   ]
  },
  {
   "cell_type": "code",
   "execution_count": null,
   "metadata": {},
   "outputs": [],
   "source": []
  },
  {
   "cell_type": "markdown",
   "metadata": {},
   "source": [
    "### 2. float\n",
    "\n",
    "#### 2.1 float initialiseren en rekenen\n",
    "\n",
    "Initialiseer een variabele f1 met waarde 3.14"
   ]
  },
  {
   "cell_type": "code",
   "execution_count": null,
   "metadata": {},
   "outputs": [],
   "source": []
  },
  {
   "cell_type": "markdown",
   "metadata": {},
   "source": [
    "Initialiseer een variabele i als integer met waarde 2 en run de regel erna om te kijken wat het type is."
   ]
  },
  {
   "cell_type": "code",
   "execution_count": null,
   "metadata": {},
   "outputs": [],
   "source": []
  },
  {
   "cell_type": "code",
   "execution_count": null,
   "metadata": {},
   "outputs": [],
   "source": [
    "print(type(i)) # CODE NIET VERWIJDEREN"
   ]
  },
  {
   "cell_type": "markdown",
   "metadata": {},
   "source": [
    "We zien dat i van het type 'int' (integer) is wat klopt omdat we een geheel getal hebben ingevoerd.\n",
    "\n",
    "Tel nu f1 op bij i en print de waarde van i met de print() functie"
   ]
  },
  {
   "cell_type": "code",
   "execution_count": null,
   "metadata": {},
   "outputs": [],
   "source": []
  },
  {
   "cell_type": "markdown",
   "metadata": {},
   "source": [
    "Gebruik de eerder gebruikte print() en type() functie om opnieuw het type van i te bepalen"
   ]
  },
  {
   "cell_type": "code",
   "execution_count": null,
   "metadata": {},
   "outputs": [],
   "source": []
  },
  {
   "cell_type": "markdown",
   "metadata": {},
   "source": [
    "Wat valt je op?"
   ]
  },
  {
   "cell_type": "markdown",
   "metadata": {},
   "source": [
    "De variabele i was een integer en is door de berekening omgezet in een float.\n",
    "\n",
    "Dit is een eigenschap die maar weinig programmeertalen hebben. In een taal als C++ of C# is een type voor de rest van zijn bestaan van hetzelfde type en moet je expliciet een variabele naar een ander type 'casten' om ze om te zetten. Deze functionaliteit maakt Python een zeer geschikte taal voor het snel coderen van krachtige scripts en bibliotheken. \n",
    "\n",
    "**verdieping** Je kunt uiteraard ook van float naar integer maar moet je daarbij wel bewust zijn van een eigenaardigheid.\n",
    "\n",
    "De volgende code maakt van i/2, dat nu de waarde 2.57 heeft, weer een integer."
   ]
  },
  {
   "cell_type": "code",
   "execution_count": null,
   "metadata": {},
   "outputs": [],
   "source": [
    "i = int(i/2) # CODE NIET VERWIJDEREN\n",
    "print(i)   # CODE NIET VERWIJDEREN"
   ]
  },
  {
   "cell_type": "markdown",
   "metadata": {},
   "source": [
    "Wat valt je op?"
   ]
  },
  {
   "cell_type": "markdown",
   "metadata": {},
   "source": [
    "Je verwacht 3 als antwoord maar krijgt 2. Python rond blijkbaar naar beneden af."
   ]
  },
  {
   "cell_type": "markdown",
   "metadata": {},
   "source": [
    "Probeer hetzelfde eens met een negatief getal en kijk wat er gebeurt."
   ]
  },
  {
   "cell_type": "code",
   "execution_count": null,
   "metadata": {},
   "outputs": [],
   "source": []
  },
  {
   "cell_type": "markdown",
   "metadata": {},
   "source": [
    "Python zou Python niet zijn als er niet een functie was om toch te doen wat wij van afronden verwachten. De functie heet round en kun je hier in werking zien;"
   ]
  },
  {
   "cell_type": "code",
   "execution_count": null,
   "metadata": {},
   "outputs": [],
   "source": [
    "round(2.47) # CODE NIET VERWIJDEREN"
   ]
  },
  {
   "cell_type": "markdown",
   "metadata": {},
   "source": [
    "Probeer deze functie zelf uit met een aantal getallen om te kijken of je het eens bent met de werking."
   ]
  },
  {
   "cell_type": "code",
   "execution_count": null,
   "metadata": {},
   "outputs": [],
   "source": []
  },
  {
   "cell_type": "markdown",
   "metadata": {},
   "source": [
    "### 3. string\n",
    "\n",
    "#### 3.1 string intialiseren en benaderen\n",
    "\n",
    "Initialiseer twee string variabelen met namen s1 en s2 en als waarde je voornaam en achternaam."
   ]
  },
  {
   "cell_type": "code",
   "execution_count": null,
   "metadata": {},
   "outputs": [],
   "source": []
  },
  {
   "cell_type": "markdown",
   "metadata": {},
   "source": [
    "Combineer de strings door ze 'op te tellen' en op te slaan in de variabele s3. Print deze waarde."
   ]
  },
  {
   "cell_type": "code",
   "execution_count": null,
   "metadata": {},
   "outputs": [],
   "source": []
  },
  {
   "cell_type": "markdown",
   "metadata": {},
   "source": [
    "Hoe zou je ontbreken van de spatie op kunnen vangen zonder s1 of s2 aan te passen?"
   ]
  },
  {
   "cell_type": "code",
   "execution_count": null,
   "metadata": {},
   "outputs": [],
   "source": []
  },
  {
   "cell_type": "markdown",
   "metadata": {},
   "source": [
    "In feite is een string niks anders dan een lijst met karakters. Het eerste karakter kun je benaderen op index 0. Hier kun je zien dat we de eerste letter van de voornaam vinden door het eerste element in de string s1 op te vragen;"
   ]
  },
  {
   "cell_type": "code",
   "execution_count": null,
   "metadata": {},
   "outputs": [],
   "source": [
    "s1[0]"
   ]
  },
  {
   "cell_type": "markdown",
   "metadata": {},
   "source": [
    "Kun je met deze informatie de tweede letter van je achternaam printen?"
   ]
  },
  {
   "cell_type": "code",
   "execution_count": null,
   "metadata": {},
   "outputs": [],
   "source": []
  },
  {
   "cell_type": "markdown",
   "metadata": {},
   "source": [
    "#### 3.2 string functies\n",
    "\n",
    "Een string kent heel veel functies die kant en klaar meegeleverd worden. Kijk maar eens naar deze webpagina (zoek naar Built-in String Methods);\n",
    "\n",
    "https://www.tutorialspoint.com/python/python_strings.htm\n",
    "\n",
    "Kun je met deze functies twee dingen doen;\n",
    "\n",
    "* print je voornaam in enkel hoofdletters\n",
    "* bepalen of je naam uit numerieke karakters bestaat (je antwoord hier kan True of False zijn)"
   ]
  },
  {
   "cell_type": "code",
   "execution_count": null,
   "metadata": {},
   "outputs": [],
   "source": []
  },
  {
   "cell_type": "markdown",
   "metadata": {},
   "source": [
    "De laatste functie die interessant kan zijn is het bepalen van de lengte van de string. De functie staat hier uitgelegd;\n",
    "\n",
    "https://www.tutorialspoint.com/python/list_len.htm\n",
    "\n",
    "Kun je met de wetenschap dat een string in feite een lijst met karakters is en de tutorial informatie de lengte van je achternaam bepalen? Let daarbij op dat spaties ook als karakters geteld worden!"
   ]
  },
  {
   "cell_type": "code",
   "execution_count": null,
   "metadata": {},
   "outputs": [],
   "source": []
  },
  {
   "cell_type": "markdown",
   "metadata": {},
   "source": [
    "#### 3.3 haakjes\n",
    "\n",
    "Er is geen verschil tussen\n",
    "\n",
    "s = \"abc\"\n",
    "\n",
    "of \n",
    "\n",
    "s = 'abc'\n",
    "\n",
    "Je kunt beide haken gebruiken maar zorg er wel voor de je met de juiste haak eindigt! Het volgende is dus niet ok;\n",
    "\n",
    "s = \"abc'\n",
    "\n",
    "Het grote voordeel hiervan is dat je eenvoudig haken in een string kunt toevoegen, bijvoorbeeld:\n",
    "\n",
    "s = \"De fotograaf maakte mooie foto's\" \n",
    "\n",
    "of\n",
    "\n",
    "s = 'Dit is \"mijn\" foto'\n",
    "\n",
    "Let wel, in andere programmeertalen is het volgende gebruikelijk\n",
    "\n",
    "* 's' wordt gebruikt voor een **enkel** karakter\n",
    "* \"abc\" wordt gebruikt voor woorden of zinnen\n",
    "\n",
    "In Python is het niet perse noodzakelijk om je hieraan te houden."
   ]
  },
  {
   "cell_type": "markdown",
   "metadata": {},
   "source": [
    "### 4. booleans\n",
    "\n",
    "#### 4.1 booleans initialiseren\n",
    "\n",
    "Bools kunnen enkel 0 of 1 zijn maar worden in Python als True en False opgeslagen. Let daarbij op de hoofdletter, die is verplicht. false of true zijn dus niet toegestaan. Booleans worden interessant bij if statements die we nog niet behandeld hebben dus we houden het kort nu.\n",
    "\n",
    "Initialiseer een variabele genaamd b met de waarde True"
   ]
  },
  {
   "cell_type": "code",
   "execution_count": null,
   "metadata": {},
   "outputs": [],
   "source": []
  },
  {
   "cell_type": "markdown",
   "metadata": {},
   "source": [
    "Print de waarde van b"
   ]
  },
  {
   "cell_type": "code",
   "execution_count": null,
   "metadata": {},
   "outputs": [],
   "source": []
  },
  {
   "cell_type": "markdown",
   "metadata": {},
   "source": [
    "**verdieping** Python is behoorlijk leesbaar als taal, kijk of je de volgende code (met veel onbekende dingen!) zou kunnen begrijpen... Run de code om te kijken of je aanname klopt."
   ]
  },
  {
   "cell_type": "code",
   "execution_count": null,
   "metadata": {},
   "outputs": [],
   "source": [
    "i = 2 # CODE NIET VERWIJDEREN\n",
    "kwadraat = True\n",
    "\n",
    "if kwadraat:\n",
    "    print(i**2) #of print(i*i)\n",
    "else:\n",
    "    print(i)    "
   ]
  },
  {
   "cell_type": "markdown",
   "metadata": {},
   "source": [
    "### 5. list\n",
    "\n",
    "#### 5.1 list initialiseren en benaderen\n",
    "\n",
    "Initialiseer een lijst met de naam l en de waarden 3.14, \"abc\", 5. Let hierbij op dat het in Python dus mogelijk is om een lijst te maken met verschillende types, hier een [float, string en int] "
   ]
  },
  {
   "cell_type": "code",
   "execution_count": null,
   "metadata": {},
   "outputs": [],
   "source": []
  },
  {
   "cell_type": "markdown",
   "metadata": {},
   "source": [
    "Gebruik de indexen om de som te berekenen van het eerste en laatste element in de lijst"
   ]
  },
  {
   "cell_type": "code",
   "execution_count": null,
   "metadata": {},
   "outputs": [],
   "source": []
  },
  {
   "cell_type": "markdown",
   "metadata": {},
   "source": [
    "Voer de volgende code uit en kijk of je de foutmelding snapt. "
   ]
  },
  {
   "cell_type": "code",
   "execution_count": null,
   "metadata": {},
   "outputs": [],
   "source": [
    "l[0]+l[1]"
   ]
  },
  {
   "cell_type": "markdown",
   "metadata": {},
   "source": [
    "maak een lijst l1 met de elementen 2, 4 en 5 en een lijst l2 met elementen 3 en 7 "
   ]
  },
  {
   "cell_type": "code",
   "execution_count": null,
   "metadata": {},
   "outputs": [],
   "source": []
  },
  {
   "cell_type": "markdown",
   "metadata": {},
   "source": [
    "Voeg de lijsten samen in een variabele genaamd l3"
   ]
  },
  {
   "cell_type": "code",
   "execution_count": null,
   "metadata": {},
   "outputs": [],
   "source": []
  },
  {
   "cell_type": "markdown",
   "metadata": {},
   "source": [
    "Print alle elementen van l3 vanaf het tweede element"
   ]
  },
  {
   "cell_type": "code",
   "execution_count": null,
   "metadata": {},
   "outputs": [],
   "source": []
  },
  {
   "cell_type": "markdown",
   "metadata": {},
   "source": [
    "Print de laatste twee elementen"
   ]
  },
  {
   "cell_type": "code",
   "execution_count": null,
   "metadata": {},
   "outputs": [],
   "source": []
  },
  {
   "cell_type": "markdown",
   "metadata": {},
   "source": [
    "Kijk of https://www.pythoncentral.io/how-to-sort-a-list-tuple-or-object-with-sorted-in-python/ en probeer de voorgaande lijst gesorteerd te printen."
   ]
  },
  {
   "cell_type": "code",
   "execution_count": null,
   "metadata": {},
   "outputs": [],
   "source": []
  },
  {
   "cell_type": "markdown",
   "metadata": {},
   "source": [
    "### 6. dictionaries\n",
    "\n",
    "#### 6.1 initialiseer dictionaries en benader elementen\n",
    "\n",
    "Initialiseer een dictionary genaamd beesten met de keys 'huisdier' en 'naam' en waarden 'kat' en 'garfield' "
   ]
  },
  {
   "cell_type": "code",
   "execution_count": null,
   "metadata": {},
   "outputs": [],
   "source": []
  },
  {
   "cell_type": "markdown",
   "metadata": {},
   "source": [
    "Met de functies keys() en values() kun je de waarden achterhalen van zowel de keys als de values. Probeer de keys functie uit op deze dictionary maar voorspel eerst zelf wat de uitvoer zal zijn. "
   ]
  },
  {
   "cell_type": "code",
   "execution_count": null,
   "metadata": {},
   "outputs": [],
   "source": []
  },
  {
   "cell_type": "code",
   "execution_count": null,
   "metadata": {},
   "outputs": [],
   "source": []
  },
  {
   "cell_type": "markdown",
   "metadata": {},
   "source": [
    "Verander de waarde van huisdier in 'luie kat'"
   ]
  },
  {
   "cell_type": "code",
   "execution_count": null,
   "metadata": {},
   "outputs": [],
   "source": []
  },
  {
   "cell_type": "markdown",
   "metadata": {},
   "source": [
    "Print de dictionary en kijk of de uitkomst klopt."
   ]
  },
  {
   "cell_type": "code",
   "execution_count": null,
   "metadata": {},
   "outputs": [],
   "source": []
  },
  {
   "cell_type": "markdown",
   "metadata": {},
   "source": [
    "### 7. tuple\n",
    "\n",
    "#### 7.1 initialiseer tuples en benader elementen\n",
    "\n",
    "In feite is een tuple hetzelfde als een list maar met 1 belangrijk verschil. Je kunt de waarden na initialisatie niet meer aanpassen. \n",
    "\n",
    "Initialiseer een lijst L met elementen 1, 2 en 3"
   ]
  },
  {
   "cell_type": "code",
   "execution_count": null,
   "metadata": {},
   "outputs": [],
   "source": []
  },
  {
   "cell_type": "markdown",
   "metadata": {},
   "source": [
    "Initialiseer een tuple T met elementen 4, 5 en 6"
   ]
  },
  {
   "cell_type": "code",
   "execution_count": null,
   "metadata": {},
   "outputs": [],
   "source": []
  },
  {
   "cell_type": "markdown",
   "metadata": {},
   "source": [
    "Verander de eerste waarde van L in de waarde 0"
   ]
  },
  {
   "cell_type": "code",
   "execution_count": null,
   "metadata": {},
   "outputs": [],
   "source": []
  },
  {
   "cell_type": "markdown",
   "metadata": {},
   "source": [
    "Verander de eerste waarde van T in 0 en zie wat er gebeurt."
   ]
  },
  {
   "cell_type": "code",
   "execution_count": null,
   "metadata": {},
   "outputs": [],
   "source": []
  },
  {
   "cell_type": "markdown",
   "metadata": {},
   "source": [
    "Kun je de foutmelding verklaren?"
   ]
  },
  {
   "cell_type": "markdown",
   "metadata": {},
   "source": [
    "### 8. set\n",
    "\n",
    "#### 8.1 initialiseer sets en benader elementen\n",
    "\n",
    "Een set is weer vergelijkbaar met een list maar in het geval van een set zijn alle waarden uniek. Je kunt dus geen element in een set hebben die verder in de lijst ook voorkomt.\n",
    "\n",
    "Definieer een set met de waarden 1, 2, 3, 4 en nog een keer 4"
   ]
  },
  {
   "cell_type": "code",
   "execution_count": null,
   "metadata": {},
   "outputs": [],
   "source": []
  },
  {
   "cell_type": "markdown",
   "metadata": {},
   "source": [
    "Print de waarden van S"
   ]
  },
  {
   "cell_type": "code",
   "execution_count": null,
   "metadata": {},
   "outputs": [],
   "source": []
  },
  {
   "cell_type": "markdown",
   "metadata": {},
   "source": [
    "**verdieping** Het verschil tussen lists, tuples en sets is belangrijk om te weten. Je kunt de eigenschappen van deze type ook mooi gebruiken voor slimme dingen zoals de volgende code;\n",
    "\n",
    "Kijk naar de volgende code en probeer te voorspellen wat er gaat gebeuren. Run daarna de code en kijk of het antwoord klopt met je verwachting."
   ]
  },
  {
   "cell_type": "code",
   "execution_count": null,
   "metadata": {},
   "outputs": [],
   "source": [
    "print(set(list((1,4,3,4,5,1)))) # CODE NIET VERWIJDEREN"
   ]
  },
  {
   "cell_type": "markdown",
   "metadata": {},
   "source": [
    "We hebben eerst een tuple vanwege de () met de waarden 1,4,3,4,5,1. Door er een list van te maken mogen we de waardes aanpassen (en hebben we in feite van (1,2,3,4,5,1) de list [1,2,3,4,5,1] gemaakt. Daarna maken we een set van de list waardoor enkel de unieke waardes meegenomen worden. We houden dan een set {1,3,4,5} over."
   ]
  },
  {
   "cell_type": "markdown",
   "metadata": {},
   "source": [
    "### 9. objecten - verdieping\n",
    "\n",
    "Alles in Python is een object. Dit is een wezenlijk verschil met veel andere programmeertalen. Als je dieper op Python ingaat is het essentieel om te weten dat alle datatypes meteen objecten zijn. We illustreren dit met de dir() functie. Schrik niet van de output maar neem uit deze oefening mee dat alle uitvoer die je straks ziet verschijnen functies zijn die bij het type int(eger) horen. \n",
    "\n",
    "Voer de volgende code uit;"
   ]
  },
  {
   "cell_type": "code",
   "execution_count": null,
   "metadata": {},
   "outputs": [],
   "source": [
    "i = 1 #we definieren een integer met waarde 1\n",
    "dir(i) #en we printen alle ingebouwde functionaliteit"
   ]
  }
 ],
 "metadata": {
  "kernelspec": {
   "display_name": "Python 3",
   "language": "python",
   "name": "python3"
  },
  "language_info": {
   "codemirror_mode": {
    "name": "ipython",
    "version": 3
   },
   "file_extension": ".py",
   "mimetype": "text/x-python",
   "name": "python",
   "nbconvert_exporter": "python",
   "pygments_lexer": "ipython3",
   "version": "3.8.5"
  }
 },
 "nbformat": 4,
 "nbformat_minor": 2
}
