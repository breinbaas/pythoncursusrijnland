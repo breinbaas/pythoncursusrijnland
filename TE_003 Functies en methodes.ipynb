{
 "cells": [
  {
   "cell_type": "markdown",
   "metadata": {},
   "source": [
    "breinbaas | revisie 1 | 30-09-2019 \n",
    "\n",
    "# Opdrachten - Python methodes en functies\n",
    "\n",
    "In dit notebook gaan we aan de slag met de Python methodes en functies. Probeer de vragen zoveel mogelijk zelf te beantwoorden maar kom je er echt niet uit vraag dan een mede cursist of de leraar of bekijk het antwoord op dit notebook.\n",
    "\n",
    "### 1 methodes\n",
    "\n",
    "Maak een methode genaamd print_naam die je naam print en roep deze methode via een for loop 5x aan."
   ]
  },
  {
   "cell_type": "code",
   "execution_count": null,
   "metadata": {},
   "outputs": [],
   "source": []
  },
  {
   "cell_type": "markdown",
   "metadata": {},
   "source": [
    "Pas de methode dusdanig aan dat je je naam in de functie kunt invullen en dat deze naam 5x geprint wordt. De volgende code moet bijvoorbeeld 5x de naam Chris printen;\n",
    "\n",
    "<pre>print_naam(\"Chris\")</pre>"
   ]
  },
  {
   "cell_type": "code",
   "execution_count": null,
   "metadata": {},
   "outputs": [],
   "source": []
  },
  {
   "cell_type": "markdown",
   "metadata": {},
   "source": [
    "Pas de methode aan zodat je ook het aantal keren dat de naam geprint wordt op kunt geven. De volgende code moet de naam Chris 3 maal printen.\n",
    "\n",
    "<pre>print_naam(\"Chris\", 3)</pre>"
   ]
  },
  {
   "cell_type": "code",
   "execution_count": null,
   "metadata": {},
   "outputs": [],
   "source": []
  },
  {
   "cell_type": "markdown",
   "metadata": {},
   "source": [
    "Pas de methode dusdanig aan dat als de gebruiker niet het aantal keren zelf opgeeft je standaard op 5x printen terugvalt. De methode heeft dus een default waarde."
   ]
  },
  {
   "cell_type": "code",
   "execution_count": null,
   "metadata": {},
   "outputs": [],
   "source": []
  },
  {
   "cell_type": "markdown",
   "metadata": {},
   "source": [
    "Maak je methode compleet door een nette beschrijving toe te voegen volgens de Python manier. Let op dat je je functie kort uitlegt en de parameters evenals de uitvoer toelicht. Test je beschrijving met de <pre>help()</pre> functie."
   ]
  },
  {
   "cell_type": "code",
   "execution_count": null,
   "metadata": {},
   "outputs": [],
   "source": []
  },
  {
   "cell_type": "markdown",
   "metadata": {},
   "source": [
    "### 2 functies\n",
    "\n",
    "Maak een functie die bepaalt of een getal door drie deelbaar is. De uitvoer van de functie moet de string \"deelbaar door 3\" of \"niet deelbaar door 3\" zijn. Denk hierbij aan de rest functie, bv 4%2 = 0 (rest 0) en 5%2 = 1 (rest 1) . Probeer je functie uit met een aantal getallen."
   ]
  },
  {
   "cell_type": "code",
   "execution_count": null,
   "metadata": {},
   "outputs": [],
   "source": []
  },
  {
   "cell_type": "code",
   "execution_count": null,
   "metadata": {},
   "outputs": [],
   "source": []
  },
  {
   "cell_type": "markdown",
   "metadata": {},
   "source": [
    "Breid de functie uit door zowel de string \"deelbaar door 3\" of \"niet deelbaar door 3\" als de rest van de deling mee te geven (bv. 7 zou (\"niet deelbaar door 3\", 1) als resultaat moeten geven (immers, de rest van 7/3 = 1). Je funtie resultaat bestaat dus uit 2 waarden (of een lijst / set met 2 waarden)."
   ]
  },
  {
   "cell_type": "code",
   "execution_count": null,
   "metadata": {},
   "outputs": [],
   "source": []
  },
  {
   "cell_type": "code",
   "execution_count": null,
   "metadata": {},
   "outputs": [],
   "source": []
  },
  {
   "cell_type": "markdown",
   "metadata": {},
   "source": [
    "Voorspel de werking van de volgende code;"
   ]
  },
  {
   "cell_type": "code",
   "execution_count": null,
   "metadata": {},
   "outputs": [],
   "source": [
    "def f(naam):\n",
    "    result = \"\"\n",
    "    for i in range(len(naam)-1, -1, -1):\n",
    "        result += naam[i]\n",
    "    return result"
   ]
  },
  {
   "cell_type": "code",
   "execution_count": null,
   "metadata": {},
   "outputs": [],
   "source": []
  },
  {
   "cell_type": "markdown",
   "metadata": {},
   "source": [
    "Kun je de onderstaande code herschrijven door in methodes / functies, lijsten en for loops te denken?"
   ]
  },
  {
   "cell_type": "code",
   "execution_count": null,
   "metadata": {},
   "outputs": [],
   "source": [
    "naam = \"Rob\"\n",
    "if naam[0] == \"R\":\n",
    "    print(\"De naam %s begint met een R!\" % naam)\n",
    "naam = \"Chris\"\n",
    "if naam[0] == \"R\":\n",
    "    print(\"De naam %s begint met een R!\" % naam)\n",
    "naam = \"Ricardo\"\n",
    "if naam[0] == \"R\":\n",
    "    print(\"De naam %s begint met een R!\" % naam)"
   ]
  },
  {
   "cell_type": "code",
   "execution_count": null,
   "metadata": {
    "scrolled": true
   },
   "outputs": [],
   "source": []
  },
  {
   "cell_type": "markdown",
   "metadata": {},
   "source": [
    "### power.csv!\n",
    "\n",
    "We gaan aan de slag met jullie eigen databestand. De opdracht is in feite al terug te vinden in de DEMO code die jullie beschikbaar hebben maar voor het opbouwen van je kennisniveau wil ik je vragen om het zelf te programmeren. Gebruik de hints en tips die gegeven worden!\n",
    "\n",
    "De opdracht is als volgt, lees het bestand data/power.csv in en sla de timestamp en power meting op in een lijst naar voorkeur. Als je meer uitdaging wilt kun je ook de datums inlezen. \n",
    "\n",
    "Maak een functie die een deel van de data kan plotten in een grafiek. Je moet een index op kunnen geven waar de grafiek moet beginnen (bv vanaf het 10de element) en een index waarop de grafiek moet eindigen (bv tot het 30 ste element). \n",
    "\n",
    "Ben je klaar voor meer uitdaging voeg dan de volgende elementen toe;\n",
    "\n",
    "* laat de functie een begin- en einddatum ontvangen en selecteer binnen die data\n",
    "* voeg foutafhandeling toe\n",
    "* maak een goede docstring\n",
    "* bereken het gemiddelde en voeg de lijn van het gemiddelde toe aan de grafiek\n",
    "\n",
    "#### Tips\n",
    "\n",
    "* bestanden inlezen -> https://www.google.com/search?channel=fs&client=ubuntu&q=read+files+python\n",
    "* het datetime format -> https://www.w3schools.com/python/python_datetime.asp\n",
    "* plotten in python -> https://matplotlib.org/2.0.2/gallery.html\n",
    "\n",
    "En als je vastloopt of vragen hebt dan weet je me te bereiken! Succes!"
   ]
  }
 ],
 "metadata": {
  "kernelspec": {
   "display_name": "Python 3",
   "language": "python",
   "name": "python3"
  },
  "language_info": {
   "codemirror_mode": {
    "name": "ipython",
    "version": 3
   },
   "file_extension": ".py",
   "mimetype": "text/x-python",
   "name": "python",
   "nbconvert_exporter": "python",
   "pygments_lexer": "ipython3",
   "version": "3.8.5"
  }
 },
 "nbformat": 4,
 "nbformat_minor": 2
}
