{
 "cells": [
  {
   "cell_type": "markdown",
   "metadata": {},
   "source": [
    "### Waarom functies en methodes?"
   ]
  },
  {
   "cell_type": "code",
   "execution_count": 1,
   "metadata": {},
   "outputs": [
    {
     "name": "stdout",
     "output_type": "stream",
     "text": [
      "De oppervlakte van een rechthoek met breedte 5 cm en hoogte 10 cm bedraagt 50 cm2\n",
      "De oppervlakte van een rechthoek met breedte 4 cm en hoogte 8 cm bedraagt 32 cm2\n"
     ]
    }
   ],
   "source": [
    "b, h = 5, 10\n",
    "a = b*h\n",
    "print(\"De oppervlakte van een rechthoek met breedte %d cm en hoogte %d cm bedraagt %d cm2\" % (b,h,a))\n",
    "\n",
    "b, h = 4, 8\n",
    "a = b*h\n",
    "print(\"De oppervlakte van een rechthoek met breedte %d cm en hoogte %d cm bedraagt %d cm2\" % (b,h,a))    "
   ]
  },
  {
   "cell_type": "code",
   "execution_count": 2,
   "metadata": {},
   "outputs": [
    {
     "name": "stdout",
     "output_type": "stream",
     "text": [
      "De oppervlakte van een rechthoek met breedte 5 cm en hoogte 10 cm bedraagt 50 cm2\n",
      "De oppervlakte van een rechthoek met breedte 4 cm en hoogte 8 cm bedraagt 32 cm2\n"
     ]
    }
   ],
   "source": [
    "def oppervlakte(b, h): \n",
    "    print(\"De oppervlakte van een rechthoek met breedte %d cm en hoogte %d cm bedraagt %d cm2\" % (b,h,b*h))\n",
    "\n",
    "oppervlakte(5,10)\n",
    "oppervlakte(4,8)"
   ]
  },
  {
   "cell_type": "markdown",
   "metadata": {},
   "source": [
    "### Functies zijn overal!"
   ]
  },
  {
   "cell_type": "code",
   "execution_count": 8,
   "metadata": {},
   "outputs": [],
   "source": [
    "s = \"Rob\""
   ]
  },
  {
   "cell_type": "code",
   "execution_count": 6,
   "metadata": {},
   "outputs": [
    {
     "name": "stdout",
     "output_type": "stream",
     "text": [
      "ROB\n",
      "rob\n",
      "Robert\n"
     ]
    }
   ],
   "source": [
    "print(s.upper())\n",
    "print(s.lower())\n",
    "print(s.replace('b', 'bert'))"
   ]
  },
  {
   "cell_type": "code",
   "execution_count": null,
   "metadata": {},
   "outputs": [],
   "source": [
    "def f(x):\n",
    "    return x**2\n",
    "\n",
    "x = 2\n",
    "x = f(x)\n",
    "print(x)"
   ]
  },
  {
   "cell_type": "markdown",
   "metadata": {},
   "source": [
    "### Functie of methode?"
   ]
  },
  {
   "cell_type": "code",
   "execution_count": 14,
   "metadata": {},
   "outputs": [
    {
     "name": "stdout",
     "output_type": "stream",
     "text": [
      "i heeft waarde 3\n",
      "None\n"
     ]
    }
   ],
   "source": [
    "def m(i):\n",
    "    print(\"i heeft waarde %d\" % i)\n",
    "    \n",
    "def f(i):\n",
    "    return i**2\n",
    "\n",
    "a = m(3)\n",
    "print(a)"
   ]
  },
  {
   "cell_type": "markdown",
   "metadata": {},
   "source": [
    "### Voorbeelden van het gebruik van functies of methodes"
   ]
  },
  {
   "cell_type": "code",
   "execution_count": null,
   "metadata": {},
   "outputs": [],
   "source": [
    "def rapporteer(leeftijd):\n",
    "    print(\"-\"*80)\n",
    "    print(\"welkom bij deze service!\")\n",
    "    print(\"uw leeftijd is: %d\" % leeftijd)\n",
    "    if leeftijd < 18:\n",
    "        print(\"u bent minderjarig\")\n",
    "        print(\"dat betekent o.a. dat u nog geen alcohol mag drinken!\")\n",
    "    else:\n",
    "        print(\"u bent volwassen (in de naam van de wet dan..)\")\n",
    "        print(\"dat betekent o.a. dat u alcohol mag drinken!\")\n",
    "        print(\"maar drink niet teveel aub...\")        \n",
    "    \n",
    "    print(\"bedankt voor het raadplegen van deze service!\")\n",
    "    print(\"-\"*80)"
   ]
  },
  {
   "cell_type": "code",
   "execution_count": null,
   "metadata": {},
   "outputs": [],
   "source": [
    "for leeftijd in [10, 18, 100]:\n",
    "    rapporteer(leeftijd)"
   ]
  },
  {
   "cell_type": "code",
   "execution_count": null,
   "metadata": {},
   "outputs": [],
   "source": [
    "def f(x):\n",
    "    return x**2 - 2*x - 4\n",
    "\n",
    "xs = [0,1,2,3,4]\n",
    "for x in xs:\n",
    "    print(x, f(x))"
   ]
  },
  {
   "cell_type": "markdown",
   "metadata": {},
   "source": [
    "### ik schrijf nu een functie voor de leeftijd..."
   ]
  },
  {
   "cell_type": "code",
   "execution_count": null,
   "metadata": {
    "scrolled": true
   },
   "outputs": [],
   "source": [
    "for leeftijd in [9, 11, 21]:\n",
    "    rapporteer(leeftijd)"
   ]
  },
  {
   "cell_type": "markdown",
   "metadata": {},
   "source": [
    "#### Live coding van een functie\n",
    "\n",
    "![wrijvingsgetal](img/wrijvingsgetal.png)"
   ]
  },
  {
   "cell_type": "code",
   "execution_count": 20,
   "metadata": {},
   "outputs": [],
   "source": [
    "def grondsoort(rf):\n",
    "    lijst = [(0.6, 'grofzand'),(0.8,'middelmatig zand')]\n",
    "    for regel in lijst:\n",
    "        # regel = (0.8, 'middelmatig zand')\n",
    "        if rf <= regel[0]:\n",
    "            return regel[1]\n",
    "    return 'onbekend'"
   ]
  },
  {
   "cell_type": "code",
   "execution_count": 21,
   "metadata": {},
   "outputs": [
    {
     "data": {
      "text/plain": [
       "'onbekend'"
      ]
     },
     "execution_count": 21,
     "metadata": {},
     "output_type": "execute_result"
    }
   ],
   "source": [
    "grondsoort(0.9)"
   ]
  },
  {
   "cell_type": "markdown",
   "metadata": {},
   "source": [
    "### Default waarden meegeven"
   ]
  },
  {
   "cell_type": "code",
   "execution_count": 23,
   "metadata": {},
   "outputs": [
    {
     "name": "stdout",
     "output_type": "stream",
     "text": [
      "4\n",
      "8\n"
     ]
    }
   ],
   "source": [
    "def f(i, j=2): #default \n",
    "    return i**j #i^j\n",
    "    \n",
    "print(f(2))\n",
    "print(f(2,3))   #override"
   ]
  },
  {
   "cell_type": "markdown",
   "metadata": {},
   "source": [
    "maar let op de volgorde!"
   ]
  },
  {
   "cell_type": "code",
   "execution_count": 24,
   "metadata": {
    "scrolled": true
   },
   "outputs": [
    {
     "ename": "SyntaxError",
     "evalue": "non-default argument follows default argument (<ipython-input-24-43a7a84f09bf>, line 1)",
     "output_type": "error",
     "traceback": [
      "\u001b[1;36m  File \u001b[1;32m\"<ipython-input-24-43a7a84f09bf>\"\u001b[1;36m, line \u001b[1;32m1\u001b[0m\n\u001b[1;33m    def f(i=2, j):\u001b[0m\n\u001b[1;37m          ^\u001b[0m\n\u001b[1;31mSyntaxError\u001b[0m\u001b[1;31m:\u001b[0m non-default argument follows default argument\n"
     ]
    }
   ],
   "source": [
    "def f(i=2, j):\n",
    "    return i**j\n",
    "\n",
    "print(f(2))"
   ]
  },
  {
   "cell_type": "markdown",
   "metadata": {},
   "source": [
    "### Voorbeeld van default waarden in de praktijk"
   ]
  },
  {
   "cell_type": "code",
   "execution_count": null,
   "metadata": {},
   "outputs": [],
   "source": [
    "def methode_robertson(qc):\n",
    "    return \"grondsoort volgens robertson\"\n",
    "\n",
    "def methode_nen5104(qc):\n",
    "    return \"grondsoort volgens nen5104\"\n",
    "\n",
    "def methode_whatever(qc):\n",
    "    return \"grondsoort volgens whatever\"\n",
    "\n",
    "def grondsoort(qc, methode='robertson'):\n",
    "    if methode == 'robertson':\n",
    "        return methode_robertson(qc)\n",
    "    elif methode == 'nen5104':\n",
    "        return methode_nen5104(qc)\n",
    "    elif methode == 'whatever':\n",
    "        return methode_whatever(qc)\n",
    "    return \"onbekende methode, gebruik robertson, nen5104 of whatever\""
   ]
  },
  {
   "cell_type": "markdown",
   "metadata": {},
   "source": [
    "### Functies duidelijk presenteren"
   ]
  },
  {
   "cell_type": "code",
   "execution_count": 27,
   "metadata": {},
   "outputs": [],
   "source": [
    "def my_power_func(i, j=2):\n",
    "    \"\"\"Deze functie geeft i^j terug.\n",
    "    \n",
    "    Args:\n",
    "        i (int): getal\n",
    "        j (int): macht (default = 2)\n",
    "    \n",
    "    Returns:\n",
    "        int: i tot de macht j\n",
    "    \"\"\"    \n",
    "    return i**j\n",
    "\n",
    "# GOOGLE DOC STRINGS"
   ]
  },
  {
   "cell_type": "code",
   "execution_count": 28,
   "metadata": {},
   "outputs": [
    {
     "name": "stdout",
     "output_type": "stream",
     "text": [
      "Help on function my_power_func in module __main__:\n",
      "\n",
      "my_power_func(i, j=2)\n",
      "    Deze functie geeft i^j terug.\n",
      "    \n",
      "    Input:\n",
      "    i = getal\n",
      "    j = macht (default = 2)\n",
      "    \n",
      "    Output:\n",
      "    i tot de macht j\n",
      "\n"
     ]
    }
   ],
   "source": [
    "help(my_power_func)"
   ]
  },
  {
   "cell_type": "markdown",
   "metadata": {},
   "source": [
    "### Weet je zeker dat er niet al een functie voor is?"
   ]
  },
  {
   "cell_type": "code",
   "execution_count": 29,
   "metadata": {},
   "outputs": [],
   "source": [
    "import math"
   ]
  },
  {
   "cell_type": "code",
   "execution_count": 30,
   "metadata": {},
   "outputs": [
    {
     "data": {
      "text/plain": [
       "8.0"
      ]
     },
     "execution_count": 30,
     "metadata": {},
     "output_type": "execute_result"
    }
   ],
   "source": [
    "math.pow(2,3)"
   ]
  },
  {
   "cell_type": "code",
   "execution_count": 31,
   "metadata": {},
   "outputs": [
    {
     "name": "stdout",
     "output_type": "stream",
     "text": [
      "Help on built-in function pow in module math:\n",
      "\n",
      "pow(x, y, /)\n",
      "    Return x**y (x to the power of y).\n",
      "\n"
     ]
    }
   ],
   "source": [
    "help(math.pow)"
   ]
  },
  {
   "cell_type": "markdown",
   "metadata": {},
   "source": [
    "### Daarom eerder voor beschikbare functies kiezen!"
   ]
  },
  {
   "cell_type": "code",
   "execution_count": 32,
   "metadata": {},
   "outputs": [
    {
     "name": "stdout",
     "output_type": "stream",
     "text": [
      "3.2600115999998707\n",
      "4.416101099999878\n"
     ]
    }
   ],
   "source": [
    "import timeit\n",
    "\n",
    "def test_math_pow():\n",
    "    math.pow(2,3)\n",
    "    \n",
    "def test_my_pow():\n",
    "    my_power_func(2,3) #2**3 LANGZAMER DAN math.pow(2,3) # c \n",
    "    \n",
    "print(timeit.timeit(\"test_math_pow()\", number=10000000, globals=globals()))\n",
    "print(timeit.timeit(\"test_my_pow()\", number=10000000, globals=globals()))"
   ]
  },
  {
   "cell_type": "markdown",
   "metadata": {},
   "source": [
    "### Functies met meerdere resultaten"
   ]
  },
  {
   "cell_type": "code",
   "execution_count": 33,
   "metadata": {},
   "outputs": [
    {
     "name": "stdout",
     "output_type": "stream",
     "text": [
      "(4, 8, 16)\n"
     ]
    }
   ],
   "source": [
    "def f(i):\n",
    "    return (i**2, i**3, i**4)\n",
    "\n",
    "answer = f(2)\n",
    "print(answer)"
   ]
  },
  {
   "cell_type": "code",
   "execution_count": 36,
   "metadata": {},
   "outputs": [
    {
     "name": "stdout",
     "output_type": "stream",
     "text": [
      "16\n"
     ]
    }
   ],
   "source": [
    "print(answer[-1])"
   ]
  },
  {
   "cell_type": "code",
   "execution_count": 37,
   "metadata": {},
   "outputs": [
    {
     "name": "stdout",
     "output_type": "stream",
     "text": [
      "8\n"
     ]
    }
   ],
   "source": [
    "i2, i3, i4 = f(2) #(4,8,16)\n",
    "print(i3)"
   ]
  },
  {
   "cell_type": "code",
   "execution_count": 38,
   "metadata": {},
   "outputs": [
    {
     "name": "stdout",
     "output_type": "stream",
     "text": [
      "16\n"
     ]
    }
   ],
   "source": [
    "_, _, i = f(2)\n",
    "print(i)"
   ]
  },
  {
   "cell_type": "markdown",
   "metadata": {},
   "source": [
    "### functies bij power.csv"
   ]
  },
  {
   "cell_type": "code",
   "execution_count": 45,
   "metadata": {},
   "outputs": [],
   "source": [
    "# eerst even inlezen\n",
    "from datetime import datetime\n",
    "\n",
    "def read_data(filename):\n",
    "    lines = open(filename).readlines()\n",
    "    ts, dt, value = [], [], []\n",
    "    for line in lines[1:]:\n",
    "        args = line.split(',')\n",
    "        ts.append(args[0])\n",
    "        dt.append(datetime.strptime(args[1], '%Y-%m-%d %H:%M:%S'))\n",
    "        value.append(float(args[2]))\n",
    "    return ts, dt, value\n",
    "\n",
    "ts, dt, value = read_data('data/power.csv')"
   ]
  },
  {
   "cell_type": "code",
   "execution_count": 46,
   "metadata": {},
   "outputs": [],
   "source": [
    "def print_gemiddelde_over_reeks(data, index1, index2):\n",
    "    selectie = data[index1:index2]\n",
    "    print(\"Gemiddelde = \", sum(selectie) / (index2 - index1))"
   ]
  },
  {
   "cell_type": "code",
   "execution_count": 47,
   "metadata": {},
   "outputs": [
    {
     "name": "stdout",
     "output_type": "stream",
     "text": [
      "Gemiddelde =  -4.347245464919792\n"
     ]
    }
   ],
   "source": [
    "print_gemiddelde_over_reeks(value, 10, 20)"
   ]
  },
  {
   "cell_type": "code",
   "execution_count": 48,
   "metadata": {},
   "outputs": [
    {
     "name": "stdout",
     "output_type": "stream",
     "text": [
      "[-4.344091545121712, -4.345018174903413, -4.345664808812758, -4.362617958420516, -4.3350656230720945, -4.346337222938116, -4.345895282883454, -4.353907607636076, -4.354082094046248, -4.339774331363531]\n"
     ]
    }
   ],
   "source": [
    "print(value[10:20])"
   ]
  },
  {
   "cell_type": "markdown",
   "metadata": {},
   "source": [
    "#### Danger!"
   ]
  },
  {
   "cell_type": "code",
   "execution_count": 50,
   "metadata": {},
   "outputs": [
    {
     "ename": "ZeroDivisionError",
     "evalue": "division by zero",
     "output_type": "error",
     "traceback": [
      "\u001b[1;31m---------------------------------------------------------------------------\u001b[0m",
      "\u001b[1;31mZeroDivisionError\u001b[0m                         Traceback (most recent call last)",
      "\u001b[1;32m<ipython-input-50-c077f321cd4c>\u001b[0m in \u001b[0;36m<module>\u001b[1;34m\u001b[0m\n\u001b[1;32m----> 1\u001b[1;33m \u001b[0mprint_gemiddelde_over_reeks\u001b[0m\u001b[1;33m(\u001b[0m\u001b[0mvalue\u001b[0m\u001b[1;33m,\u001b[0m \u001b[1;36m0\u001b[0m\u001b[1;33m,\u001b[0m \u001b[1;36m0\u001b[0m\u001b[1;33m)\u001b[0m\u001b[1;33m\u001b[0m\u001b[1;33m\u001b[0m\u001b[0m\n\u001b[0m",
      "\u001b[1;32m<ipython-input-46-116eed78268a>\u001b[0m in \u001b[0;36mprint_gemiddelde_over_reeks\u001b[1;34m(data, index1, index2)\u001b[0m\n\u001b[0;32m      1\u001b[0m \u001b[1;32mdef\u001b[0m \u001b[0mprint_gemiddelde_over_reeks\u001b[0m\u001b[1;33m(\u001b[0m\u001b[0mdata\u001b[0m\u001b[1;33m,\u001b[0m \u001b[0mindex1\u001b[0m\u001b[1;33m,\u001b[0m \u001b[0mindex2\u001b[0m\u001b[1;33m)\u001b[0m\u001b[1;33m:\u001b[0m\u001b[1;33m\u001b[0m\u001b[1;33m\u001b[0m\u001b[0m\n\u001b[0;32m      2\u001b[0m     \u001b[0mselectie\u001b[0m \u001b[1;33m=\u001b[0m \u001b[0mdata\u001b[0m\u001b[1;33m[\u001b[0m\u001b[0mindex1\u001b[0m\u001b[1;33m:\u001b[0m\u001b[0mindex2\u001b[0m\u001b[1;33m]\u001b[0m\u001b[1;33m\u001b[0m\u001b[1;33m\u001b[0m\u001b[0m\n\u001b[1;32m----> 3\u001b[1;33m     \u001b[0mprint\u001b[0m\u001b[1;33m(\u001b[0m\u001b[1;34m\"Gemiddelde = \"\u001b[0m\u001b[1;33m,\u001b[0m \u001b[0msum\u001b[0m\u001b[1;33m(\u001b[0m\u001b[0mselectie\u001b[0m\u001b[1;33m)\u001b[0m \u001b[1;33m/\u001b[0m \u001b[1;33m(\u001b[0m\u001b[0mindex2\u001b[0m \u001b[1;33m-\u001b[0m \u001b[0mindex1\u001b[0m\u001b[1;33m)\u001b[0m\u001b[1;33m)\u001b[0m\u001b[1;33m\u001b[0m\u001b[1;33m\u001b[0m\u001b[0m\n\u001b[0m",
      "\u001b[1;31mZeroDivisionError\u001b[0m: division by zero"
     ]
    }
   ],
   "source": [
    "print_gemiddelde_over_reeks(value, 0, 0)"
   ]
  },
  {
   "cell_type": "code",
   "execution_count": 51,
   "metadata": {},
   "outputs": [],
   "source": [
    "def print_gemiddelde_over_reeks(data, index1, index2):\n",
    "    if (index2 - index1) > 0:\n",
    "        selectie = data[index1:index2]\n",
    "        print(\"Gemiddelde = \", sum(selectie) / (index2 - index1))\n",
    "    else:\n",
    "        print(\"Het aantal elementen is nul dus ik kan geen gemiddelde bepalen!\")"
   ]
  },
  {
   "cell_type": "code",
   "execution_count": 55,
   "metadata": {},
   "outputs": [
    {
     "name": "stdout",
     "output_type": "stream",
     "text": [
      "Het aantal elementen is nul dus ik kan geen gemiddelde bepalen!\n"
     ]
    }
   ],
   "source": [
    "print_gemiddelde_over_reeks(value, 0, 0)"
   ]
  },
  {
   "cell_type": "markdown",
   "metadata": {},
   "source": [
    "#### Pro preview"
   ]
  },
  {
   "cell_type": "code",
   "execution_count": null,
   "metadata": {},
   "outputs": [],
   "source": [
    "from typing import List\n",
    "\n",
    "def print_gemiddelde_over_reeks(data: List, index1: int, index2: int) -> float:\n",
    "    \"\"\"\n",
    "    This functions returns the average over selected elements in a list\n",
    "    \n",
    "    Args:\n",
    "        data (List): list with the arguments\n",
    "        index1 (int): left index in the list\n",
    "        index2 (int): right index in the list\n",
    "        \n",
    "    Returns:\n",
    "        float: average over the elements in data[index1:index2]\n",
    "    \"\"\"\n",
    "    if (index2 - index1) > 0:\n",
    "        selectie = data[index1:index2]\n",
    "        print(\"Gemiddelde = \", sum(selectie) / (index2 - index1))\n",
    "    else:\n",
    "        print(\"Het aantal elementen is nul dus ik kan geen gemiddelde bepalen!\")"
   ]
  },
  {
   "cell_type": "code",
   "execution_count": 53,
   "metadata": {},
   "outputs": [
    {
     "name": "stdout",
     "output_type": "stream",
     "text": [
      "<class 'int'>\n",
      "<class 'float'>\n"
     ]
    }
   ],
   "source": [
    "a = 1\n",
    "print(type(a))\n",
    "a += 0.2\n",
    "print(type(a))"
   ]
  },
  {
   "cell_type": "code",
   "execution_count": null,
   "metadata": {},
   "outputs": [],
   "source": []
  }
 ],
 "metadata": {
  "kernelspec": {
   "display_name": "Python 3",
   "language": "python",
   "name": "python3"
  },
  "language_info": {
   "codemirror_mode": {
    "name": "ipython",
    "version": 3
   },
   "file_extension": ".py",
   "mimetype": "text/x-python",
   "name": "python",
   "nbconvert_exporter": "python",
   "pygments_lexer": "ipython3",
   "version": "3.8.5"
  }
 },
 "nbformat": 4,
 "nbformat_minor": 2
}
