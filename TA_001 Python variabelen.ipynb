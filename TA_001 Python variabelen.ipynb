{
 "cells": [
  {
   "cell_type": "markdown",
   "metadata": {},
   "source": [
    "breinbaas | revisie 3 | 04-12-2020 \n",
    "\n",
    "# Opdrachten - Python variabelen\n",
    "\n",
    "In dit notebook gaan we aan de slag met de Python variabelen. Probeer de vragen zoveel mogelijk zelf te beantwoorden maar kom je er echt niet uit vraag dan een mede cursist of de leraar of bekijk het antwoord op dit notebook.\n",
    "\n",
    "### 1 integers\n",
    "\n",
    "#### 1.1 integers initialiseren en rekenen\n",
    "\n",
    "Initialiseer een variabele met naam i en waarde 1251"
   ]
  },
  {
   "cell_type": "code",
   "execution_count": 3,
   "metadata": {},
   "outputs": [],
   "source": [
    "i = 1251"
   ]
  },
  {
   "cell_type": "markdown",
   "metadata": {},
   "source": [
    "Initialiseer een variabele met naam j en waarde 9034"
   ]
  },
  {
   "cell_type": "code",
   "execution_count": 1,
   "metadata": {},
   "outputs": [],
   "source": [
    "j=9034"
   ]
  },
  {
   "cell_type": "markdown",
   "metadata": {},
   "source": [
    "Bereken met Python de som en het verschil van de twee getallen"
   ]
  },
  {
   "cell_type": "code",
   "execution_count": 4,
   "metadata": {},
   "outputs": [
    {
     "data": {
      "text/plain": [
       "10285"
      ]
     },
     "execution_count": 4,
     "metadata": {},
     "output_type": "execute_result"
    }
   ],
   "source": [
    "i+j"
   ]
  },
  {
   "cell_type": "code",
   "execution_count": 5,
   "metadata": {},
   "outputs": [
    {
     "data": {
      "text/plain": [
       "-7783"
      ]
     },
     "execution_count": 5,
     "metadata": {},
     "output_type": "execute_result"
    }
   ],
   "source": [
    "i-j"
   ]
  },
  {
   "cell_type": "markdown",
   "metadata": {},
   "source": [
    "Maak een variabele k met waarde 5 en bereken het kwadraat."
   ]
  },
  {
   "cell_type": "code",
   "execution_count": 6,
   "metadata": {},
   "outputs": [
    {
     "data": {
      "text/plain": [
       "25"
      ]
     },
     "execution_count": 6,
     "metadata": {},
     "output_type": "execute_result"
    }
   ],
   "source": [
    "k=5\n",
    "k**2"
   ]
  },
  {
   "cell_type": "markdown",
   "metadata": {},
   "source": [
    "Bereken de som van i en j minus het kwadraat van k"
   ]
  },
  {
   "cell_type": "code",
   "execution_count": 7,
   "metadata": {},
   "outputs": [
    {
     "data": {
      "text/plain": [
       "10260"
      ]
     },
     "execution_count": 7,
     "metadata": {},
     "output_type": "execute_result"
    }
   ],
   "source": [
    "i + j - k**2"
   ]
  },
  {
   "cell_type": "markdown",
   "metadata": {},
   "source": [
    "Verzin je eigen berekeningen en ga na of Python zich houdt aan de rekenregels (bv vermenigvuldigen gaat voor optellen)."
   ]
  },
  {
   "cell_type": "code",
   "execution_count": 8,
   "metadata": {},
   "outputs": [
    {
     "data": {
      "text/plain": [
       "-4"
      ]
     },
     "execution_count": 8,
     "metadata": {},
     "output_type": "execute_result"
    }
   ],
   "source": [
    "1 - 4 * 2 + 3"
   ]
  },
  {
   "cell_type": "markdown",
   "metadata": {},
   "source": [
    "### 2. float\n",
    "\n",
    "#### 2.1 float initialiseren en rekenen\n",
    "\n",
    "Initialiseer een variabele f1 met waarde 3.14"
   ]
  },
  {
   "cell_type": "code",
   "execution_count": 9,
   "metadata": {},
   "outputs": [],
   "source": [
    "f1 = 3.14"
   ]
  },
  {
   "cell_type": "markdown",
   "metadata": {},
   "source": [
    "Initialiseer een variabele i als integer met waarde 2 en run de regel erna om te kijken wat het type is."
   ]
  },
  {
   "cell_type": "code",
   "execution_count": 10,
   "metadata": {},
   "outputs": [],
   "source": [
    "i = 2\n"
   ]
  },
  {
   "cell_type": "code",
   "execution_count": 11,
   "metadata": {},
   "outputs": [
    {
     "name": "stdout",
     "output_type": "stream",
     "text": [
      "<class 'int'>\n"
     ]
    }
   ],
   "source": [
    "print(type(i)) # CODE NIET VERWIJDEREN"
   ]
  },
  {
   "cell_type": "markdown",
   "metadata": {},
   "source": [
    "We zien dat i van het type 'int' (integer) is wat klopt omdat we een geheel getal hebben ingevoerd.\n",
    "\n",
    "Tel nu f1 op bij i en print de waarde van i met de print() functie"
   ]
  },
  {
   "cell_type": "code",
   "execution_count": 13,
   "metadata": {},
   "outputs": [],
   "source": [
    "i = i+f1 # of i+=f1"
   ]
  },
  {
   "cell_type": "markdown",
   "metadata": {},
   "source": [
    "Gebruik de eerder gebruikte print() en type() functie om opnieuw het type van i te bepalen"
   ]
  },
  {
   "cell_type": "code",
   "execution_count": 14,
   "metadata": {},
   "outputs": [
    {
     "name": "stdout",
     "output_type": "stream",
     "text": [
      "<class 'float'>\n"
     ]
    }
   ],
   "source": [
    "print(type(j))"
   ]
  },
  {
   "cell_type": "markdown",
   "metadata": {},
   "source": [
    "Wat valt je op?"
   ]
  },
  {
   "cell_type": "markdown",
   "metadata": {},
   "source": [
    "De variabele i was een integer en is door de berekening omgezet in een float.\n",
    "\n",
    "Dit is een eigenschap die maar weinig programmeertalen hebben. In een taal als C++ of C# is een type voor de rest van zijn bestaan van hetzelfde type en moet je expliciet een variabele naar een ander type 'casten' om ze om te zetten. Deze functionaliteit maakt Python een zeer geschikte taal voor het snel coderen van krachtige scripts en bibliotheken. \n",
    "\n",
    "**verdieping** Je kunt uiteraard ook van float naar integer maar moet je daarbij wel bewust zijn van een eigenaardigheid.\n",
    "\n",
    "De volgende code maakt van i/2, dat nu de waarde 2.57 heeft, weer een integer."
   ]
  },
  {
   "cell_type": "code",
   "execution_count": 15,
   "metadata": {},
   "outputs": [
    {
     "name": "stdout",
     "output_type": "stream",
     "text": [
      "2\n"
     ]
    }
   ],
   "source": [
    "i = int(i/2) # CODE NIET VERWIJDEREN\n",
    "print(i)   # CODE NIET VERWIJDEREN"
   ]
  },
  {
   "cell_type": "markdown",
   "metadata": {},
   "source": [
    "Wat valt je op?"
   ]
  },
  {
   "cell_type": "markdown",
   "metadata": {},
   "source": [
    "Je verwacht 3 als antwoord maar krijgt 2. Python rond blijkbaar naar beneden af."
   ]
  },
  {
   "cell_type": "markdown",
   "metadata": {},
   "source": [
    "Probeer hetzelfde eens met een negatief getal en kijk wat er gebeurt."
   ]
  },
  {
   "cell_type": "code",
   "execution_count": 22,
   "metadata": {},
   "outputs": [
    {
     "name": "stdout",
     "output_type": "stream",
     "text": [
      "-2\n"
     ]
    }
   ],
   "source": [
    "i = int(-2.9)\n",
    "print(i)"
   ]
  },
  {
   "cell_type": "markdown",
   "metadata": {},
   "source": [
    "Python zou Python niet zijn als er niet een functie was om toch te doen wat wij van afronden verwachten. De functie heet round en kun je hier in werking zien;"
   ]
  },
  {
   "cell_type": "code",
   "execution_count": 23,
   "metadata": {},
   "outputs": [
    {
     "data": {
      "text/plain": [
       "2"
      ]
     },
     "execution_count": 23,
     "metadata": {},
     "output_type": "execute_result"
    }
   ],
   "source": [
    "round(2.47) # CODE NIET VERWIJDEREN"
   ]
  },
  {
   "cell_type": "markdown",
   "metadata": {},
   "source": [
    "Probeer deze functie zelf uit met een aantal getallen om te kijken of je het eens bent met de werking."
   ]
  },
  {
   "cell_type": "code",
   "execution_count": 27,
   "metadata": {},
   "outputs": [
    {
     "name": "stdout",
     "output_type": "stream",
     "text": [
      "2\n",
      "-2\n",
      "-2\n",
      "-1\n"
     ]
    }
   ],
   "source": [
    "print(round(1.5))\n",
    "print(round(-1.5))\n",
    "print(round(-1.9))\n",
    "print(round(-1.1))"
   ]
  },
  {
   "cell_type": "markdown",
   "metadata": {},
   "source": [
    "### 3. string\n",
    "\n",
    "#### 3.1 string intialiseren en benaderen\n",
    "\n",
    "Initialiseer twee string variabelen met namen s1 en s2 en als waarde je voornaam en achternaam."
   ]
  },
  {
   "cell_type": "code",
   "execution_count": 28,
   "metadata": {},
   "outputs": [],
   "source": [
    "s1 = \"Rob\"\n",
    "s2 = \"van Putten\""
   ]
  },
  {
   "cell_type": "markdown",
   "metadata": {},
   "source": [
    "Combineer de strings door ze 'op te tellen' en op te slaan in de variabele s3. Print deze waarde."
   ]
  },
  {
   "cell_type": "code",
   "execution_count": 29,
   "metadata": {},
   "outputs": [
    {
     "name": "stdout",
     "output_type": "stream",
     "text": [
      "Robvan Putten\n"
     ]
    }
   ],
   "source": [
    "s3 = s1 + s2\n",
    "print(s3)"
   ]
  },
  {
   "cell_type": "markdown",
   "metadata": {},
   "source": [
    "Hoe zou je ontbreken van de spatie op kunnen vangen zonder s1 of s2 aan te passen?"
   ]
  },
  {
   "cell_type": "code",
   "execution_count": 30,
   "metadata": {},
   "outputs": [
    {
     "name": "stdout",
     "output_type": "stream",
     "text": [
      "Rob van Putten\n"
     ]
    }
   ],
   "source": [
    "s3 = s1 + \" \" + s2\n",
    "# of mooier s3 = f\"{s1} {s2}\"\n",
    "print(s3)"
   ]
  },
  {
   "cell_type": "markdown",
   "metadata": {},
   "source": [
    "In feite is een string niks anders dan een lijst met karakters. Het eerste karakter kun je benaderen op index 0. Hier kun je zien dat we de eerste letter van de voornaam vinden door het eerste element in de string s1 op te vragen;"
   ]
  },
  {
   "cell_type": "code",
   "execution_count": 31,
   "metadata": {},
   "outputs": [
    {
     "data": {
      "text/plain": [
       "'R'"
      ]
     },
     "execution_count": 31,
     "metadata": {},
     "output_type": "execute_result"
    }
   ],
   "source": [
    "s1[0]"
   ]
  },
  {
   "cell_type": "markdown",
   "metadata": {},
   "source": [
    "Kun je met deze informatie de tweede letter van je achternaam printen?"
   ]
  },
  {
   "cell_type": "code",
   "execution_count": 32,
   "metadata": {},
   "outputs": [
    {
     "data": {
      "text/plain": [
       "'a'"
      ]
     },
     "execution_count": 32,
     "metadata": {},
     "output_type": "execute_result"
    }
   ],
   "source": [
    "s2[1]"
   ]
  },
  {
   "cell_type": "markdown",
   "metadata": {},
   "source": [
    "#### 3.2 string functies\n",
    "\n",
    "Een string kent heel veel functies die kant en klaar meegeleverd worden. Kijk maar eens naar deze webpagina (zoek naar Built-in String Methods);\n",
    "\n",
    "https://www.tutorialspoint.com/python/python_strings.htm\n",
    "\n",
    "Kun je met deze functies twee dingen doen;\n",
    "\n",
    "* print je voornaam in enkel hoofdletters\n",
    "* bepalen of je naam uit numerieke karakters bestaat (je antwoord hier kan True of False zijn)"
   ]
  },
  {
   "cell_type": "code",
   "execution_count": 34,
   "metadata": {},
   "outputs": [
    {
     "name": "stdout",
     "output_type": "stream",
     "text": [
      "ROB\n",
      "False\n"
     ]
    }
   ],
   "source": [
    "print(s1.upper())\n",
    "print(s1.isnumeric())"
   ]
  },
  {
   "cell_type": "markdown",
   "metadata": {},
   "source": [
    "De laatste functie die interessant kan zijn is het bepalen van de lengte van de string. De functie staat hier uitgelegd;\n",
    "\n",
    "https://www.tutorialspoint.com/python/list_len.htm\n",
    "\n",
    "Kun je met de wetenschap dat een string in feite een lijst met karakters is en de tutorial informatie de lengte van je achternaam bepalen? Let daarbij op dat spaties ook als karakters geteld worden!"
   ]
  },
  {
   "cell_type": "code",
   "execution_count": 35,
   "metadata": {},
   "outputs": [
    {
     "name": "stdout",
     "output_type": "stream",
     "text": [
      "10\n"
     ]
    }
   ],
   "source": [
    "print(len(s2))"
   ]
  },
  {
   "cell_type": "markdown",
   "metadata": {},
   "source": [
    "#### 3.3 haakjes\n",
    "\n",
    "Er is geen verschil tussen\n",
    "\n",
    "s = \"abc\"\n",
    "\n",
    "of \n",
    "\n",
    "s = 'abc'\n",
    "\n",
    "Je kunt beide haken gebruiken maar zorg er wel voor de je met de juiste haak eindigt! Het volgende is dus niet ok;\n",
    "\n",
    "s = \"abc'\n",
    "\n",
    "Het grote voordeel hiervan is dat je eenvoudig haken in een string kunt toevoegen, bijvoorbeeld:\n",
    "\n",
    "s = \"De fotograaf maakte mooie foto's\" \n",
    "\n",
    "of\n",
    "\n",
    "s = 'Dit is \"mijn\" foto'\n",
    "\n",
    "Let wel, in andere programmeertalen is het volgende gebruikelijk\n",
    "\n",
    "* 's' wordt gebruikt voor een **enkel** karakter\n",
    "* \"abc\" wordt gebruikt voor woorden of zinnen\n",
    "\n",
    "In Python is het niet perse noodzakelijk om je hieraan te houden."
   ]
  },
  {
   "cell_type": "markdown",
   "metadata": {},
   "source": [
    "### 4. booleans\n",
    "\n",
    "#### 4.1 booleans initialiseren\n",
    "\n",
    "Bools kunnen enkel 0 of 1 zijn maar worden in Python als True en False opgeslagen. Let daarbij op de hoofdletter, die is verplicht. false of true zijn dus niet toegestaan. Booleans worden interessant bij if statements die we nog niet behandeld hebben dus we houden het kort nu.\n",
    "\n",
    "Initialiseer een variabele genaamd b met de waarde True"
   ]
  },
  {
   "cell_type": "code",
   "execution_count": 37,
   "metadata": {},
   "outputs": [],
   "source": [
    "b = True"
   ]
  },
  {
   "cell_type": "markdown",
   "metadata": {},
   "source": [
    "Print de waarde van b"
   ]
  },
  {
   "cell_type": "code",
   "execution_count": 38,
   "metadata": {},
   "outputs": [
    {
     "name": "stdout",
     "output_type": "stream",
     "text": [
      "True\n"
     ]
    }
   ],
   "source": [
    "print(b)"
   ]
  },
  {
   "cell_type": "markdown",
   "metadata": {},
   "source": [
    "**verdieping** Python is behoorlijk leesbaar als taal, kijk of je de volgende code (met veel onbekende dingen!) zou kunnen begrijpen... Run de code om te kijken of je aanname klopt."
   ]
  },
  {
   "cell_type": "code",
   "execution_count": 39,
   "metadata": {},
   "outputs": [
    {
     "name": "stdout",
     "output_type": "stream",
     "text": [
      "4\n"
     ]
    }
   ],
   "source": [
    "i = 2 # CODE NIET VERWIJDEREN\n",
    "kwadraat = True\n",
    "\n",
    "if kwadraat:\n",
    "    print(i**2) #of print(i*i)\n",
    "else:\n",
    "    print(i)    "
   ]
  },
  {
   "cell_type": "markdown",
   "metadata": {},
   "source": [
    "### 5. list\n",
    "\n",
    "#### 5.1 list initialiseren en benaderen\n",
    "\n",
    "Initialiseer een lijst met de naam l en de waarden 3.14, \"abc\", 5. Let hierbij op dat het in Python dus mogelijk is om een lijst te maken met verschillende types, hier een [float, string en int] "
   ]
  },
  {
   "cell_type": "code",
   "execution_count": 40,
   "metadata": {},
   "outputs": [],
   "source": [
    "l = [3.14, \"abc\", 5]"
   ]
  },
  {
   "cell_type": "markdown",
   "metadata": {},
   "source": [
    "Gebruik de indexen om de som te berekenen van het eerste en laatste element in de lijst"
   ]
  },
  {
   "cell_type": "code",
   "execution_count": 41,
   "metadata": {},
   "outputs": [
    {
     "name": "stdout",
     "output_type": "stream",
     "text": [
      "8.14\n"
     ]
    }
   ],
   "source": [
    "print(l[0] + l[-1])"
   ]
  },
  {
   "cell_type": "markdown",
   "metadata": {},
   "source": [
    "Voer de volgende code uit en kijk of je de foutmelding snapt. "
   ]
  },
  {
   "cell_type": "code",
   "execution_count": 42,
   "metadata": {},
   "outputs": [
    {
     "ename": "TypeError",
     "evalue": "unsupported operand type(s) for +: 'float' and 'str'",
     "output_type": "error",
     "traceback": [
      "\u001b[1;31m---------------------------------------------------------------------------\u001b[0m",
      "\u001b[1;31mTypeError\u001b[0m                                 Traceback (most recent call last)",
      "\u001b[1;32m<ipython-input-42-9f46d46d19c5>\u001b[0m in \u001b[0;36m<module>\u001b[1;34m\u001b[0m\n\u001b[1;32m----> 1\u001b[1;33m \u001b[0ml\u001b[0m\u001b[1;33m[\u001b[0m\u001b[1;36m0\u001b[0m\u001b[1;33m]\u001b[0m\u001b[1;33m+\u001b[0m\u001b[0ml\u001b[0m\u001b[1;33m[\u001b[0m\u001b[1;36m1\u001b[0m\u001b[1;33m]\u001b[0m\u001b[1;33m\u001b[0m\u001b[1;33m\u001b[0m\u001b[0m\n\u001b[0m",
      "\u001b[1;31mTypeError\u001b[0m: unsupported operand type(s) for +: 'float' and 'str'"
     ]
    }
   ],
   "source": [
    "l[0]+l[1]"
   ]
  },
  {
   "cell_type": "markdown",
   "metadata": {},
   "source": [
    "maak een lijst l1 met de elementen 2, 4 en 5 en een lijst l2 met elementen 3 en 7 "
   ]
  },
  {
   "cell_type": "code",
   "execution_count": 43,
   "metadata": {},
   "outputs": [],
   "source": [
    "l1 = [2,4,5]\n",
    "l2 = [3,7]"
   ]
  },
  {
   "cell_type": "markdown",
   "metadata": {},
   "source": [
    "Voeg de lijsten samen in een variabele genaamd l3"
   ]
  },
  {
   "cell_type": "code",
   "execution_count": 44,
   "metadata": {},
   "outputs": [],
   "source": [
    "l3 = l1 + l2"
   ]
  },
  {
   "cell_type": "markdown",
   "metadata": {},
   "source": [
    "Print alle elementen van l3 vanaf het tweede element"
   ]
  },
  {
   "cell_type": "code",
   "execution_count": 47,
   "metadata": {},
   "outputs": [
    {
     "data": {
      "text/plain": [
       "[4, 5, 3, 7]"
      ]
     },
     "execution_count": 47,
     "metadata": {},
     "output_type": "execute_result"
    }
   ],
   "source": [
    "l3[1:]"
   ]
  },
  {
   "cell_type": "markdown",
   "metadata": {},
   "source": [
    "Print de laatste twee elementen"
   ]
  },
  {
   "cell_type": "code",
   "execution_count": 48,
   "metadata": {},
   "outputs": [
    {
     "data": {
      "text/plain": [
       "[3, 7]"
      ]
     },
     "execution_count": 48,
     "metadata": {},
     "output_type": "execute_result"
    }
   ],
   "source": [
    "l3[-2:]"
   ]
  },
  {
   "cell_type": "markdown",
   "metadata": {},
   "source": [
    "Kijk of https://www.pythoncentral.io/how-to-sort-a-list-tuple-or-object-with-sorted-in-python/ en probeer de voorgaande lijst gesorteerd te printen."
   ]
  },
  {
   "cell_type": "code",
   "execution_count": 49,
   "metadata": {},
   "outputs": [
    {
     "name": "stdout",
     "output_type": "stream",
     "text": [
      "[2, 3, 4, 5, 7]\n"
     ]
    }
   ],
   "source": [
    "print(sorted(l3))"
   ]
  },
  {
   "cell_type": "markdown",
   "metadata": {},
   "source": [
    "### 6. dictionaries\n",
    "\n",
    "#### 6.1 initialiseer dictionaries en benader elementen\n",
    "\n",
    "Initialiseer een dictionary genaamd beesten met de keys 'huisdier' en 'naam' en waarden 'kat' en 'garfield' "
   ]
  },
  {
   "cell_type": "code",
   "execution_count": 50,
   "metadata": {},
   "outputs": [],
   "source": [
    "beesten = {'huisdier':'kat', 'naam':'garfield'}"
   ]
  },
  {
   "cell_type": "markdown",
   "metadata": {},
   "source": [
    "Met de functies keys() en values() kun je de waarden achterhalen van zowel de keys als de values. Probeer de keys functie uit op deze dictionary maar voorspel eerst zelf wat de uitvoer zal zijn. "
   ]
  },
  {
   "cell_type": "code",
   "execution_count": 51,
   "metadata": {},
   "outputs": [
    {
     "data": {
      "text/plain": [
       "dict_keys(['huisdier', 'naam'])"
      ]
     },
     "execution_count": 51,
     "metadata": {},
     "output_type": "execute_result"
    }
   ],
   "source": [
    "beesten.keys()"
   ]
  },
  {
   "cell_type": "code",
   "execution_count": 52,
   "metadata": {},
   "outputs": [
    {
     "data": {
      "text/plain": [
       "dict_values(['kat', 'garfield'])"
      ]
     },
     "execution_count": 52,
     "metadata": {},
     "output_type": "execute_result"
    }
   ],
   "source": [
    "beesten.values()"
   ]
  },
  {
   "cell_type": "markdown",
   "metadata": {},
   "source": [
    "Verander de waarde van huisdier in 'luie kat'"
   ]
  },
  {
   "cell_type": "code",
   "execution_count": 53,
   "metadata": {},
   "outputs": [],
   "source": [
    "beesten['huisdier'] = 'luie kat'"
   ]
  },
  {
   "cell_type": "markdown",
   "metadata": {},
   "source": [
    "Print de dictionary en kijk of de uitkomst klopt."
   ]
  },
  {
   "cell_type": "code",
   "execution_count": 54,
   "metadata": {},
   "outputs": [
    {
     "data": {
      "text/plain": [
       "{'huisdier': 'luie kat', 'naam': 'garfield'}"
      ]
     },
     "execution_count": 54,
     "metadata": {},
     "output_type": "execute_result"
    }
   ],
   "source": [
    "beesten"
   ]
  },
  {
   "cell_type": "markdown",
   "metadata": {},
   "source": [
    "### 7. tuple\n",
    "\n",
    "#### 7.1 initialiseer tuples en benader elementen\n",
    "\n",
    "In feite is een tuple hetzelfde als een list maar met 1 belangrijk verschil. Je kunt de waarden na initialisatie niet meer aanpassen. \n",
    "\n",
    "Initialiseer een lijst L met elementen 1, 2 en 3"
   ]
  },
  {
   "cell_type": "code",
   "execution_count": 55,
   "metadata": {},
   "outputs": [],
   "source": [
    "L = [1,2,3]"
   ]
  },
  {
   "cell_type": "markdown",
   "metadata": {},
   "source": [
    "Initialiseer een tuple T met elementen 4, 5 en 6"
   ]
  },
  {
   "cell_type": "code",
   "execution_count": 59,
   "metadata": {},
   "outputs": [],
   "source": [
    "T = (4,5,6)"
   ]
  },
  {
   "cell_type": "markdown",
   "metadata": {},
   "source": [
    "Verander de eerste waarde van L in de waarde 0"
   ]
  },
  {
   "cell_type": "code",
   "execution_count": 60,
   "metadata": {},
   "outputs": [],
   "source": [
    "L[0] = 0"
   ]
  },
  {
   "cell_type": "markdown",
   "metadata": {},
   "source": [
    "Verander de eerste waarde van T in 0 en zie wat er gebeurt."
   ]
  },
  {
   "cell_type": "code",
   "execution_count": 61,
   "metadata": {},
   "outputs": [
    {
     "ename": "TypeError",
     "evalue": "'tuple' object does not support item assignment",
     "output_type": "error",
     "traceback": [
      "\u001b[1;31m---------------------------------------------------------------------------\u001b[0m",
      "\u001b[1;31mTypeError\u001b[0m                                 Traceback (most recent call last)",
      "\u001b[1;32m<ipython-input-61-ffe47375d306>\u001b[0m in \u001b[0;36m<module>\u001b[1;34m\u001b[0m\n\u001b[1;32m----> 1\u001b[1;33m \u001b[0mT\u001b[0m\u001b[1;33m[\u001b[0m\u001b[1;36m0\u001b[0m\u001b[1;33m]\u001b[0m \u001b[1;33m=\u001b[0m \u001b[1;36m0\u001b[0m\u001b[1;33m\u001b[0m\u001b[1;33m\u001b[0m\u001b[0m\n\u001b[0m",
      "\u001b[1;31mTypeError\u001b[0m: 'tuple' object does not support item assignment"
     ]
    }
   ],
   "source": [
    "T[0] = 0"
   ]
  },
  {
   "cell_type": "markdown",
   "metadata": {},
   "source": [
    "Kun je de foutmelding verklaren?"
   ]
  },
  {
   "cell_type": "markdown",
   "metadata": {},
   "source": [
    "Tuples zijn inmutable oftewel de waardes kunnen niet meer gewijzigd worden. Bij een lijst kan dit wel."
   ]
  },
  {
   "cell_type": "markdown",
   "metadata": {},
   "source": [
    "### 8. set\n",
    "\n",
    "#### 8.1 initialiseer sets en benader elementen\n",
    "\n",
    "Een set is weer vergelijkbaar met een list maar in het geval van een set zijn alle waarden uniek. Je kunt dus geen element in een set hebben die verder in de lijst ook voorkomt.\n",
    "\n",
    "Definieer een set met de waarden 1, 2, 3, 4 en nog een keer 4"
   ]
  },
  {
   "cell_type": "code",
   "execution_count": 62,
   "metadata": {},
   "outputs": [],
   "source": [
    "S = {1,2,3,4,4}"
   ]
  },
  {
   "cell_type": "markdown",
   "metadata": {},
   "source": [
    "Print de waarden van S"
   ]
  },
  {
   "cell_type": "code",
   "execution_count": 63,
   "metadata": {},
   "outputs": [
    {
     "data": {
      "text/plain": [
       "{1, 2, 3, 4}"
      ]
     },
     "execution_count": 63,
     "metadata": {},
     "output_type": "execute_result"
    }
   ],
   "source": [
    "S"
   ]
  },
  {
   "cell_type": "markdown",
   "metadata": {},
   "source": [
    "**verdieping** Het verschil tussen lists, tuples en sets is belangrijk om te weten. Je kunt de eigenschappen van deze type ook mooi gebruiken voor slimme dingen zoals de volgende code;\n",
    "\n",
    "Kijk naar de volgende code en probeer te voorspellen wat er gaat gebeuren. Run daarna de code en kijk of het antwoord klopt met je verwachting."
   ]
  },
  {
   "cell_type": "code",
   "execution_count": 64,
   "metadata": {},
   "outputs": [
    {
     "name": "stdout",
     "output_type": "stream",
     "text": [
      "{1, 3, 4, 5}\n"
     ]
    }
   ],
   "source": [
    "print(set(list((1,4,3,4,5,1)))) # CODE NIET VERWIJDEREN"
   ]
  },
  {
   "cell_type": "markdown",
   "metadata": {},
   "source": [
    "We hebben eerst een tuple vanwege de () met de waarden 1,4,3,4,5,1. Door er een list van te maken mogen we de waardes aanpassen (en hebben we in feite van (1,2,3,4,5,1) de list [1,2,3,4,5,1] gemaakt. Daarna maken we een set van de list waardoor enkel de unieke waardes meegenomen worden. We houden dan een set {1,3,4,5} over."
   ]
  },
  {
   "cell_type": "markdown",
   "metadata": {},
   "source": [
    "### 9. objecten - verdieping\n",
    "\n",
    "Alles in Python is een object. Dit is een wezenlijk verschil met veel andere programmeertalen. Als je dieper op Python ingaat is het essentieel om te weten dat alle datatypes meteen objecten zijn. We illustreren dit met de dir() functie. Schrik niet van de output maar neem uit deze oefening mee dat alle uitvoer die je straks ziet verschijnen functies zijn die bij het type int(eger) horen. \n",
    "\n",
    "Voer de volgende code uit;"
   ]
  },
  {
   "cell_type": "code",
   "execution_count": 65,
   "metadata": {},
   "outputs": [
    {
     "data": {
      "text/plain": [
       "['__abs__',\n",
       " '__add__',\n",
       " '__and__',\n",
       " '__bool__',\n",
       " '__ceil__',\n",
       " '__class__',\n",
       " '__delattr__',\n",
       " '__dir__',\n",
       " '__divmod__',\n",
       " '__doc__',\n",
       " '__eq__',\n",
       " '__float__',\n",
       " '__floor__',\n",
       " '__floordiv__',\n",
       " '__format__',\n",
       " '__ge__',\n",
       " '__getattribute__',\n",
       " '__getnewargs__',\n",
       " '__gt__',\n",
       " '__hash__',\n",
       " '__index__',\n",
       " '__init__',\n",
       " '__init_subclass__',\n",
       " '__int__',\n",
       " '__invert__',\n",
       " '__le__',\n",
       " '__lshift__',\n",
       " '__lt__',\n",
       " '__mod__',\n",
       " '__mul__',\n",
       " '__ne__',\n",
       " '__neg__',\n",
       " '__new__',\n",
       " '__or__',\n",
       " '__pos__',\n",
       " '__pow__',\n",
       " '__radd__',\n",
       " '__rand__',\n",
       " '__rdivmod__',\n",
       " '__reduce__',\n",
       " '__reduce_ex__',\n",
       " '__repr__',\n",
       " '__rfloordiv__',\n",
       " '__rlshift__',\n",
       " '__rmod__',\n",
       " '__rmul__',\n",
       " '__ror__',\n",
       " '__round__',\n",
       " '__rpow__',\n",
       " '__rrshift__',\n",
       " '__rshift__',\n",
       " '__rsub__',\n",
       " '__rtruediv__',\n",
       " '__rxor__',\n",
       " '__setattr__',\n",
       " '__sizeof__',\n",
       " '__str__',\n",
       " '__sub__',\n",
       " '__subclasshook__',\n",
       " '__truediv__',\n",
       " '__trunc__',\n",
       " '__xor__',\n",
       " 'as_integer_ratio',\n",
       " 'bit_length',\n",
       " 'conjugate',\n",
       " 'denominator',\n",
       " 'from_bytes',\n",
       " 'imag',\n",
       " 'numerator',\n",
       " 'real',\n",
       " 'to_bytes']"
      ]
     },
     "execution_count": 65,
     "metadata": {},
     "output_type": "execute_result"
    }
   ],
   "source": [
    "i = 1 #we definieren een integer met waarde 1\n",
    "dir(i) #en we printen alle ingebouwde functionaliteit"
   ]
  },
  {
   "cell_type": "code",
   "execution_count": null,
   "metadata": {},
   "outputs": [],
   "source": []
  }
 ],
 "metadata": {
  "kernelspec": {
   "display_name": "Python 3",
   "language": "python",
   "name": "python3"
  },
  "language_info": {
   "codemirror_mode": {
    "name": "ipython",
    "version": 3
   },
   "file_extension": ".py",
   "mimetype": "text/x-python",
   "name": "python",
   "nbconvert_exporter": "python",
   "pygments_lexer": "ipython3",
   "version": "3.8.5"
  }
 },
 "nbformat": 4,
 "nbformat_minor": 2
}
