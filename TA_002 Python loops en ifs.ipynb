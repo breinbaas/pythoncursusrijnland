{
 "cells": [
  {
   "cell_type": "markdown",
   "metadata": {},
   "source": [
    "breinbaas | revisie 1 | 04-12-2020 \n",
    "\n",
    "# Opdrachten - Python loops en condities\n",
    "\n",
    "In dit notebook gaan we aan de slag met de Python loops en condities, een essentieel onderdeel in het leren programmeren. Probeer de vragen zoveel mogelijk zelf te beantwoorden maar kom je er echt niet uit vraag dan een mede cursist of de leraar of bekijk het antwoord op dit notebook.\n",
    "\n",
    "### 1 condities\n",
    "\n",
    "#### 1.1 de basis if\n",
    "\n",
    "Bekijk de volgende code en probeer te voorspellen wat er gaat gebeuren."
   ]
  },
  {
   "cell_type": "code",
   "execution_count": 1,
   "metadata": {},
   "outputs": [
    {
     "name": "stdout",
     "output_type": "stream",
     "text": [
      "Doorgaan\n"
     ]
    }
   ],
   "source": [
    "b = True\n",
    "\n",
    "if b:\n",
    "    print(\"Doorgaan\")\n",
    "else:\n",
    "    print(\"Stoppen\")"
   ]
  },
  {
   "cell_type": "markdown",
   "metadata": {},
   "source": [
    "TIP de voorgaande code is eigenlijk heel onduidelijk. Kun je de code herschrijven door de variabele b een zinvolle naam te geven en het voor je mede programmeurs leesbaar te maken? "
   ]
  },
  {
   "cell_type": "code",
   "execution_count": 2,
   "metadata": {},
   "outputs": [
    {
     "name": "stdout",
     "output_type": "stream",
     "text": [
      "Doorgaan\n"
     ]
    }
   ],
   "source": [
    "doorgaan = True\n",
    "\n",
    "if doorgaan:\n",
    "    print(\"Doorgaan\")\n",
    "else:\n",
    "    print(\"Stoppen\")"
   ]
  },
  {
   "cell_type": "markdown",
   "metadata": {},
   "source": [
    "Initialiseer een variabele met naam i en een waarden tussen de 0 en de 10 en maak een if statement dat \"kleiner dan 5\" print als i kleiner dan 5 is en \"groter of gelijk aan 5\" als i groter of gelijk aan 5 is. Let op dat er meerdere manieren zijn!"
   ]
  },
  {
   "cell_type": "code",
   "execution_count": 3,
   "metadata": {},
   "outputs": [
    {
     "name": "stdout",
     "output_type": "stream",
     "text": [
      "i is groter dan of gelijk aan 5\n"
     ]
    }
   ],
   "source": [
    "i = 7\n",
    "\n",
    "if i<5:\n",
    "    print(\"i is kleiner dan 5\")\n",
    "else:\n",
    "    print(\"i is groter dan of gelijk aan 5\")"
   ]
  },
  {
   "cell_type": "markdown",
   "metadata": {},
   "source": [
    "Controleer nu met een if statement ook nog of het getal groter dan 10 is. Er moeten drie opties zijn;\n",
    "\n",
    "* i kleiner dan 5, print 'i is kleiner dan 5'\n",
    "* i groter gelijk aan 5 en kleiner dan 7, print 'i is groter dan of gelijk aan 5 en kleiner dan 7'\n",
    "* i is groter dan of gelijk aan 7, print 'i is groter dan of gelijk aan 7'"
   ]
  },
  {
   "cell_type": "code",
   "execution_count": 4,
   "metadata": {},
   "outputs": [
    {
     "name": "stdout",
     "output_type": "stream",
     "text": [
      "i is groter dan of gelijk aan 7\n"
     ]
    }
   ],
   "source": [
    "if i<5:\n",
    "    print(\"i is kleiner dan 5\")\n",
    "elif i>=5 and i<7:\n",
    "    print('i is groter dan of gelijk aan 5 en kleiner dan 7')\n",
    "else:\n",
    "    print('i is groter dan of gelijk aan 7')"
   ]
  },
  {
   "cell_type": "markdown",
   "metadata": {},
   "source": [
    "#### 1.2 geldigheid van de code\n",
    "\n",
    "Let bij Python altijd op de inspringende tab's of spaties. Code die in hetzelfde ingesprongen blok zit hoort bij elkaar. Run de volgende code en probeer te verklaren waarom je een foutmelding krijgt;"
   ]
  },
  {
   "cell_type": "code",
   "execution_count": 5,
   "metadata": {},
   "outputs": [
    {
     "ename": "NameError",
     "evalue": "name 'j' is not defined",
     "output_type": "error",
     "traceback": [
      "\u001b[1;31m---------------------------------------------------------------------------\u001b[0m",
      "\u001b[1;31mNameError\u001b[0m                                 Traceback (most recent call last)",
      "\u001b[1;32m<ipython-input-5-b11c648353b2>\u001b[0m in \u001b[0;36m<module>\u001b[1;34m\u001b[0m\n\u001b[0;32m      4\u001b[0m     \u001b[0mj\u001b[0m \u001b[1;33m=\u001b[0m \u001b[1;36m5\u001b[0m\u001b[1;33m\u001b[0m\u001b[1;33m\u001b[0m\u001b[0m\n\u001b[0;32m      5\u001b[0m \u001b[1;33m\u001b[0m\u001b[0m\n\u001b[1;32m----> 6\u001b[1;33m \u001b[0mprint\u001b[0m\u001b[1;33m(\u001b[0m\u001b[0mj\u001b[0m\u001b[1;33m)\u001b[0m\u001b[1;33m\u001b[0m\u001b[1;33m\u001b[0m\u001b[0m\n\u001b[0m",
      "\u001b[1;31mNameError\u001b[0m: name 'j' is not defined"
     ]
    }
   ],
   "source": [
    "i = 3\n",
    "\n",
    "if i>10:\n",
    "    j = 5\n",
    "    \n",
    "print(j)    "
   ]
  },
  {
   "cell_type": "markdown",
   "metadata": {},
   "source": [
    "De scope van variable j is beperkt tot de if vergelijking, daarna is j niet meer geldig"
   ]
  },
  {
   "cell_type": "markdown",
   "metadata": {},
   "source": [
    "Maak de volgende code af; initialiseer een variabele genaamd i met waarde 1 en schrijf een if statement waarin als i = 2 de waarde van j en k op 5 worden gezet. Kijk of je code klopt door i met waarde 1 en daarna met waarde 2 te initialiseren."
   ]
  },
  {
   "cell_type": "code",
   "execution_count": 8,
   "metadata": {},
   "outputs": [
    {
     "name": "stdout",
     "output_type": "stream",
     "text": [
      "1 1 1\n"
     ]
    }
   ],
   "source": [
    "i = 1 #tweede keer runnen met i=2\n",
    "j = 1\n",
    "k = 1\n",
    "\n",
    "if i==2:\n",
    "    j = 5\n",
    "    k = 5\n",
    "        \n",
    "print(i,j,k)"
   ]
  },
  {
   "cell_type": "markdown",
   "metadata": {},
   "source": [
    "#### 1.3 geneste if statements\n",
    "\n",
    "De reden waarom Python met tabs werkt is om ervoor te zorgen dat je niet te vaak inspringt. Zodra je merkt dat je te diep nest (zoals dat in mooi Nederlands heet) moet je overwegen om je code minder complex te maken en bijvoorbeeld delen van je code om te zetten in functies of methoden (volgende blok).\n",
    "\n",
    "Hier een voorbeeld van een 3 laags if statement. Probeert de uitkomst te voorspellen."
   ]
  },
  {
   "cell_type": "code",
   "execution_count": 9,
   "metadata": {},
   "outputs": [
    {
     "name": "stdout",
     "output_type": "stream",
     "text": [
      "Uw naam begint met een J, u bent 30 jaar of ouder en getrouwd\n"
     ]
    }
   ],
   "source": [
    "naam = \"Jan\"\n",
    "leeftijd = 35\n",
    "getrouwd = True\n",
    "\n",
    "if not getrouwd:\n",
    "    if leeftijd < 30:\n",
    "        if naam[0] == \"J\":\n",
    "            print(\"Uw naam begint met een J, u bent jonger dan 30 en niet getrouwd\")\n",
    "        else:\n",
    "            print(\"Uw naam begint niet met een J, u bent jonger dan 30 en niet getrouwd\")\n",
    "    else:\n",
    "        if naam[0] == \"J\":\n",
    "            print(\"Uw naam begint met een J, u bent 30 jaar of ouder en niet getrouwd\")\n",
    "        else:\n",
    "            print(\"Uw naam begint niet met een J, u bent 30 jaar of ouder en niet getrouwd\")\n",
    "else:\n",
    "    if leeftijd < 30:\n",
    "        if naam[0] == \"J\":\n",
    "            print(\"Uw naam begint met een J, u bent jonger dan 30 en getrouwd\")\n",
    "        else:\n",
    "            print(\"Uw naam begint niet met een J, u bent jonger dan 30 en getrouwd\")\n",
    "    else:\n",
    "        if naam[0] == \"J\":\n",
    "            print(\"Uw naam begint met een J, u bent 30 jaar of ouder en getrouwd\")\n",
    "        else:\n",
    "            print(\"Uw naam begint niet met een J, u bent 30 jaar of ouder en getrouwd\")\n"
   ]
  },
  {
   "cell_type": "markdown",
   "metadata": {},
   "source": [
    "**verdieping** De voorgaande code is een slecht voorbeeld van efficient programmeren. Probeer de volgende code te begrijpen en in te zien waarom de volgende code veel efficienter is;"
   ]
  },
  {
   "cell_type": "code",
   "execution_count": 10,
   "metadata": {},
   "outputs": [
    {
     "name": "stdout",
     "output_type": "stream",
     "text": [
      "Uw naam begint met een J, u bent 30 jaar of ouder en getrouwd\n"
     ]
    }
   ],
   "source": [
    "naam = \"Jan\"\n",
    "leeftijd = 35\n",
    "getrouwd = True\n",
    "\n",
    "antwoord = \"Uw naam begint\"\n",
    "if naam[0] != \"J\":\n",
    "    antwoord += \" niet met een J, u bent\"\n",
    "else:\n",
    "    antwoord += \" met een J, u bent\"\n",
    "    \n",
    "if leeftijd < 30:\n",
    "    antwoord += \" jonger dan 30 en\"\n",
    "else:\n",
    "    antwoord += \" 30 jaar of ouder en\"\n",
    "    \n",
    "if getrouwd:\n",
    "    antwoord += \" getrouwd\"\n",
    "else:\n",
    "    antwoord += \" niet getrouwd\"\n",
    "    \n",
    "print(antwoord)"
   ]
  },
  {
   "cell_type": "markdown",
   "metadata": {},
   "source": [
    "#### 1.4 comparison operators"
   ]
  },
  {
   "cell_type": "markdown",
   "metadata": {},
   "source": [
    "Voorspel de uitkomst van de volgende code regels;"
   ]
  },
  {
   "cell_type": "code",
   "execution_count": 11,
   "metadata": {},
   "outputs": [
    {
     "name": "stdout",
     "output_type": "stream",
     "text": [
      "er wordt voldaan aan i==1 or j==3\n",
      "er wordt voldaan aan i!=2 and j<=2\n"
     ]
    }
   ],
   "source": [
    "i = 1\n",
    "j = 2\n",
    "\n",
    "if i==1 and j==3: print(\"er wordt voldaan aan i==1 and j==3\")\n",
    "if i==1 or j==3: print(\"er wordt voldaan aan i==1 or j==3\")\n",
    "if i!=2 and j<=2: print(\"er wordt voldaan aan i!=2 and j<=2\")    "
   ]
  },
  {
   "cell_type": "markdown",
   "metadata": {},
   "source": [
    "Run de volgende code en los de foutmelding op."
   ]
  },
  {
   "cell_type": "code",
   "execution_count": 13,
   "metadata": {},
   "outputs": [
    {
     "name": "stdout",
     "output_type": "stream",
     "text": [
      "Ja hoor, b is 2!\n"
     ]
    }
   ],
   "source": [
    "b = 2\n",
    "if b==2:\n",
    "    print(\"Ja hoor, b is 2!\")"
   ]
  },
  {
   "cell_type": "markdown",
   "metadata": {},
   "source": [
    "### 2. loops\n",
    "\n",
    "#### 2.1 for loop\n",
    "\n",
    "Print je naam 10 maal door gebruik te maken van een for loop"
   ]
  },
  {
   "cell_type": "code",
   "execution_count": 14,
   "metadata": {},
   "outputs": [
    {
     "name": "stdout",
     "output_type": "stream",
     "text": [
      "rob\n",
      "rob\n",
      "rob\n",
      "rob\n",
      "rob\n",
      "rob\n",
      "rob\n",
      "rob\n",
      "rob\n",
      "rob\n"
     ]
    }
   ],
   "source": [
    "for i in range(10):\n",
    "    print('rob')"
   ]
  },
  {
   "cell_type": "markdown",
   "metadata": {},
   "source": [
    "Print de getallen 2, 4, 6, 8, 10 met behulp van een for loop waarbij de je range functie gebruikt."
   ]
  },
  {
   "cell_type": "code",
   "execution_count": 15,
   "metadata": {},
   "outputs": [
    {
     "name": "stdout",
     "output_type": "stream",
     "text": [
      "2\n",
      "4\n",
      "6\n",
      "8\n",
      "10\n"
     ]
    }
   ],
   "source": [
    "for i in range(2,11,2):\n",
    "    print(i)"
   ]
  },
  {
   "cell_type": "markdown",
   "metadata": {},
   "source": [
    "Print alle elementen uit deze lijst;"
   ]
  },
  {
   "cell_type": "code",
   "execution_count": 16,
   "metadata": {},
   "outputs": [
    {
     "name": "stdout",
     "output_type": "stream",
     "text": [
      "abc\n",
      "2\n",
      "(1, 2)\n"
     ]
    }
   ],
   "source": [
    "lijst = ['abc', 2, (1,2)]\n",
    "\n",
    "for l in lijst:\n",
    "    print(l)"
   ]
  },
  {
   "cell_type": "markdown",
   "metadata": {},
   "source": [
    "Print de elementen uit de vorige lijst in omgekeerde volgorde."
   ]
  },
  {
   "cell_type": "code",
   "execution_count": 17,
   "metadata": {},
   "outputs": [
    {
     "name": "stdout",
     "output_type": "stream",
     "text": [
      "(1, 2)\n",
      "2\n",
      "abc\n"
     ]
    }
   ],
   "source": [
    "for l in lijst[::-1]:\n",
    "    print(l)"
   ]
  },
  {
   "cell_type": "markdown",
   "metadata": {},
   "source": [
    "#### 2.2 while loop\n",
    "\n",
    "Print je naam 10 keer door gebruik te maken van de while loop.\n",
    "\n",
    "**LET OP: er is een risico dat de while loop bij een verkeerde conditie nooit stopt** bijvoorbeeld in dit geval;\n",
    "\n",
    "<pre>\n",
    "while True: #while is altijd waar dus loopt altijd door\n",
    "    print(\"Hallo\")     \n",
    "</pre>\n",
    "\n",
    "**Als je merkt dat je notebook vastloopt kies dan Kernel | Restart of Interupt uit het menu van de notebook en begin opnieuw** \n"
   ]
  },
  {
   "cell_type": "code",
   "execution_count": 18,
   "metadata": {},
   "outputs": [
    {
     "name": "stdout",
     "output_type": "stream",
     "text": [
      "Rob\n",
      "Rob\n",
      "Rob\n",
      "Rob\n",
      "Rob\n",
      "Rob\n",
      "Rob\n",
      "Rob\n",
      "Rob\n",
      "Rob\n"
     ]
    }
   ],
   "source": [
    "i = 0\n",
    "while(i<10):\n",
    "    print('Rob')\n",
    "    i += 1"
   ]
  },
  {
   "cell_type": "markdown",
   "metadata": {},
   "source": [
    "### 3 verdieping - list comprehension\n",
    "\n",
    "Print de waarden 0 tot 10 met list comprehension\n"
   ]
  },
  {
   "cell_type": "code",
   "execution_count": 20,
   "metadata": {},
   "outputs": [
    {
     "name": "stdout",
     "output_type": "stream",
     "text": [
      "[0, 1, 2, 3, 4, 5, 6, 7, 8, 9]\n"
     ]
    }
   ],
   "source": [
    "print([i for i in range(10)])"
   ]
  },
  {
   "cell_type": "markdown",
   "metadata": {},
   "source": [
    "Pas de volgende functie aan waarbij je alle namen in hoofdletters (upper()) print via list comprehension\n",
    "\n",
    "<pre>print([naam for naam in [\"Bert\", \"Boris\", \"Kees\", \"Joris\", \"Jan\", \"Viktor\"]])</pre>\n"
   ]
  },
  {
   "cell_type": "code",
   "execution_count": 21,
   "metadata": {},
   "outputs": [
    {
     "name": "stdout",
     "output_type": "stream",
     "text": [
      "['BERT', 'BORIS', 'KEES', 'JORIS', 'JAN', 'VIKTOR']\n"
     ]
    }
   ],
   "source": [
    "print([naam.upper() for naam in [\"Bert\", \"Boris\", \"Kees\", \"Joris\", \"Jan\", \"Viktor\"]])"
   ]
  },
  {
   "cell_type": "markdown",
   "metadata": {},
   "source": [
    "Herhaal de vorige oefening maar print alleen de namen die beginnen met een B of een V"
   ]
  },
  {
   "cell_type": "code",
   "execution_count": 22,
   "metadata": {},
   "outputs": [
    {
     "name": "stdout",
     "output_type": "stream",
     "text": [
      "['BERT', 'BORIS', 'VIKTOR']\n"
     ]
    }
   ],
   "source": [
    "print([naam.upper() for naam in [\"Bert\", \"Boris\", \"Kees\", \"Joris\", \"Jan\", \"Viktor\"] if naam[0] in ['B', 'V']])"
   ]
  }
 ],
 "metadata": {
  "kernelspec": {
   "display_name": "Python 3",
   "language": "python",
   "name": "python3"
  },
  "language_info": {
   "codemirror_mode": {
    "name": "ipython",
    "version": 3
   },
   "file_extension": ".py",
   "mimetype": "text/x-python",
   "name": "python",
   "nbconvert_exporter": "python",
   "pygments_lexer": "ipython3",
   "version": "3.8.5"
  }
 },
 "nbformat": 4,
 "nbformat_minor": 2
}
