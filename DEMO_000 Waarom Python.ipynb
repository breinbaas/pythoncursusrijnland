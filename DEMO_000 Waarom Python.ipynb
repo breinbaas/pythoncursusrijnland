{
 "cells": [
  {
   "cell_type": "markdown",
   "metadata": {},
   "source": [
    "#### webservice demo"
   ]
  },
  {
   "cell_type": "code",
   "execution_count": 1,
   "metadata": {},
   "outputs": [
    {
     "name": "stdout",
     "output_type": "stream",
     "text": [
      "{'updated': 1606824136993, 'country': 'Netherlands', 'countryInfo': {'_id': 528, 'iso2': 'NL', 'iso3': 'NLD', 'lat': 52.5, 'long': 5.75, 'flag': 'https://disease.sh/assets/img/flags/nl.png'}, 'cases': 523478, 'todayCases': 0, 'deaths': 9376, 'todayDeaths': 0, 'recovered': 0, 'todayRecovered': 0, 'active': 514102, 'critical': 512, 'casesPerOneMillion': 30522, 'deathsPerOneMillion': 547, 'tests': 4043482, 'testsPerOneMillion': 235761, 'population': 17150737, 'continent': 'Europe', 'oneCasePerPeople': 33, 'oneDeathPerPeople': 1829, 'oneTestPerPeople': 4, 'activePerOneMillion': 29975.5, 'recoveredPerOneMillion': 0, 'criticalPerOneMillion': 29.85}\n"
     ]
    }
   ],
   "source": [
    "# import bibliotheken\n",
    "from urllib.request import urlopen, Request\n",
    "import json\n",
    "\n",
    "# de link waar de data staat\n",
    "URL = \"https://corona.lmao.ninja/v3/covid-19/countries\"\n",
    "\n",
    "# voorkom een 403 error door te simuleren dat we een browser zijn\n",
    "headers = {'User-Agent': 'Mozilla/5.0 (Windows NT 6.1) AppleWebKit/537.36 (KHTML, like Gecko) Chrome/41.0.2228.0 Safari/537.3'}\n",
    "\n",
    "# maak en doe het verzoek\n",
    "req = Request(url=URL, headers=headers) \n",
    "\n",
    "# lees de data en zoek de gegevens van Nederland en geef ze weer\n",
    "data = json.loads(urlopen(req).read().decode())\n",
    "for d in data:\n",
    "    if d['country'] == 'Netherlands':\n",
    "        print(d)\n",
    "        break # stop de loop"
   ]
  },
  {
   "cell_type": "markdown",
   "metadata": {},
   "source": [
    "#### game demo\n",
    "\n",
    "installeer pygame als dat nog niet geinstalleerd is..."
   ]
  },
  {
   "cell_type": "code",
   "execution_count": 2,
   "metadata": {},
   "outputs": [
    {
     "name": "stdout",
     "output_type": "stream",
     "text": [
      "Collecting pygame\n",
      "  Downloading pygame-2.0.0-cp38-cp38-win_amd64.whl (5.1 MB)\n",
      "Installing collected packages: pygame\n",
      "Successfully installed pygame-2.0.0\n"
     ]
    }
   ],
   "source": [
    "!python -m pip install pygame"
   ]
  },
  {
   "cell_type": "code",
   "execution_count": 4,
   "metadata": {},
   "outputs": [],
   "source": [
    "import pygame # speciale bibliotheek voor games in python\n",
    "\n",
    "# laad de twee afbeeldingen in\n",
    "img_bg = pygame.image.load(\"img/bos.png\")\n",
    "img_player = pygame.image.load(\"img/player.png\")\n",
    "\n",
    "# start een scherm van 577x433px\n",
    "screen = pygame.display.set_mode((577,433))\n",
    "\n",
    "# blijf de code uitvoeren totdat er een QUIT commando is gegeven\n",
    "stop_request = False\n",
    "\n",
    "# initiele positie van de speler\n",
    "x, y = 50., 250\n",
    "\n",
    "# loop de code tot er gestopt moet worden (bv door window te sluiten)\n",
    "while not stop_request:\n",
    "    # teken de achtergrond\n",
    "    screen.blit(img_bg, img_bg.get_rect())\n",
    "\n",
    "    # check wat er allemaal aan gebruikersinvoer is gegeven (bv keyboard)\n",
    "    for event in pygame.event.get():\n",
    "        if event.type == pygame.QUIT: # willen we stoppen?\n",
    "            stop_request = True\n",
    "    \n",
    "    # haal alle keyboard acties op\n",
    "    pressed = pygame.key.get_pressed()\n",
    "    \n",
    "    # bepaal de richting van de speler\n",
    "    dx = 0\n",
    "    if pressed[pygame.K_RIGHT]: dx = 0.3\n",
    "    if pressed[pygame.K_LEFT]: dx = -0.3\n",
    "\n",
    "    # bepaal de nieuwe positie van de speler\n",
    "    x += dx\n",
    "    # zorg dat de speler in de goede richting 'kijkt' als hij/zij loopt\n",
    "    if dx>=0:\n",
    "        screen.blit(img_player,(int(x),y,50,37))\n",
    "    else:\n",
    "        screen.blit(pygame.transform.flip(img_player, True, False), (int(x),y,50,37))\n",
    "\n",
    "    # ok, al het achtergrond tekenwerk is klaar, kopieer dit naar de voorgrond\n",
    "    pygame.display.flip()\n",
    "\n",
    "# netjes afsluiten!\n",
    "pygame.quit()"
   ]
  },
  {
   "cell_type": "code",
   "execution_count": null,
   "metadata": {},
   "outputs": [],
   "source": []
  }
 ],
 "metadata": {
  "kernelspec": {
   "display_name": "Python 3",
   "language": "python",
   "name": "python3"
  },
  "language_info": {
   "codemirror_mode": {
    "name": "ipython",
    "version": 3
   },
   "file_extension": ".py",
   "mimetype": "text/x-python",
   "name": "python",
   "nbconvert_exporter": "python",
   "pygments_lexer": "ipython3",
   "version": "3.8.5"
  }
 },
 "nbformat": 4,
 "nbformat_minor": 4
}
