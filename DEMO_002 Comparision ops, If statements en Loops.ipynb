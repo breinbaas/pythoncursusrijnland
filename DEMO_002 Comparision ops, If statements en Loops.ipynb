{
 "cells": [
  {
   "cell_type": "markdown",
   "metadata": {},
   "source": [
    "## Comparison operators"
   ]
  },
  {
   "cell_type": "code",
   "execution_count": 1,
   "metadata": {},
   "outputs": [],
   "source": [
    "a = 1\n",
    "b = 2"
   ]
  },
  {
   "cell_type": "code",
   "execution_count": 2,
   "metadata": {},
   "outputs": [
    {
     "name": "stdout",
     "output_type": "stream",
     "text": [
      "True\n"
     ]
    }
   ],
   "source": [
    "print(a==1)"
   ]
  },
  {
   "cell_type": "code",
   "execution_count": 3,
   "metadata": {},
   "outputs": [
    {
     "name": "stdout",
     "output_type": "stream",
     "text": [
      "False\n"
     ]
    }
   ],
   "source": [
    "print(a==0)"
   ]
  },
  {
   "cell_type": "code",
   "execution_count": 4,
   "metadata": {},
   "outputs": [
    {
     "name": "stdout",
     "output_type": "stream",
     "text": [
      "False\n"
     ]
    }
   ],
   "source": [
    "print(a==b)"
   ]
  },
  {
   "cell_type": "code",
   "execution_count": 5,
   "metadata": {},
   "outputs": [
    {
     "name": "stdout",
     "output_type": "stream",
     "text": [
      "False\n"
     ]
    }
   ],
   "source": [
    "print(a!=1) #not -> a not is 1"
   ]
  },
  {
   "cell_type": "code",
   "execution_count": 6,
   "metadata": {},
   "outputs": [
    {
     "name": "stdout",
     "output_type": "stream",
     "text": [
      "False\n"
     ]
    },
    {
     "name": "stderr",
     "output_type": "stream",
     "text": [
      "<>:1: SyntaxWarning: \"is not\" with a literal. Did you mean \"!=\"?\n",
      "<>:1: SyntaxWarning: \"is not\" with a literal. Did you mean \"!=\"?\n",
      "<ipython-input-6-78a8a270835a>:1: SyntaxWarning: \"is not\" with a literal. Did you mean \"!=\"?\n",
      "  print(a is not 1)\n"
     ]
    }
   ],
   "source": [
    "print(a is not 1) # !="
   ]
  },
  {
   "cell_type": "code",
   "execution_count": 7,
   "metadata": {},
   "outputs": [
    {
     "name": "stdout",
     "output_type": "stream",
     "text": [
      "True\n"
     ]
    },
    {
     "name": "stderr",
     "output_type": "stream",
     "text": [
      "<>:1: SyntaxWarning: \"is\" with a literal. Did you mean \"==\"?\n",
      "<>:1: SyntaxWarning: \"is\" with a literal. Did you mean \"==\"?\n",
      "<ipython-input-7-314c5b4c7f0f>:1: SyntaxWarning: \"is\" with a literal. Did you mean \"==\"?\n",
      "  print(a is 1)\n"
     ]
    }
   ],
   "source": [
    "print(a is 1) # a==1"
   ]
  },
  {
   "cell_type": "code",
   "execution_count": 8,
   "metadata": {},
   "outputs": [
    {
     "name": "stdout",
     "output_type": "stream",
     "text": [
      "False\n"
     ]
    }
   ],
   "source": [
    "print(a > b)"
   ]
  },
  {
   "cell_type": "code",
   "execution_count": 9,
   "metadata": {},
   "outputs": [
    {
     "name": "stdout",
     "output_type": "stream",
     "text": [
      "False\n"
     ]
    }
   ],
   "source": [
    "a = 1\n",
    "b = 2\n",
    "print(a < b and a > 2)"
   ]
  },
  {
   "cell_type": "code",
   "execution_count": 12,
   "metadata": {},
   "outputs": [
    {
     "name": "stdout",
     "output_type": "stream",
     "text": [
      "True\n"
     ]
    }
   ],
   "source": [
    "print(a < b or a > 2)\n",
    "\n",
    "lijst = ['a', 'b']\n",
    "print('a' in lijst)"
   ]
  },
  {
   "cell_type": "markdown",
   "metadata": {},
   "source": [
    "## if elif else"
   ]
  },
  {
   "cell_type": "code",
   "execution_count": 19,
   "metadata": {},
   "outputs": [],
   "source": [
    "a = 1"
   ]
  },
  {
   "cell_type": "code",
   "execution_count": 18,
   "metadata": {},
   "outputs": [
    {
     "name": "stdout",
     "output_type": "stream",
     "text": [
      "ja hoor, a is 1!\n"
     ]
    }
   ],
   "source": [
    "if a==1: print(\"ja hoor, a is 1!\")    "
   ]
  },
  {
   "cell_type": "code",
   "execution_count": 26,
   "metadata": {},
   "outputs": [
    {
     "name": "stdout",
     "output_type": "stream",
     "text": [
      "ja hoor, a is 1!\n",
      "dat is een mooie conclusie\n"
     ]
    }
   ],
   "source": [
    "a = 1\n",
    "if a==1:\n",
    "    print(\"ja hoor, a is 1!\") \n",
    "    print(\"dat is een mooie conclusie\")"
   ]
  },
  {
   "cell_type": "code",
   "execution_count": 28,
   "metadata": {},
   "outputs": [
    {
     "name": "stdout",
     "output_type": "stream",
     "text": [
      "nee, a is niet gelijk aan 1!\n",
      "ga maar wat anders proberen\n"
     ]
    }
   ],
   "source": [
    "a=-1\n",
    "if a==1:\n",
    "    print(\"ja hoor, a is 1!\") \n",
    "    print(\"dat is een mooie conclusie\")\n",
    "else:\n",
    "    print(\"nee, a is niet gelijk aan 1!\") \n",
    "    print(\"ga maar wat anders proberen\")"
   ]
  },
  {
   "cell_type": "code",
   "execution_count": null,
   "metadata": {},
   "outputs": [],
   "source": [
    "a = 2\n",
    "if a==1:\n",
    "    print(\"ja hoor, a is 1!\") \n",
    "    print(\"dat is een mooie conclusie\")\n",
    "else:\n",
    "    print(\"nee, a is niet gelijk aan 1!\") \n",
    "    print(\"ga maar wat anders proberen\")"
   ]
  },
  {
   "cell_type": "code",
   "execution_count": 33,
   "metadata": {},
   "outputs": [
    {
     "name": "stdout",
     "output_type": "stream",
     "text": [
      "ja hoor, a is 1!\n",
      "dat is een mooie conclusie\n"
     ]
    }
   ],
   "source": [
    "a = 1\n",
    "\n",
    "if a==1:\n",
    "    print(\"ja hoor, a is 1!\") \n",
    "    print(\"dat is een mooie conclusie\")\n",
    "elif a==2:\n",
    "    print(\"ok, a is 2!\") \n",
    "    print(\"prima conclusie\")\n",
    "else:\n",
    "    print(\"a is niet 1 of 2.. wat wil je nou?\")"
   ]
  },
  {
   "cell_type": "markdown",
   "metadata": {},
   "source": [
    "### Python, de gedachte achter inspringen"
   ]
  },
  {
   "cell_type": "code",
   "execution_count": null,
   "metadata": {},
   "outputs": [],
   "source": [
    "a = 1\n",
    "b = 2\n",
    "c = 3\n",
    "d = 4\n",
    "\n",
    "if a==1:\n",
    "    if b==2:\n",
    "        if c==3:\n",
    "            if d==4: #mmm\n",
    "                for i in range(5): #MMMMM!\n",
    "                    if(i%2==0): #NOPE, nu ga je te ver!\n",
    "                        print(i)            "
   ]
  },
  {
   "cell_type": "markdown",
   "metadata": {},
   "source": [
    "### Gecombineerde comparision operators in if statements"
   ]
  },
  {
   "cell_type": "code",
   "execution_count": null,
   "metadata": {},
   "outputs": [],
   "source": [
    "a = 1\n",
    "b = 2"
   ]
  },
  {
   "cell_type": "code",
   "execution_count": 34,
   "metadata": {},
   "outputs": [
    {
     "name": "stdout",
     "output_type": "stream",
     "text": [
      "a is 1 en b is 2\n"
     ]
    }
   ],
   "source": [
    "if a==1 and b==2:\n",
    "    print(\"a is 1 en b is 2\")\n",
    "else:\n",
    "    print(\"a is niet 1 of b is niet 2 of allebei\")"
   ]
  },
  {
   "cell_type": "code",
   "execution_count": null,
   "metadata": {},
   "outputs": [],
   "source": [
    "if a==1 or b==2:\n",
    "    print(\"a is 1 of b is 2 of allebei\")"
   ]
  },
  {
   "cell_type": "code",
   "execution_count": null,
   "metadata": {},
   "outputs": [],
   "source": [
    "if (a==1) or (b==2):\n",
    "    print(\"a is 1 of b is 2 of allebei\")"
   ]
  },
  {
   "cell_type": "code",
   "execution_count": null,
   "metadata": {},
   "outputs": [],
   "source": [
    "if (a==1) or (b==2): # & | > numpy pandas\n",
    "    print(\"a is 1 of b is 2 of allebei\")"
   ]
  },
  {
   "cell_type": "code",
   "execution_count": null,
   "metadata": {},
   "outputs": [],
   "source": [
    "if (a==1) and (b==2):\n",
    "    print(\"a is 1 en b is 2\")"
   ]
  },
  {
   "cell_type": "code",
   "execution_count": 35,
   "metadata": {},
   "outputs": [
    {
     "name": "stdout",
     "output_type": "stream",
     "text": [
      "huh?\n"
     ]
    }
   ],
   "source": [
    "if (a>=1) and (b>=0) and (b<10) or (a==1):\n",
    "    print(\"huh?\")\n",
    "    \n",
    "voornaam = \"jan\"\n",
    "achternaam = \"van veen\""
   ]
  },
  {
   "cell_type": "code",
   "execution_count": 36,
   "metadata": {},
   "outputs": [],
   "source": [
    "dit_is_een_hele_lange_naam = 'rob'"
   ]
  },
  {
   "cell_type": "code",
   "execution_count": null,
   "metadata": {},
   "outputs": [],
   "source": [
    "dit_is_een_hele_lange_naam"
   ]
  },
  {
   "cell_type": "markdown",
   "metadata": {},
   "source": [
    "## Loops"
   ]
  },
  {
   "cell_type": "code",
   "execution_count": 37,
   "metadata": {},
   "outputs": [
    {
     "name": "stdout",
     "output_type": "stream",
     "text": [
      "0\n",
      "1\n",
      "2\n",
      "3\n",
      "4\n"
     ]
    }
   ],
   "source": [
    "for i in [0,1,2,3,4]:\n",
    "    print(i)"
   ]
  },
  {
   "cell_type": "code",
   "execution_count": 44,
   "metadata": {},
   "outputs": [
    {
     "data": {
      "text/plain": [
       "range"
      ]
     },
     "execution_count": 44,
     "metadata": {},
     "output_type": "execute_result"
    }
   ],
   "source": [
    "type(range(4))"
   ]
  },
  {
   "cell_type": "code",
   "execution_count": 40,
   "metadata": {},
   "outputs": [
    {
     "name": "stdout",
     "output_type": "stream",
     "text": [
      "0\n",
      "1\n",
      "2\n",
      "3\n",
      "4\n"
     ]
    }
   ],
   "source": [
    "for i in range(5):\n",
    "    print(i)"
   ]
  },
  {
   "cell_type": "code",
   "execution_count": 42,
   "metadata": {},
   "outputs": [
    {
     "name": "stdout",
     "output_type": "stream",
     "text": [
      "2\n",
      "3\n"
     ]
    }
   ],
   "source": [
    "for i in range(0,4):\n",
    "    print(i)"
   ]
  },
  {
   "cell_type": "code",
   "execution_count": 43,
   "metadata": {},
   "outputs": [
    {
     "name": "stdout",
     "output_type": "stream",
     "text": [
      "0\n",
      "2\n"
     ]
    }
   ],
   "source": [
    "for i in range(0,4,2):\n",
    "    print(i)"
   ]
  },
  {
   "cell_type": "code",
   "execution_count": 49,
   "metadata": {},
   "outputs": [
    {
     "name": "stdout",
     "output_type": "stream",
     "text": [
      "3\n",
      "2\n",
      "1\n"
     ]
    }
   ],
   "source": [
    "#for i in range(4,0,-1):\n",
    "#    print(i)\n",
    "    \n",
    "l = [1,2,3] # lengte = 3\n",
    "for i in range(len(l)-1, -1, -1):\n",
    "    print(l[i])"
   ]
  },
  {
   "cell_type": "code",
   "execution_count": 51,
   "metadata": {},
   "outputs": [
    {
     "name": "stdout",
     "output_type": "stream",
     "text": [
      "0\n",
      "1\n",
      "2\n",
      "3\n"
     ]
    }
   ],
   "source": [
    "i = 0\n",
    "while(i<4): \n",
    "    print(i)    \n",
    "    i += 1 #i = i + 1"
   ]
  },
  {
   "cell_type": "code",
   "execution_count": 56,
   "metadata": {},
   "outputs": [],
   "source": [
    "# PAS OP!\n",
    "i = 0\n",
    "while(i<4):\n",
    "    j = 0"
   ]
  },
  {
   "cell_type": "markdown",
   "metadata": {},
   "source": [
    "### List comprehension (gevorderd!)"
   ]
  },
  {
   "cell_type": "code",
   "execution_count": 62,
   "metadata": {},
   "outputs": [
    {
     "name": "stdout",
     "output_type": "stream",
     "text": [
      "[0, 4]\n"
     ]
    }
   ],
   "source": [
    "l = [] # intialiseer een lege lijst\n",
    "for i in range(4): # 0, 1 ,2 ,3\n",
    "    if i%2 == 0:\n",
    "        l.append(i**2)\n",
    "    \n",
    "print(l)\n",
    "    \n",
    "\n",
    "#l = [i for i in range(4)]\n",
    "#print(l)"
   ]
  },
  {
   "cell_type": "code",
   "execution_count": 59,
   "metadata": {},
   "outputs": [
    {
     "name": "stdout",
     "output_type": "stream",
     "text": [
      "[0, 1, 4, 9]\n"
     ]
    }
   ],
   "source": [
    "l = [i**2 for i in range(4)]\n",
    "print(l)"
   ]
  },
  {
   "cell_type": "code",
   "execution_count": 63,
   "metadata": {},
   "outputs": [
    {
     "name": "stdout",
     "output_type": "stream",
     "text": [
      "[0, 4]\n"
     ]
    }
   ],
   "source": [
    "l = [i**2 for i in range(4) if i%2==0] # 2 / 2 = 0, 3 / 2 = 1\n",
    "print(l)"
   ]
  },
  {
   "cell_type": "markdown",
   "metadata": {},
   "source": [
    "### Hoe werkt dat met power.csv"
   ]
  },
  {
   "cell_type": "code",
   "execution_count": 64,
   "metadata": {},
   "outputs": [],
   "source": [
    "data = [\n",
    "    [1605168040,'2020-11-12 08:00:40',-4.340099556028671],\n",
    "    [1605168100,'2020-11-12 08:01:40',-4.336181822955771],\n",
    "    [1605168160,'2020-11-12 08:02:40',-4.3482711769649365],\n",
    "    [1605168220,'2020-11-12 08:03:40',-4.358245733771947],\n",
    "    [1605168280,'2020-11-12 08:04:40',-4.341981462308389],\n",
    "    [1605168340,'2020-11-12 08:05:40',-4.329613613011341]\n",
    "]"
   ]
  },
  {
   "cell_type": "code",
   "execution_count": 65,
   "metadata": {},
   "outputs": [
    {
     "name": "stdout",
     "output_type": "stream",
     "text": [
      "[1605168040, '2020-11-12 08:00:40', -4.340099556028671]\n",
      "[1605168100, '2020-11-12 08:01:40', -4.336181822955771]\n",
      "[1605168160, '2020-11-12 08:02:40', -4.3482711769649365]\n",
      "[1605168220, '2020-11-12 08:03:40', -4.358245733771947]\n",
      "[1605168280, '2020-11-12 08:04:40', -4.341981462308389]\n",
      "[1605168340, '2020-11-12 08:05:40', -4.329613613011341]\n"
     ]
    }
   ],
   "source": [
    "for line in data:\n",
    "    print(line)"
   ]
  },
  {
   "cell_type": "code",
   "execution_count": 66,
   "metadata": {},
   "outputs": [
    {
     "name": "stdout",
     "output_type": "stream",
     "text": [
      "[1605168040, '2020-11-12 08:00:40', -4.340099556028671]\n",
      "[1605168100, '2020-11-12 08:01:40', -4.336181822955771]\n",
      "[1605168160, '2020-11-12 08:02:40', -4.3482711769649365]\n",
      "[1605168220, '2020-11-12 08:03:40', -4.358245733771947]\n",
      "[1605168280, '2020-11-12 08:04:40', -4.341981462308389]\n",
      "[1605168340, '2020-11-12 08:05:40', -4.329613613011341]\n"
     ]
    }
   ],
   "source": [
    "i = 0\n",
    "while i < len(data):\n",
    "    print(data[i])\n",
    "    i += 1"
   ]
  },
  {
   "cell_type": "code",
   "execution_count": 67,
   "metadata": {},
   "outputs": [
    {
     "name": "stdout",
     "output_type": "stream",
     "text": [
      "[1605168040, '2020-11-12 08:00:40', -4.340099556028671]\n",
      "[1605168160, '2020-11-12 08:02:40', -4.3482711769649365]\n",
      "[1605168280, '2020-11-12 08:04:40', -4.341981462308389]\n"
     ]
    }
   ],
   "source": [
    "for i in range(0,len(data),2):\n",
    "    print(data[i])"
   ]
  },
  {
   "cell_type": "code",
   "execution_count": 68,
   "metadata": {},
   "outputs": [
    {
     "name": "stdout",
     "output_type": "stream",
     "text": [
      "[1605168040, '2020-11-12 08:00:40', -4.340099556028671]\n",
      "[1605168160, '2020-11-12 08:02:40', -4.3482711769649365]\n",
      "[1605168280, '2020-11-12 08:04:40', -4.341981462308389]\n"
     ]
    }
   ],
   "source": [
    "for line in data[::2]:\n",
    "    print(line)"
   ]
  },
  {
   "cell_type": "code",
   "execution_count": 69,
   "metadata": {},
   "outputs": [
    {
     "name": "stdout",
     "output_type": "stream",
     "text": [
      "[1605168040, '2020-11-12 08:00:40', -4.340099556028671]\n",
      "[1605168100, '2020-11-12 08:01:40', -4.336181822955771]\n",
      "[1605168160, '2020-11-12 08:02:40', -4.3482711769649365]\n",
      "[1605168220, '2020-11-12 08:03:40', -4.358245733771947]\n"
     ]
    }
   ],
   "source": [
    "for line in data:\n",
    "    if line[0] <= 1605168220:\n",
    "        print(line)"
   ]
  },
  {
   "cell_type": "code",
   "execution_count": 70,
   "metadata": {},
   "outputs": [
    {
     "name": "stdout",
     "output_type": "stream",
     "text": [
      "[-4.340099556028671, -4.336181822955771, -4.3482711769649365, -4.358245733771947, -4.341981462308389, -4.329613613011341]\n"
     ]
    }
   ],
   "source": [
    "data = [\n",
    "    [1605168040,'2020-11-12 08:00:40',-4.340099556028671],\n",
    "    [1605168100,'2020-11-12 08:01:40',-4.336181822955771],\n",
    "    [1605168160,'2020-11-12 08:02:40',-4.3482711769649365],\n",
    "    [1605168220,'2020-11-12 08:03:40',-4.358245733771947],\n",
    "    [1605168280,'2020-11-12 08:04:40',-4.341981462308389],\n",
    "    [1605168340,'2020-11-12 08:05:40',-4.329613613011341]\n",
    "]\n",
    "\n",
    "# meetwaardes = []\n",
    "# for line in data:\n",
    "#     meetwaardes.append(line[-1])    \n",
    "\n",
    "meetwaardes = [l[-1] for l in data]\n",
    "print(meetwaardes)"
   ]
  },
  {
   "cell_type": "code",
   "execution_count": 71,
   "metadata": {},
   "outputs": [
    {
     "name": "stdout",
     "output_type": "stream",
     "text": [
      "[-4.34, -4.34, -4.35, -4.36, -4.34, -4.33]\n"
     ]
    }
   ],
   "source": [
    "meetwaardes = [round(l[-1],2) for l in data]\n",
    "\n",
    "# meetwaardes = []\n",
    "# for line in data:\n",
    "#     meetwaardes.append(round(line[-1]),2)\n",
    "\n",
    "print(meetwaardes)"
   ]
  },
  {
   "cell_type": "markdown",
   "metadata": {},
   "source": [
    "### sneak preview"
   ]
  },
  {
   "cell_type": "code",
   "execution_count": 80,
   "metadata": {},
   "outputs": [
    {
     "data": {
      "text/plain": [
       "[<matplotlib.lines.Line2D at 0x21be72d7d60>]"
      ]
     },
     "execution_count": 80,
     "metadata": {},
     "output_type": "execute_result"
    },
    {
     "data": {
      "image/png": "[encoded data removed]",
      "text/plain": [
       "<Figure size 432x288 with 1 Axes>"
      ]
     },
     "metadata": {
      "needs_background": "light"
     },
     "output_type": "display_data"
    }
   ],
   "source": [
    "from datetime import datetime\n",
    "import matplotlib.pyplot as plt\n",
    "\n",
    "lines = open('data/power.csv').readlines()\n",
    "#lines = f\n",
    "#f.close()\n",
    "\n",
    "#lines = open('data/power.csv').readlines()\n",
    "ts, dt, value = [], [], []\n",
    "for line in lines[1:]:\n",
    "    args = line.split(',')\n",
    "    ts.append(args[0])\n",
    "    dt.append(datetime.strptime(args[1], '%Y-%m-%d %H:%M:%S'))\n",
    "    value.append(float(args[2]))\n",
    "    \n",
    "plt.plot(dt, value)"
   ]
  },
  {
   "cell_type": "code",
   "execution_count": null,
   "metadata": {},
   "outputs": [],
   "source": []
  }
 ],
 "metadata": {
  "kernelspec": {
   "display_name": "Python 3",
   "language": "python",
   "name": "python3"
  },
  "language_info": {
   "codemirror_mode": {
    "name": "ipython",
    "version": 3
   },
   "file_extension": ".py",
   "mimetype": "text/x-python",
   "name": "python",
   "nbconvert_exporter": "python",
   "pygments_lexer": "ipython3",
   "version": "3.8.5"
  }
 },
 "nbformat": 4,
 "nbformat_minor": 2
}
