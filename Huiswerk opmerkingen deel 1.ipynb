{
 "cells": [
  {
   "cell_type": "code",
   "execution_count": null,
   "metadata": {},
   "outputs": [],
   "source": [
    "cnt = 0\n",
    "while True: \n",
    "    print(\"Thomas\")\n",
    "    cnt = cnt  +  1\n",
    "    if cnt == 10:\n",
    "        break"
   ]
  },
  {
   "cell_type": "code",
   "execution_count": null,
   "metadata": {},
   "outputs": [],
   "source": [
    "l = [print(i) for i in range(11)]"
   ]
  },
  {
   "cell_type": "code",
   "execution_count": null,
   "metadata": {},
   "outputs": [],
   "source": [
    "print([naam.upper() for naam in [\"Bert\", \"Boris\", \"Kees\", \"Joris\", \"Jan\", \"Viktor\"] if (naam.startswith('B') or naam.startswith('V'))])"
   ]
  },
  {
   "cell_type": "code",
   "execution_count": null,
   "metadata": {},
   "outputs": [],
   "source": [
    "from datetime import datetime\n",
    "import matplotlib.pyplot as plt\n",
    "\n",
    "f = open(\"data/power.csv\",'r').readlines()\n",
    "\n",
    "ts, dt, value = [], [], []\n",
    "for line in f[1:]:\n",
    "    args = line.split(',')\n",
    "    ts.append(args[0])\n",
    "    dt.append(datetime.strptime(args[1], '%Y-%m-%d %H:%M:%S'))\n",
    "    value.append(float(args[2]))\n",
    "    \n",
    "start = 10\n",
    "stop = 200\n",
    "\n",
    "gemiddelde= [sum(value[start:stop]) / (stop - start)] * (stop-start)\n",
    "\n",
    "fig, ax = plt.subplots(figsize=(15,5))\n",
    "\n",
    "line1, =ax.plot(dt[start:stop],value[start:stop], '--', linewidth=2,\n",
    "                 label='Power (Kw)')\n",
    "line2, =ax.plot(dt[start:stop],gemiddelde,\n",
    "                 label='Average power (Kw)')\n",
    "ax.legend(loc='lower right')\n",
    "plt.show()"
   ]
  },
  {
   "cell_type": "code",
   "execution_count": null,
   "metadata": {},
   "outputs": [],
   "source": []
  }
 ],
 "metadata": {
  "kernelspec": {
   "display_name": "Python 3",
   "language": "python",
   "name": "python3"
  },
  "language_info": {
   "codemirror_mode": {
    "name": "ipython",
    "version": 3
   },
   "file_extension": ".py",
   "mimetype": "text/x-python",
   "name": "python",
   "nbconvert_exporter": "python",
   "pygments_lexer": "ipython3",
   "version": "3.8.5"
  }
 },
 "nbformat": 4,
 "nbformat_minor": 4
}
