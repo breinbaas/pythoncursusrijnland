{
 "cells": [
  {
   "cell_type": "markdown",
   "metadata": {},
   "source": [
    "### Noodzakelijke doelen\n",
    "\n",
    "* Naam van een gemaal en datumbereik in kunnen voeren\n",
    "    * constanten\n",
    "    * command line parameters\n",
    "    * argparse library\n",
    "\n",
    "* PDOK web service uitlezen: rioleringsgebieden en overstorten. Niveau in NAP van de laagste overstort bepalen binnen één rioleringsgebied (of stelsel?). \n",
    "\n",
    "    * download de data eerst en zet het in een aparte directory\n",
    "    * probeer informatie te vinden over het gebruik van de API, vaak is de informatie verouderd, schrijf testcode\n",
    "    * kijk hoe de QGis plugin dat doet (geavanceerd!)\n",
    "\n",
    "* Naam/code Rijnlands gemaal ophalen dat binnen dat rioleringsgebied valt\n",
    "\n",
    "    * gebruik eerst constanten en data die je in een map zet\n",
    "    * probeer een sql connectie te maken naar je database (vaak problemen met firewalls of toegangrestricties!)\n",
    "    * gebruik sqlalchemy (geavanceerd!)\n",
    "\n",
    "* Tijdseries ophalen (van datum bereik) van het niveau van het water in de kelder van een gemaal in NAP. API z-info. \n",
    "    * pandas klinkt hier handig, lees je in over het gebruik van datetime in pandas via bv https://pandas.pydata.org/pandas-docs/stable/reference/api/pandas.to_datetime.html\n",
    "    * ook hier klinkt het alsof de data in een database zit, gebruik eerst een download en kijk daarna of je connecties kunt maken met databases\n",
    "\n",
    "* Tijdseries en laagste overstort visualiseren in grafiekje.\n",
    "    * eerst matplotlib om basic grafieken te maken\n",
    "    * kijk eens naar plotly maar let op de restricties vanuit Rijnland\n",
    "    * als je een webapp maakt of plotly als webadres kunt gebruiken dan kun je zelfs realtime grafieken maken (geavanceerd!)\n",
    "\n",
    "* Eventueel de grafiek ergens opslaan zodat deze te embedden is. \n",
    "    * matplotlib savefig\n",
    "    * gebruik pathlib voor padnamen, dit voorkomt ellende al is het eerst even doorbijten om eraan te wennen\n",
    "    * embedden in webpagina kan ook via Python (geavanceerd!)\n",
    "\n",
    "* OPTIE is ook: tijdseries en vergelijk met laagste overstort exporteren naar een CSV om te visualiseren in bijvoorbeeld POWERBI.\n",
    "    * pandas heeft prima export functie, geen probleem\n",
    "    * PowerBI kan python scripts runnen (let wel geavanceerd door mogelijke security issues) dan ook tevens nagaan wat de basis is.. is PowerBI altijd nodig of een bijkomstigheid?\n",
    "\n",
    "* Ideaal en helemaal gaaf om ook een kaartje met overstort, rioleringsgebieden en kleur van gemaal te maken (rood=overstort, groen = geen overstort)\n",
    "    * groen en rood plotten is erg eenvoudig o.b.v. selecties\n",
    "    * folium! (beetje geavanceerd) https://python-visualization.github.io/folium/\n",
    "  "
   ]
  },
  {
   "cell_type": "code",
   "execution_count": null,
   "metadata": {},
   "outputs": [],
   "source": []
  }
 ],
 "metadata": {
  "kernelspec": {
   "display_name": "Python 3",
   "language": "python",
   "name": "python3"
  },
  "language_info": {
   "codemirror_mode": {
    "name": "ipython",
    "version": 3
   },
   "file_extension": ".py",
   "mimetype": "text/x-python",
   "name": "python",
   "nbconvert_exporter": "python",
   "pygments_lexer": "ipython3",
   "version": "3.8.6"
  }
 },
 "nbformat": 4,
 "nbformat_minor": 4
}
