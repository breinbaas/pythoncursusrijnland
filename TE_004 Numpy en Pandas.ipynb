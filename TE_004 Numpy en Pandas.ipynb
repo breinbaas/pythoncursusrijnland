{
 "cells": [
  {
   "cell_type": "markdown",
   "metadata": {},
   "source": [
    "breinbaas | revisie 2 | 09-12-2020\n",
    "\n",
    "# Opdrachten - Numpy en Pandas\n",
    "\n",
    "In dit notebook gaan we aan de slag met de numpy en pandas modules. Probeer de vragen zoveel mogelijk zelf te beantwoorden maar kom je er echt niet uit vraag dan een mede cursist of de leraar of bekijk het antwoord op dit notebook.\n",
    "\n",
    "## 1 Numpy\n",
    "\n",
    "#### 1.1 initialisatie en indexing"
   ]
  },
  {
   "cell_type": "code",
   "execution_count": null,
   "metadata": {},
   "outputs": [],
   "source": [
    "import numpy as np"
   ]
  },
  {
   "cell_type": "markdown",
   "metadata": {},
   "source": [
    "Creeer een matrix in de vorm;\n",
    "\n",
    "\\begin{vmatrix}\n",
    "1 & 2 & 3 \\\\\n",
    "4 & 5 & 6\n",
    "\\end{vmatrix}"
   ]
  },
  {
   "cell_type": "code",
   "execution_count": null,
   "metadata": {},
   "outputs": [],
   "source": []
  },
  {
   "cell_type": "markdown",
   "metadata": {},
   "source": [
    "Print de eerste rij (1,2,3)"
   ]
  },
  {
   "cell_type": "code",
   "execution_count": null,
   "metadata": {},
   "outputs": [],
   "source": []
  },
  {
   "cell_type": "markdown",
   "metadata": {},
   "source": [
    "Print de tweede kolom (2,5)"
   ]
  },
  {
   "cell_type": "code",
   "execution_count": null,
   "metadata": {},
   "outputs": [],
   "source": []
  },
  {
   "cell_type": "markdown",
   "metadata": {},
   "source": [
    "Print de waarde in de tweede rij en derde kolom"
   ]
  },
  {
   "cell_type": "code",
   "execution_count": null,
   "metadata": {},
   "outputs": [],
   "source": []
  },
  {
   "cell_type": "markdown",
   "metadata": {},
   "source": [
    "Vermenigvuldig alle waarden van m met 2\n",
    "\n",
    "\\begin{vmatrix}\n",
    "2 & 4 & 6 \\\\\n",
    "8 & 10 & 12\n",
    "\\end{vmatrix}"
   ]
  },
  {
   "cell_type": "code",
   "execution_count": null,
   "metadata": {},
   "outputs": [],
   "source": []
  },
  {
   "cell_type": "markdown",
   "metadata": {},
   "source": [
    "Bepaal de maximum waarde per kolom"
   ]
  },
  {
   "cell_type": "code",
   "execution_count": null,
   "metadata": {},
   "outputs": [],
   "source": []
  },
  {
   "cell_type": "markdown",
   "metadata": {},
   "source": [
    "Gebruik een filter om alle waarden >= 10 op -1 te zetten"
   ]
  },
  {
   "cell_type": "code",
   "execution_count": null,
   "metadata": {},
   "outputs": [],
   "source": []
  },
  {
   "cell_type": "markdown",
   "metadata": {},
   "source": [
    "Gebruik de functiebeschrijving op \n",
    "\n",
    "https://docs.scipy.org/doc/numpy/reference/generated/numpy.savetxt.html\n",
    "\n",
    "om je huidige matrix naar een csv bestand te schrijven."
   ]
  },
  {
   "cell_type": "code",
   "execution_count": null,
   "metadata": {},
   "outputs": [],
   "source": []
  },
  {
   "cell_type": "markdown",
   "metadata": {},
   "source": [
    "en zoek op internet een functie binnen numpy om het gegenereerde csv bestand in te lezen"
   ]
  },
  {
   "cell_type": "code",
   "execution_count": null,
   "metadata": {},
   "outputs": [],
   "source": []
  },
  {
   "cell_type": "markdown",
   "metadata": {},
   "source": [
    "### 1.2 Praktijk voorbeeld\n",
    "\n",
    "In de map data staat een bestand genaamd iris.csv. Dit bestand is uitermate populair om de beginselen van statistiek en machine learning uit te leggen. We gaan daar niet zo diep op in maar als je geinteresseerd bent zal een iris machine learning zoektocht op Google je heel veel interessant leesvoer opleveren.\n",
    "\n",
    "In ieder geval bevat het csv bestand de volgende informatie (en vergeef me mijn gebrek aan plantenkennis);\n",
    "\n",
    "* lengte en breedte van de 'sepal'\n",
    "* lengte en breedte van de 'petal' \n",
    "* welk type iris dit is (het kunnen er 3 zijn en is hier opgeslagen als type 1, 2 en 3)\n",
    "\n",
    "![iris](img/iris.jpg)\n",
    "\n",
    "#### inlezen en data verkenning\n",
    "\n",
    "Gebruik de kennis van het inlezen van je eigen matrix om het bestand iris.csv in te lezen. Belangrijk zijn de parameters **skiprows** om de header over te slaan en **delimiter** om aan te geven hoe het cvs bestand de waarden heeft gescheiden."
   ]
  },
  {
   "cell_type": "code",
   "execution_count": null,
   "metadata": {},
   "outputs": [],
   "source": []
  },
  {
   "cell_type": "markdown",
   "metadata": {},
   "source": [
    "Bepaal de grootste sepal lengte (moet 7.9 zijn)"
   ]
  },
  {
   "cell_type": "code",
   "execution_count": null,
   "metadata": {},
   "outputs": [],
   "source": []
  },
  {
   "cell_type": "markdown",
   "metadata": {},
   "source": [
    "Bepaal de gemiddelde petal breedte (moet (ongeveer) 1.20 zijn) "
   ]
  },
  {
   "cell_type": "code",
   "execution_count": null,
   "metadata": {},
   "outputs": [],
   "source": []
  },
  {
   "cell_type": "markdown",
   "metadata": {},
   "source": [
    "Bepaal de standaardafwijking van de petal breedte moet ongeveer 0.76 zijn)"
   ]
  },
  {
   "cell_type": "code",
   "execution_count": null,
   "metadata": {},
   "outputs": [],
   "source": []
  },
  {
   "cell_type": "markdown",
   "metadata": {},
   "source": [
    "#### selectie\n",
    "\n",
    "Maak een matrix m1 waarbij je enkel naar de waarden kijkt waarbij variety (laatste kolom) gelijk is aan 1"
   ]
  },
  {
   "cell_type": "code",
   "execution_count": null,
   "metadata": {},
   "outputs": [],
   "source": []
  },
  {
   "cell_type": "markdown",
   "metadata": {},
   "source": [
    "De shape eigenschap geeft je het aantal rijen en kolommen terug. Bepaal hoeveel rijen er in m1 aanwezig zijn."
   ]
  },
  {
   "cell_type": "code",
   "execution_count": null,
   "metadata": {},
   "outputs": [],
   "source": []
  },
  {
   "cell_type": "markdown",
   "metadata": {},
   "source": [
    "Maak met de voorgaande kennis een analyse waarbij je per type (variety) het gemiddelde van alle 4 de parameters (sepal.length, sepal.widht, petal.length, petal.width) bepaalt.\n",
    "\n",
    "De verwachten uitkomsten zijn;\n",
    "\n",
    "\\begin{vmatrix}\n",
    "variety & sepal.length & sepal.widht & petal.length & petal.width \\\\\n",
    "1 & 5.006 & 3.428 & 1.462 & 0.246 \\\\\n",
    "2& 5.936 & 2.77 & 4.26 & 1.326 \\\\\n",
    "3 & 6.588 & 2.974 & 5.552 & 2.026\n",
    "\\end{vmatrix}"
   ]
  },
  {
   "cell_type": "code",
   "execution_count": null,
   "metadata": {},
   "outputs": [],
   "source": []
  },
  {
   "cell_type": "markdown",
   "metadata": {},
   "source": [
    "#### plotten van numpy data\n",
    "\n",
    "Gegevens visualiseren is een intuitieve manier om snel inzicht in je data te krijgen. We gaan aan de slag om de data die we tot nu toe als getallen voorbij zagen komen visueel inzichtelijk te maken. Allereerst importeren we de basis plotting library van Python;"
   ]
  },
  {
   "cell_type": "code",
   "execution_count": null,
   "metadata": {},
   "outputs": [],
   "source": [
    "import matplotlib.pyplot as plt"
   ]
  },
  {
   "cell_type": "markdown",
   "metadata": {},
   "source": [
    "De documentatie van matplotlib kan verwarrend zijn maar probeer desondanks via \n",
    "\n",
    "https://matplotlib.org/3.1.1/api/_as_gen/matplotlib.pyplot.scatter.html\n",
    "\n",
    "een scatterplot te maken van de sepal.length tegen de sepal.width voor alle types."
   ]
  },
  {
   "cell_type": "code",
   "execution_count": null,
   "metadata": {},
   "outputs": [],
   "source": []
  },
  {
   "cell_type": "markdown",
   "metadata": {},
   "source": [
    "Deze grafiek is leuk maar niet heel inzichtelijk. We kunnen beter kijken of we de data in een histogram kunnen plotten. Laten eens kijken naar de verdeling van de sepal.lenght. Gebruik hiervoor de volgende functie;\n",
    "\n",
    "https://matplotlib.org/3.1.1/api/_as_gen/matplotlib.pyplot.hist.html\n",
    "\n",
    "**Let op**; als je er niet via de matplotlib beschrijving uitkomt probeer dan eens via de zoekmachine code te vinden op bv. stackoverflow."
   ]
  },
  {
   "cell_type": "code",
   "execution_count": null,
   "metadata": {},
   "outputs": [],
   "source": []
  },
  {
   "cell_type": "markdown",
   "metadata": {},
   "source": [
    "Je kunt meerdere grafieken achter elkaar plotten door bv.\n",
    "\n",
    "<pre>\n",
    "plt.hist(dataset1, label=\"dataset 1\")\n",
    "plt.hist(dataset2, label=\"dataset 2\")\n",
    "plt.legend()\n",
    "</pre>\n",
    "\n",
    "te gebruiken.\n",
    "\n",
    "Kun je met deze informatie een grafiek maken die per type de histogram kan maken? Het eindresultaat moet hier op lijken;\n",
    "\n",
    "![hist](img/irishist.png)"
   ]
  },
  {
   "cell_type": "code",
   "execution_count": null,
   "metadata": {},
   "outputs": [],
   "source": []
  },
  {
   "cell_type": "markdown",
   "metadata": {},
   "source": [
    "## 3. Pandas\n",
    "\n",
    "Wellicht is het je opgevallen dat het lastig wordt als je al die indexen moet onthouden.. wat was ook alweer de kolom van de petal.length of van de variety?? Daarnaast zijn er voor veel zaken best wat code regels nodig om het resultaat te krijgen. Pandas maakt dat een stuk inzichtelijker en eenvoudiger.\n",
    "\n",
    "### 3.1 data inlezen\n",
    "\n",
    "Gebruik de read_csv functie volgens;\n",
    "\n",
    "https://pandas.pydata.org/pandas-docs/stable/reference/api/pandas.read_csv.html\n",
    "\n",
    "om het bestand iris.csv opnieuw in te lezen en het Dataframe op te slaan in een variabele genaamd df."
   ]
  },
  {
   "cell_type": "code",
   "execution_count": null,
   "metadata": {},
   "outputs": [],
   "source": [
    "import pandas as pd"
   ]
  },
  {
   "cell_type": "code",
   "execution_count": null,
   "metadata": {},
   "outputs": [],
   "source": []
  },
  {
   "cell_type": "markdown",
   "metadata": {},
   "source": [
    "Je kunt de head(n) functie gebruiken om vanaf boven de eerste n regels weer te geven. Gebruik die functie om de eerste 10 regels te laten zien."
   ]
  },
  {
   "cell_type": "code",
   "execution_count": null,
   "metadata": {},
   "outputs": [],
   "source": []
  },
  {
   "cell_type": "markdown",
   "metadata": {},
   "source": [
    "Gebruik de describe() functie van het DataFrame om inzicht te krijgen in de waarden.\n",
    "\n",
    "https://pandas.pydata.org/pandas-docs/stable/reference/api/pandas.DataFrame.describe.html"
   ]
  },
  {
   "cell_type": "code",
   "execution_count": null,
   "metadata": {},
   "outputs": [],
   "source": []
  },
  {
   "cell_type": "markdown",
   "metadata": {},
   "source": [
    "#### Indexing\n",
    "\n",
    "Print de kolom met de waarden voor sepal.length"
   ]
  },
  {
   "cell_type": "code",
   "execution_count": null,
   "metadata": {},
   "outputs": [],
   "source": []
  },
  {
   "cell_type": "markdown",
   "metadata": {},
   "source": [
    "Print de eerste 10 waarden van de petal.width kolom"
   ]
  },
  {
   "cell_type": "code",
   "execution_count": null,
   "metadata": {},
   "outputs": [],
   "source": []
  },
  {
   "cell_type": "markdown",
   "metadata": {},
   "source": [
    "Print de eerste 10 waarden van de kolommen sepal.width en petal.width"
   ]
  },
  {
   "cell_type": "code",
   "execution_count": null,
   "metadata": {},
   "outputs": [],
   "source": []
  },
  {
   "cell_type": "markdown",
   "metadata": {},
   "source": [
    "Print de rijen 40 tot 50 uit het Dataframe"
   ]
  },
  {
   "cell_type": "code",
   "execution_count": null,
   "metadata": {},
   "outputs": [],
   "source": []
  },
  {
   "cell_type": "markdown",
   "metadata": {},
   "source": [
    "Print enkel de kolommen sepal.width en petal.width van rijen 40 tot 50"
   ]
  },
  {
   "cell_type": "code",
   "execution_count": null,
   "metadata": {},
   "outputs": [],
   "source": []
  },
  {
   "cell_type": "markdown",
   "metadata": {},
   "source": [
    "#### Filteren\n",
    "\n",
    "Toon enkel de rijen die horen bij variety == 1"
   ]
  },
  {
   "cell_type": "code",
   "execution_count": null,
   "metadata": {},
   "outputs": [],
   "source": []
  },
  {
   "cell_type": "markdown",
   "metadata": {},
   "source": [
    "**Geavanceerd** Print enkel de rijen waarbij variety == 1 en sepal.length <= 4.5"
   ]
  },
  {
   "cell_type": "code",
   "execution_count": null,
   "metadata": {},
   "outputs": [],
   "source": []
  },
  {
   "cell_type": "markdown",
   "metadata": {},
   "source": [
    "#### plotten met pandas\n",
    "\n",
    "Bekijk de volgende documentatie en plot de sepal.length tegen de sepal.width voor alle soorten (variety)\n",
    "\n",
    "https://pandas.pydata.org/pandas-docs/stable/reference/api/pandas.DataFrame.plot.scatter.html\n",
    "\n",
    "Bedenk je hier weer bij dat als deze documentatie niet voldoende voor je is, de zoekmachine je verder kan helpen!"
   ]
  },
  {
   "cell_type": "code",
   "execution_count": null,
   "metadata": {},
   "outputs": [],
   "source": []
  },
  {
   "cell_type": "markdown",
   "metadata": {},
   "source": [
    "Net als bij de numpy oefeningen willen we nu een histogram van de sepal.length parameter. Bekijk daarvoor de volgende documentatie;\n",
    "\n",
    "https://pandas.pydata.org/pandas-docs/stable/reference/api/pandas.DataFrame.hist.html\n",
    "\n",
    "Waarschijnlijk krijg je een grafiek met alle histogrammen door elkaar.. als dit gebeurt bedenk dan hoe je wellicht eerst de selectie kunt maken en dan de histogram kunt plotten."
   ]
  },
  {
   "cell_type": "code",
   "execution_count": null,
   "metadata": {},
   "outputs": [],
   "source": []
  },
  {
   "cell_type": "markdown",
   "metadata": {},
   "source": [
    "Om dan weer de complexere histogram plot te krijgen met 3 verschillende kleuren voor elke type zul je helaas terug moeten vallen op matplotlib. \n",
    "\n",
    "Schrijf code om op basis van je DataFrame de volgende plot te krijgen\n",
    "\n",
    "![hist](img/irishist.png)\n",
    "\n",
    "Wees niet gefrustreerd als dit niet direct lukt..."
   ]
  },
  {
   "cell_type": "code",
   "execution_count": null,
   "metadata": {},
   "outputs": [],
   "source": []
  },
  {
   "cell_type": "markdown",
   "metadata": {},
   "source": [
    "## Nog niet voldoende gedaan?\n",
    "\n",
    "Maak dan eens een analyse van de data en daarmee een functie die op basis van een opgegeven sepal.length, sepal.width, petal.length, petal.width een voorspelling doet van het type (variety). "
   ]
  }
 ],
 "metadata": {
  "kernelspec": {
   "display_name": "Python 3",
   "language": "python",
   "name": "python3"
  },
  "language_info": {
   "codemirror_mode": {
    "name": "ipython",
    "version": 3
   },
   "file_extension": ".py",
   "mimetype": "text/x-python",
   "name": "python",
   "nbconvert_exporter": "python",
   "pygments_lexer": "ipython3",
   "version": "3.8.5"
  }
 },
 "nbformat": 4,
 "nbformat_minor": 2
}
