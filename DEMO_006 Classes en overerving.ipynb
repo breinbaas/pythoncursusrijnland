{
 "cells": [
  {
   "cell_type": "markdown",
   "metadata": {},
   "source": [
    "#### Classes\n",
    "\n",
    "Een minimalistisch voorbeeld:"
   ]
  },
  {
   "cell_type": "code",
   "execution_count": null,
   "metadata": {},
   "outputs": [],
   "source": [
    "class Auto:\n",
    "    def __init__(self):\n",
    "        self.kleur = ''\n",
    "        self.prijs = 0\n",
    "        self.kwh = 0"
   ]
  },
  {
   "cell_type": "code",
   "execution_count": null,
   "metadata": {},
   "outputs": [],
   "source": [
    "citroen = Auto()\n",
    "citroen.kleur = \"zilver metallic\"\n",
    "citroen.prijs = 19999\n",
    "citroen.kwh = 55\n",
    "\n",
    "print(citroen.kleur, citroen.prijs, citroen.kwh)"
   ]
  },
  {
   "cell_type": "markdown",
   "metadata": {},
   "source": [
    "Een constructor met parameters"
   ]
  },
  {
   "cell_type": "code",
   "execution_count": null,
   "metadata": {},
   "outputs": [],
   "source": [
    "class Auto:\n",
    "    def __init__(self, kleur, prijs, kwh):\n",
    "        self.kleur = kleur\n",
    "        self.prijs = prijs\n",
    "        self.kwh = kwh"
   ]
  },
  {
   "cell_type": "code",
   "execution_count": null,
   "metadata": {},
   "outputs": [],
   "source": [
    "citroen = Auto(\"citroen\",19999,55)\n",
    "print(citroen.kleur, citroen.prijs, citroen.kwh)"
   ]
  },
  {
   "cell_type": "code",
   "execution_count": null,
   "metadata": {},
   "outputs": [],
   "source": [
    "audi = Auto(\"audi\", 24999, 70)\n",
    "print(audi.kleur, audi.prijs, audi.kwh)"
   ]
  },
  {
   "cell_type": "markdown",
   "metadata": {},
   "source": [
    "Een class met een functie"
   ]
  },
  {
   "cell_type": "code",
   "execution_count": null,
   "metadata": {},
   "outputs": [],
   "source": [
    "class Auto:\n",
    "    def __init__(self, kleur, prijs, kwh):\n",
    "        self.kleur = kleur\n",
    "        self.prijs = prijs\n",
    "        self.kwh = kwh\n",
    "        \n",
    "    def pk(self):\n",
    "        return self.kwh * 1.341"
   ]
  },
  {
   "cell_type": "code",
   "execution_count": null,
   "metadata": {},
   "outputs": [],
   "source": [
    "audi = Auto(\"audi\", 24999, 70)\n",
    "citroen = Auto(\"citroen\",19999,55)\n",
    "print(audi.pk())\n",
    "print(citroen.pk())"
   ]
  },
  {
   "cell_type": "markdown",
   "metadata": {},
   "source": [
    "#### Constructor, Destructor"
   ]
  },
  {
   "cell_type": "code",
   "execution_count": null,
   "metadata": {},
   "outputs": [],
   "source": [
    "class A:\n",
    "    def __init__(self):\n",
    "        print(\"Deze code wordt aangeroepen als de class wordt aangemaakt.\")\n",
    "        \n",
    "    def __del__(self):\n",
    "        print(\"En deze code wordt aangeroepen als de class wordt vrijgegeven\")"
   ]
  },
  {
   "cell_type": "code",
   "execution_count": null,
   "metadata": {},
   "outputs": [],
   "source": [
    "a = A()"
   ]
  },
  {
   "cell_type": "code",
   "execution_count": null,
   "metadata": {},
   "outputs": [],
   "source": [
    "del(a)"
   ]
  },
  {
   "cell_type": "markdown",
   "metadata": {},
   "source": [
    "#### Overerving"
   ]
  },
  {
   "cell_type": "code",
   "execution_count": null,
   "metadata": {},
   "outputs": [],
   "source": [
    "class Dier:\n",
    "    def __init__(self):\n",
    "        self.aantal_poten = 4\n",
    "        pass\n",
    "    \n",
    "    def praat(self):\n",
    "        return \"\"\n",
    "        \n",
    "    def __str__(self):\n",
    "        return self.praat()\n",
    "        \n",
    "class Kat(Dier):\n",
    "    def praat(self):\n",
    "        return \"Miauw!\"\n",
    "        \n",
    "class Hond(Dier):\n",
    "    def praat(self):\n",
    "        return \"Woef!\""
   ]
  },
  {
   "cell_type": "code",
   "execution_count": null,
   "metadata": {},
   "outputs": [],
   "source": [
    "d = Dier()\n",
    "k = Kat()\n",
    "h = Hond()\n",
    "\n",
    "print(d)\n",
    "print(k)\n",
    "print(h)"
   ]
  },
  {
   "cell_type": "markdown",
   "metadata": {},
   "source": [
    "#### Public, Protected, Private"
   ]
  },
  {
   "cell_type": "code",
   "execution_count": null,
   "metadata": {},
   "outputs": [],
   "source": [
    "class Beker:\n",
    "    def __init__(self, kleur):\n",
    "        self._kleur = kleur # PROTECTED\n",
    "        self.__inhoud = \"leeg\" # PRIVATE\n",
    "        \n",
    "    def kleur(self):\n",
    "        return self._kleur\n",
    "                \n",
    "    def vul(self):\n",
    "        self.__inhoud = \"vol\"\n",
    "        \n",
    "    def leeg(self):\n",
    "        self.__inhoud = \"leeg\"\n",
    "        \n",
    "    def print_inhoud(self):\n",
    "        print(self.__inhoud)\n",
    "        "
   ]
  },
  {
   "cell_type": "code",
   "execution_count": null,
   "metadata": {},
   "outputs": [],
   "source": [
    "# GOED\n",
    "b = Beker(\"rood\")\n",
    "print(b.kleur())"
   ]
  },
  {
   "cell_type": "code",
   "execution_count": null,
   "metadata": {},
   "outputs": [],
   "source": [
    "# FOUT\n",
    "b = Beker(\"\")\n",
    "b._kleur = \"rood\" # in andere talen zou dit NIET mogen, bij Python 'mag' het niet maar kan het wel \n",
    "print(b.kleur())"
   ]
  },
  {
   "cell_type": "code",
   "execution_count": null,
   "metadata": {},
   "outputs": [],
   "source": [
    "# HEEL ERG FOUT\n",
    "b = Beker(\"blauw\")\n",
    "b.__inhoud = \"tralala\" \n",
    "b.print_inhoud()"
   ]
  },
  {
   "cell_type": "markdown",
   "metadata": {},
   "source": [
    "#### Multiple inheritance"
   ]
  },
  {
   "cell_type": "code",
   "execution_count": null,
   "metadata": {},
   "outputs": [],
   "source": [
    "class A:\n",
    "    def doe_dit(self):\n",
    "        print(\"functie uit class A\")\n",
    "\n",
    "class B:\n",
    "    def doe_dat(self):\n",
    "        print(\"functie uit class B\")\n",
    "        \n",
    "class C(A,B):\n",
    "    def __init__(self):\n",
    "        self.doe_dit()\n",
    "        self.doe_dat()\n",
    "        "
   ]
  },
  {
   "cell_type": "code",
   "execution_count": null,
   "metadata": {},
   "outputs": [],
   "source": [
    "c = C()"
   ]
  },
  {
   "cell_type": "markdown",
   "metadata": {},
   "source": [
    "#### Praktisch voorbeeld - live coding\n",
    "\n",
    "Maak een class van de voorgaande code:"
   ]
  },
  {
   "cell_type": "code",
   "execution_count": null,
   "metadata": {},
   "outputs": [],
   "source": [
    "import matplotlib.pyplot as plt\n",
    "\n",
    "lines = open('data/sample.gef', 'r').readlines() \n",
    "\n",
    "lz, lqc, lfs = [], [], []\n",
    "\n",
    "for line in lines[1:]:\n",
    "    args = line.split(';')\n",
    "    lz.append(float(args[0]))\n",
    "    lqc.append(float(args[1]))\n",
    "    lfs.append(float(args[2].strip()))\n",
    "    \n",
    "plt.plot(lqc, lz);"
   ]
  }
 ],
 "metadata": {
  "kernelspec": {
   "display_name": "Python 3",
   "language": "python",
   "name": "python3"
  },
  "language_info": {
   "codemirror_mode": {
    "name": "ipython",
    "version": 3
   },
   "file_extension": ".py",
   "mimetype": "text/x-python",
   "name": "python",
   "nbconvert_exporter": "python",
   "pygments_lexer": "ipython3",
   "version": "3.8.6"
  }
 },
 "nbformat": 4,
 "nbformat_minor": 2
}
