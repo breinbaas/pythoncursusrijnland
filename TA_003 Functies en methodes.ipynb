{
 "cells": [
  {
   "cell_type": "markdown",
   "metadata": {},
   "source": [
    "breinbaas | revisie 1 | 04-12-2020\n",
    "\n",
    "# Opdrachten - Python methodes en functies\n",
    "\n",
    "In dit notebook gaan we aan de slag met de Python methodes en functies. Probeer de vragen zoveel mogelijk zelf te beantwoorden maar kom je er echt niet uit vraag dan een mede cursist of de leraar of bekijk het antwoord op dit notebook.\n",
    "\n",
    "### 1 methodes\n",
    "\n",
    "Maak een methode genaamd print_naam die je naam print en roep deze methode via een for loop 5x aan."
   ]
  },
  {
   "cell_type": "code",
   "execution_count": 1,
   "metadata": {},
   "outputs": [
    {
     "name": "stdout",
     "output_type": "stream",
     "text": [
      "Rob\n",
      "Rob\n",
      "Rob\n",
      "Rob\n",
      "Rob\n"
     ]
    }
   ],
   "source": [
    "def print_naam():\n",
    "    print(\"Rob\")\n",
    "    \n",
    "for i in range(5):\n",
    "    print_naam()"
   ]
  },
  {
   "cell_type": "markdown",
   "metadata": {},
   "source": [
    "Pas de methode dusdanig aan dat je je naam in de functie kunt invullen en dat deze naam 5x geprint wordt. De volgende code moet bijvoorbeeld 5x de naam Chris printen;\n",
    "\n",
    "<pre>print_naam(\"Chris\")</pre>"
   ]
  },
  {
   "cell_type": "code",
   "execution_count": 2,
   "metadata": {},
   "outputs": [
    {
     "name": "stdout",
     "output_type": "stream",
     "text": [
      "Chris\n",
      "Chris\n",
      "Chris\n",
      "Chris\n",
      "Chris\n"
     ]
    }
   ],
   "source": [
    "def print_naam(naam):    \n",
    "    for i in range(5):         \n",
    "        print(naam)\n",
    "        \n",
    "print_naam(\"Chris\")"
   ]
  },
  {
   "cell_type": "markdown",
   "metadata": {},
   "source": [
    "Pas de methode aan zodat je ook het aantal keren dat de naam geprint wordt op kunt geven. De volgende code moet de naam Chris 3 maal printen.\n",
    "\n",
    "<pre>print_naam(\"Chris\", 3)</pre>"
   ]
  },
  {
   "cell_type": "code",
   "execution_count": 3,
   "metadata": {},
   "outputs": [
    {
     "name": "stdout",
     "output_type": "stream",
     "text": [
      "Chris\n",
      "Chris\n",
      "Chris\n"
     ]
    }
   ],
   "source": [
    "def print_naam(naam, aantal_keer):    \n",
    "    for i in range(aantal_keer):         \n",
    "        print(naam)\n",
    "        \n",
    "print_naam(\"Chris\", 3)"
   ]
  },
  {
   "cell_type": "markdown",
   "metadata": {},
   "source": [
    "Pas de methode dusdanig aan dat als de gebruiker niet het aantal keren zelf opgeeft je standaard op 5x printen terugvalt. De methode heeft dus een default waarde."
   ]
  },
  {
   "cell_type": "code",
   "execution_count": 4,
   "metadata": {},
   "outputs": [
    {
     "name": "stdout",
     "output_type": "stream",
     "text": [
      "Chris\n",
      "Chris\n",
      "Chris\n",
      "Chris\n",
      "Chris\n"
     ]
    }
   ],
   "source": [
    "def print_naam(naam, aantal_keer=5):    \n",
    "    for i in range(aantal_keer):         \n",
    "        print(naam)\n",
    "        \n",
    "print_naam(\"Chris\")"
   ]
  },
  {
   "cell_type": "markdown",
   "metadata": {},
   "source": [
    "Maak je methode compleet door een nette beschrijving toe te voegen volgens de Python manier. Let op dat je je functie kort uitlegt en de parameters evenals de uitvoer toelicht. Test je beschrijving met de <pre>help()</pre> functie."
   ]
  },
  {
   "cell_type": "code",
   "execution_count": 5,
   "metadata": {},
   "outputs": [
    {
     "name": "stdout",
     "output_type": "stream",
     "text": [
      "Chris\n",
      "Chris\n",
      "Chris\n",
      "Chris\n",
      "Chris\n"
     ]
    }
   ],
   "source": [
    "def print_naam(naam, aantal_keer=5):   \n",
    "    \"\"\"\n",
    "    Print de opgegeven naam het opgegeven aantal keren.\n",
    "    \n",
    "    Args:\n",
    "        naam (str): naam die geprint moet worden\n",
    "        aantal_keer (int): het aantal keer dat de naam geprint moet worden, default is 5x\n",
    "    \"\"\"\n",
    "    for i in range(aantal_keer):         \n",
    "        print(naam)\n",
    "        \n",
    "print_naam(\"Chris\")"
   ]
  },
  {
   "cell_type": "code",
   "execution_count": 6,
   "metadata": {},
   "outputs": [
    {
     "name": "stdout",
     "output_type": "stream",
     "text": [
      "Help on function print_naam in module __main__:\n",
      "\n",
      "print_naam(naam, aantal_keer=5)\n",
      "    Print de opgegeven naam het opgegeven aantal keren.\n",
      "    \n",
      "    Args:\n",
      "        naam (str): naam die geprint moet worden\n",
      "        aantal_keer (int): het aantal keer dat de naam geprint moet worden, default is 5x\n",
      "\n"
     ]
    }
   ],
   "source": [
    "help(print_naam)"
   ]
  },
  {
   "cell_type": "markdown",
   "metadata": {},
   "source": [
    "### 2 functies\n",
    "\n",
    "Maak een functie die bepaalt of een getal door drie deelbaar is. De uitvoer van de functie moet de string \"deelbaar door 3\" of \"niet deelbaar door 3\" zijn. Denk hierbij aan de rest functie, bv 4%2 = 0 (rest 0) en 5%2 = 1 (rest 1) . Probeer je functie uit met een aantal getallen."
   ]
  },
  {
   "cell_type": "code",
   "execution_count": 7,
   "metadata": {},
   "outputs": [],
   "source": [
    "def f(i):\n",
    "    if i%3 == 0:\n",
    "        return 'deelbaar door 3'\n",
    "    else:\n",
    "        return 'niet deelbaar door 3'"
   ]
  },
  {
   "cell_type": "code",
   "execution_count": 8,
   "metadata": {},
   "outputs": [
    {
     "data": {
      "text/plain": [
       "'niet deelbaar door 3'"
      ]
     },
     "execution_count": 8,
     "metadata": {},
     "output_type": "execute_result"
    }
   ],
   "source": [
    "f(91)"
   ]
  },
  {
   "cell_type": "code",
   "execution_count": 9,
   "metadata": {},
   "outputs": [
    {
     "data": {
      "text/plain": [
       "'deelbaar door 3'"
      ]
     },
     "execution_count": 9,
     "metadata": {},
     "output_type": "execute_result"
    }
   ],
   "source": [
    "f(27)"
   ]
  },
  {
   "cell_type": "markdown",
   "metadata": {},
   "source": [
    "Breid de functie uit door zowel de string \"deelbaar door 3\" of \"niet deelbaar door 3\" als de rest van de deling mee te geven (bv. 7 zou (\"niet deelbaar door 3\", 1) als resultaat moeten geven (immers, de rest van 7/3 = 1). Je funtie resultaat bestaat dus uit 2 waarden (of een lijst / set met 2 waarden)."
   ]
  },
  {
   "cell_type": "code",
   "execution_count": 10,
   "metadata": {},
   "outputs": [],
   "source": [
    "def f(i):\n",
    "    if i%3 == 0:\n",
    "        return 'deelbaar door 3', i%3\n",
    "    else:\n",
    "        return 'niet deelbaar door 3', i%3"
   ]
  },
  {
   "cell_type": "code",
   "execution_count": 11,
   "metadata": {},
   "outputs": [
    {
     "data": {
      "text/plain": [
       "('niet deelbaar door 3', 1)"
      ]
     },
     "execution_count": 11,
     "metadata": {},
     "output_type": "execute_result"
    }
   ],
   "source": [
    "f(91)"
   ]
  },
  {
   "cell_type": "markdown",
   "metadata": {},
   "source": [
    "Voorspel de werking van de volgende code;"
   ]
  },
  {
   "cell_type": "code",
   "execution_count": 12,
   "metadata": {},
   "outputs": [],
   "source": [
    "def f(naam):\n",
    "    result = \"\"\n",
    "    for i in range(len(naam)-1, -1, -1):\n",
    "        result += naam[i]\n",
    "    return result"
   ]
  },
  {
   "cell_type": "code",
   "execution_count": 13,
   "metadata": {},
   "outputs": [
    {
     "data": {
      "text/plain": [
       "'bor'"
      ]
     },
     "execution_count": 13,
     "metadata": {},
     "output_type": "execute_result"
    }
   ],
   "source": [
    "f('rob')"
   ]
  },
  {
   "cell_type": "markdown",
   "metadata": {},
   "source": [
    "Kun je de onderstaande code herschrijven door in methodes / functies, lijsten en for loops te denken?"
   ]
  },
  {
   "cell_type": "code",
   "execution_count": 14,
   "metadata": {},
   "outputs": [
    {
     "name": "stdout",
     "output_type": "stream",
     "text": [
      "De naam Rob begint met een R!\n",
      "De naam Ricardo begint met een R!\n"
     ]
    }
   ],
   "source": [
    "naam = \"Rob\"\n",
    "if naam[0] == \"R\":\n",
    "    print(f\"De naam {naam} begint met een R!\")\n",
    "naam = \"Chris\"\n",
    "if naam[0] == \"R\":\n",
    "    print(f\"De naam {naam} begint met een R!\")\n",
    "naam = \"Ricardo\"\n",
    "if naam[0] == \"R\":\n",
    "    print(f\"De naam {naam} begint met een R!\")"
   ]
  },
  {
   "cell_type": "code",
   "execution_count": 15,
   "metadata": {
    "scrolled": true
   },
   "outputs": [
    {
     "name": "stdout",
     "output_type": "stream",
     "text": [
      "De naam Rob begint met een R!\n",
      "De naam Ricardo begint met een R!\n"
     ]
    }
   ],
   "source": [
    "def naam_begint_met_hoofdletter_r(naam):\n",
    "    if naam[0] == 'R':\n",
    "        print(f\"De naam {naam} begint met een R!\")\n",
    "    \n",
    "for naam in ['Rob', 'Chris', 'Ricardo']:\n",
    "    naam_begint_met_hoofdletter_r(naam)"
   ]
  },
  {
   "cell_type": "markdown",
   "metadata": {},
   "source": [
    "### power.csv!\n",
    "\n",
    "We gaan aan de slag met jullie eigen databestand. De opdracht is in feite al terug te vinden in de DEMO code die jullie beschikbaar hebben maar voor het opbouwen van je kennisniveau wil ik je vragen om het zelf te programmeren. Gebruik de hints en tips die gegeven worden!\n",
    "\n",
    "De opdracht is als volgt, lees het bestand data/power.csv in en sla de timestamp en power meting op in een lijst naar voorkeur. Als je meer uitdaging wilt kun je ook de datums inlezen. \n",
    "\n",
    "Maak een functie die een deel van de data kan plotten in een grafiek. Je moet een index op kunnen geven waar de grafiek moet beginnen (bv vanaf het 10de element) en een index waarop de grafiek moet eindigen (bv tot het 30 ste element). \n",
    "\n",
    "Ben je klaar voor meer uitdaging voeg dan de volgende elementen toe;\n",
    "\n",
    "* laat de functie een begin- en einddatum ontvangen en selecteer binnen die data\n",
    "* voeg foutafhandeling toe\n",
    "* maak een goede docstring\n",
    "* bereken het gemiddelde en voeg de lijn van het gemiddelde toe aan de grafiek\n",
    "\n",
    "#### Tips\n",
    "\n",
    "* bestanden inlezen -> https://www.google.com/search?channel=fs&client=ubuntu&q=read+files+python\n",
    "* het datetime format -> https://www.w3schools.com/python/python_datetime.asp\n",
    "* plotten in python -> https://matplotlib.org/2.0.2/gallery.html\n",
    "\n",
    "En als je vastloopt of vragen hebt dan weet je me te bereiken! Succes!"
   ]
  },
  {
   "cell_type": "markdown",
   "metadata": {},
   "source": [
    "#### Eenvoudig antwoord"
   ]
  },
  {
   "cell_type": "code",
   "execution_count": 16,
   "metadata": {},
   "outputs": [],
   "source": [
    "lines = open('data/power.csv', 'r').readlines()\n",
    "\n",
    "times, values = [], []\n",
    "\n",
    "for line in lines[1:]:\n",
    "    args = line.split(',')\n",
    "    times.append(float(args[0]))\n",
    "    values.append(float(args[-1]))"
   ]
  },
  {
   "cell_type": "code",
   "execution_count": 17,
   "metadata": {},
   "outputs": [],
   "source": [
    "import matplotlib.pyplot as plt\n",
    "\n",
    "def plot(times, values, index_1, index_2):\n",
    "    plt.plot(times[index_1:index_2], values[index_1:index_2])"
   ]
  },
  {
   "cell_type": "code",
   "execution_count": 18,
   "metadata": {},
   "outputs": [
    {
     "data": {
      "image/png": "[encoded data removed]",
      "text/plain": [
       "<Figure size 432x288 with 1 Axes>"
      ]
     },
     "metadata": {
      "needs_background": "light"
     },
     "output_type": "display_data"
    }
   ],
   "source": [
    "plot(times, values, 100, 200)"
   ]
  },
  {
   "cell_type": "markdown",
   "metadata": {},
   "source": [
    "Geavanceerd antwoord"
   ]
  },
  {
   "cell_type": "code",
   "execution_count": 19,
   "metadata": {},
   "outputs": [],
   "source": [
    "import datetime\n",
    "\n",
    "# lees de waarden in\n",
    "lines = open('data/power.csv', 'r').readlines()\n",
    "times, dates, values = [], [], []\n",
    "for line in lines[1:]:\n",
    "    args = line.split(',')\n",
    "    times.append(float(args[0]))\n",
    "    dates.append(datetime.datetime.strptime(args[1], '%Y-%m-%d %H:%M:%S'))\n",
    "    values.append(float(args[-1]))"
   ]
  },
  {
   "cell_type": "code",
   "execution_count": 22,
   "metadata": {},
   "outputs": [],
   "source": [
    "def plot(dates, values, startdatum, einddatum):\n",
    "    \"\"\"\n",
    "    Plot een deel van de grafiek op basis van de begin- en einddatum\n",
    "    \n",
    "    Args:\n",
    "        dates (List[datetime]): de data horende bij de metingen\n",
    "        values (List[float]): lijst met floating point values\n",
    "        startdatum (datetime): startdatum\n",
    "        einddatum (datetime): einddatum\n",
    "    \"\"\"\n",
    "    # eenvoudige error checking\n",
    "    if einddatum <= startdatum:\n",
    "        print(\"Je hebt een einddatum opgegeven die voor de startdatum ligt.. silly you!\")\n",
    "        return # verder niks te doen, dus ga maar terug..\n",
    "    \n",
    "    # maak de selectie\n",
    "    selectie = []\n",
    "    for i in range(len(dates)): \n",
    "        if dates[i] >= startdatum and dates[i]<=einddatum:\n",
    "            selectie.append((dates[i], values[i])) \n",
    "    \n",
    "    # let op de list comprehension in de volgende regel\n",
    "    # de plot functie verwacht een lijst met floats\n",
    "    # dus we vullen de x coordinaten met het eerste \n",
    "    # element van de selectie omdat elk punt in de selectie\n",
    "    # bestaat uit een tuple van (datum, waarde)\n",
    "    # bij de y coordinaten doen we hetzelfde maar dan voor de\n",
    "    # tweede waarde van de tuple\n",
    "    plt.plot([v[0] for v in selectie], [v[1] for v in selectie])        \n",
    "        "
   ]
  },
  {
   "cell_type": "markdown",
   "metadata": {},
   "source": [
    "#### foutief gebruik"
   ]
  },
  {
   "cell_type": "code",
   "execution_count": 23,
   "metadata": {},
   "outputs": [
    {
     "name": "stdout",
     "output_type": "stream",
     "text": [
      "Je hebt een einddatum opgegeven die voor de startdatum ligt.. silly you!\n"
     ]
    }
   ],
   "source": [
    "einddatum = datetime.datetime(2020,11,12,11,31,50) # 2020-11-12 11:31:50\n",
    "startdatum = datetime.datetime(2020,11,12,15,0,0) # 2020-11-12 15:00:00\n",
    "plot(dates, values, startdatum, einddatum)"
   ]
  },
  {
   "cell_type": "markdown",
   "metadata": {},
   "source": [
    "#### goed gebruik"
   ]
  },
  {
   "cell_type": "code",
   "execution_count": 21,
   "metadata": {},
   "outputs": [
    {
     "data": {
      "image/png": "[encoded data removed]",
      "text/plain": [
       "<Figure size 432x288 with 1 Axes>"
      ]
     },
     "metadata": {
      "needs_background": "light"
     },
     "output_type": "display_data"
    }
   ],
   "source": [
    "startdatum = datetime.datetime(2020,11,12,11,31,50) # 2020-11-12 11:31:50\n",
    "einddatum = datetime.datetime(2020,11,12,15,0,0) # 2020-11-12 15:00:00\n",
    "plot(dates, values, startdatum, einddatum)"
   ]
  },
  {
   "cell_type": "code",
   "execution_count": null,
   "metadata": {},
   "outputs": [],
   "source": []
  }
 ],
 "metadata": {
  "kernelspec": {
   "display_name": "Python 3",
   "language": "python",
   "name": "python3"
  },
  "language_info": {
   "codemirror_mode": {
    "name": "ipython",
    "version": 3
   },
   "file_extension": ".py",
   "mimetype": "text/x-python",
   "name": "python",
   "nbconvert_exporter": "python",
   "pygments_lexer": "ipython3",
   "version": "3.8.5"
  }
 },
 "nbformat": 4,
 "nbformat_minor": 2
}
