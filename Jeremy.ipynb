{
 "cells": [
  {
   "cell_type": "code",
   "execution_count": null,
   "metadata": {},
   "outputs": [],
   "source": [
    "# -*- coding: utf-8 -*-\n",
    "\"\"\"\n",
    "Created on Fri Dec 11 14:25:03 2020\n",
    "\n",
    "@author: Jeremy.Thiele\n",
    "\"\"\"\n",
    "\n",
    "import io\n",
    "import pandas as pd\n",
    "\n",
    "from pdfminer.high_level import extract_text\n",
    "\n",
    "data = extract_text('B2,6-Kr.pdf')\n",
    "text = io.StringIO(data)\n",
    "df = pd.DataFrame(text)\n",
    "df = df.replace('\\n','', regex=True)\n",
    "df = df[df != '']\n",
    "df = df.dropna()"
   ]
  },
  {
   "cell_type": "code",
   "execution_count": null,
   "metadata": {},
   "outputs": [],
   "source": []
  },
  {
   "cell_type": "code",
   "execution_count": 3,
   "metadata": {},
   "outputs": [],
   "source": [
    "def j_functie():\n",
    "    a = 1\n",
    "    try:\n",
    "        print(a/0.0)\n",
    "    except:\n",
    "        print(\"cpt zusenzo heeft een fout in...\")\n",
    "    b = 1"
   ]
  },
  {
   "cell_type": "code",
   "execution_count": 4,
   "metadata": {},
   "outputs": [
    {
     "name": "stdout",
     "output_type": "stream",
     "text": [
      "cpt zusenzo heeft een fout in...\n"
     ]
    }
   ],
   "source": [
    "j_functie()"
   ]
  },
  {
   "cell_type": "markdown",
   "metadata": {},
   "source": [
    "## Boringen uit pdf lezen\n",
    "\n",
    "* je hebt pdfminer al gevonden.. perfect\n",
    "* regex?\n",
    "* doe dit niet in een dataframe maar handel het gewoon als tekst af\n",
    "* maak een Boring class met daarin de informatie die je op wilt slaan\n",
    "* probeer uit te zoeken hoe je de juiste informatie in de class krijgt\n",
    "* error afhandeling is heel belangrijk! try except\n",
    "* Exporteer alles naar csv\n",
    "* Zorg dat je dit batchgewijs kunt doen. Je wilt niet elke boring apart via het script runnen. \n",
    "\n",
    "### Geavanceerd(er)\n",
    "\n",
    "* Exporteer naar een database\n",
    "* Maak plaatjes van je boringen zodat controle eenvoudig is\n",
    "\n",
    "### Tips\n",
    "\n",
    "* glob \n",
    "* case_insensitive_glob\n",
    "* pathlib\n",
    "* sqlalchemy (geavanceerd!)\n",
    "* testcases via pytest (geavanceerd!) "
   ]
  },
  {
   "cell_type": "code",
   "execution_count": null,
   "metadata": {},
   "outputs": [],
   "source": []
  }
 ],
 "metadata": {
  "kernelspec": {
   "display_name": "Python 3",
   "language": "python",
   "name": "python3"
  },
  "language_info": {
   "codemirror_mode": {
    "name": "ipython",
    "version": 3
   },
   "file_extension": ".py",
   "mimetype": "text/x-python",
   "name": "python",
   "nbconvert_exporter": "python",
   "pygments_lexer": "ipython3",
   "version": "3.8.6"
  }
 },
 "nbformat": 4,
 "nbformat_minor": 4
}
