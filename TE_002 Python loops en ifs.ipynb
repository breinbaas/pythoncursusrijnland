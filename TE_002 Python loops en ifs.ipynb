{
 "cells": [
  {
   "cell_type": "markdown",
   "metadata": {},
   "source": [
    "breinbaas | revisie 1 | 26-09-2019 \n",
    "\n",
    "# Opdrachten - Python loops en condities\n",
    "\n",
    "In dit notebook gaan we aan de slag met de Python loops en condities, een essentieel onderdeel in het leren programmeren. Probeer de vragen zoveel mogelijk zelf te beantwoorden maar kom je er echt niet uit vraag dan een mede cursist of de leraar of bekijk het antwoord op dit notebook.\n",
    "\n",
    "### 1 condities\n",
    "\n",
    "#### 1.1 de basis if\n",
    "\n",
    "Bekijk de volgende code en probeer te voorspellen wat er gaat gebeuren."
   ]
  },
  {
   "cell_type": "code",
   "execution_count": null,
   "metadata": {},
   "outputs": [],
   "source": [
    "b = True\n",
    "\n",
    "if b:\n",
    "    print(\"Doorgaan\")\n",
    "else:\n",
    "    print(\"Stoppen\")"
   ]
  },
  {
   "cell_type": "markdown",
   "metadata": {},
   "source": [
    "TIP de voorgaande code is eigenlijk heel onduidelijk. Kun je de code herschrijven door de variabele b een zinvolle naam te geven en het voor je mede programmeurs leesbaar te maken? "
   ]
  },
  {
   "cell_type": "code",
   "execution_count": null,
   "metadata": {},
   "outputs": [],
   "source": []
  },
  {
   "cell_type": "markdown",
   "metadata": {},
   "source": [
    "Initialiseer een variabele met naam i en een waarden tussen de 0 en de 10 en maak een if statement dat \"kleiner dan 5\" print als i kleiner dan 5 is en \"groter of gelijk aan 5\" als i groter of gelijk aan 5 is. Let op dat er meerdere manieren zijn!"
   ]
  },
  {
   "cell_type": "code",
   "execution_count": null,
   "metadata": {},
   "outputs": [],
   "source": []
  },
  {
   "cell_type": "markdown",
   "metadata": {},
   "source": [
    "Controleer nu met een if statement ook nog of het getal groter dan 10 is. Er moeten drie opties zijn;\n",
    "\n",
    "* i kleiner dan 5, print 'i is kleiner dan 5'\n",
    "* i groter gelijk aan 5 en kleiner dan 7, print 'i is groter dan of gelijk aan 5 en kleiner dan 7'\n",
    "* i is groter dan of gelijk aan 7, print 'i is groter dan of gelijk aan 7'"
   ]
  },
  {
   "cell_type": "code",
   "execution_count": null,
   "metadata": {},
   "outputs": [],
   "source": []
  },
  {
   "cell_type": "markdown",
   "metadata": {},
   "source": [
    "#### 1.2 geldigheid van de code\n",
    "\n",
    "Let bij Python altijd op de inspringende tab's of spaties. Code die in hetzelfde ingesprongen blok zit hoort bij elkaar. Run de volgende code en probeer te verklaren waarom je een foutmelding krijgt;"
   ]
  },
  {
   "cell_type": "code",
   "execution_count": null,
   "metadata": {},
   "outputs": [],
   "source": [
    "i = 3\n",
    "\n",
    "if i>10:\n",
    "    j = 5\n",
    "    \n",
    "print(j)    "
   ]
  },
  {
   "cell_type": "markdown",
   "metadata": {},
   "source": [
    "Maak de volgende code af; initialiseer een variabele genaamd i met waarde 1 en schrijf een if statement waarin als i = 2 de waarde van j en k op 5 worden gezet. Kijk of je code klopt door i met waarde 1 en daarna met waarde 2 te initialiseren."
   ]
  },
  {
   "cell_type": "code",
   "execution_count": null,
   "metadata": {},
   "outputs": [],
   "source": [
    "i = 1 #tweede keer runnen met i=2\n",
    "j = 1\n",
    "k = 1\n",
    "\n",
    "if i==2:\n",
    "    # maak de code af\n",
    "        \n",
    "print(i,j,k)"
   ]
  },
  {
   "cell_type": "markdown",
   "metadata": {},
   "source": [
    "#### 1.3 geneste if statements\n",
    "\n",
    "De reden waarom Python met tabs werkt is om ervoor te zorgen dat je niet te vaak inspringt. Zodra je merkt dat je te diep nest (zoals dat in mooi Nederlands heet) moet je overwegen om je code minder complex te maken en bijvoorbeeld delen van je code om te zetten in functies of methoden (volgende blok).\n",
    "\n",
    "Hier een voorbeeld van een 3 laags if statement. Probeert de uitkomst te voorspellen."
   ]
  },
  {
   "cell_type": "code",
   "execution_count": null,
   "metadata": {},
   "outputs": [],
   "source": [
    "naam = \"Jan\"\n",
    "leeftijd = 35\n",
    "getrouwd = True\n",
    "\n",
    "if not getrouwd:\n",
    "    if leeftijd < 30:\n",
    "        if naam[0] == \"J\":\n",
    "            print(\"Uw naam begint met een J, u bent jonger dan 30 en niet getrouwd\")\n",
    "        else:\n",
    "            print(\"Uw naam begint niet met een J, u bent jonger dan 30 en niet getrouwd\")\n",
    "    else:\n",
    "        if naam[0] == \"J\":\n",
    "            print(\"Uw naam begint met een J, u bent 30 jaar of ouder en niet getrouwd\")\n",
    "        else:\n",
    "            print(\"Uw naam begint niet met een J, u bent 30 jaar of ouder en niet getrouwd\")\n",
    "else:\n",
    "    if leeftijd < 30:\n",
    "        if naam[0] == \"J\":\n",
    "            print(\"Uw naam begint met een J, u bent jonger dan 30 en getrouwd\")\n",
    "        else:\n",
    "            print(\"Uw naam begint niet met een J, u bent jonger dan 30 en getrouwd\")\n",
    "    else:\n",
    "        if naam[0] == \"J\":\n",
    "            print(\"Uw naam begint met een J, u bent 30 jaar of ouder en getrouwd\")\n",
    "        else:\n",
    "            print(\"Uw naam begint niet met een J, u bent 30 jaar of ouder en getrouwd\")\n"
   ]
  },
  {
   "cell_type": "markdown",
   "metadata": {},
   "source": [
    "**verdieping** De voorgaande code is een slecht voorbeeld van efficient programmeren. Probeer de volgende code te begrijpen en in te zien waarom de volgende code veel efficienter is;"
   ]
  },
  {
   "cell_type": "code",
   "execution_count": null,
   "metadata": {},
   "outputs": [],
   "source": [
    "naam = \"Jan\"\n",
    "leeftijd = 35\n",
    "getrouwd = True\n",
    "\n",
    "antwoord = \"Uw naam begint\"\n",
    "if naam[0] != \"J\":\n",
    "    antwoord += \" niet met een J, u bent\"\n",
    "else:\n",
    "    antwoord += \" met een J, u bent\"\n",
    "    \n",
    "if leeftijd < 30:\n",
    "    antwoord += \" jonger dan 30 en\"\n",
    "else:\n",
    "    antwoord += \" 30 jaar of ouder en\"\n",
    "    \n",
    "if getrouwd:\n",
    "    antwoord += \" getrouwd\"\n",
    "else:\n",
    "    antwoord += \" niet getrouwd\"\n",
    "    \n",
    "print(antwoord)"
   ]
  },
  {
   "cell_type": "markdown",
   "metadata": {},
   "source": [
    "#### 1.4 comparison operators"
   ]
  },
  {
   "cell_type": "markdown",
   "metadata": {},
   "source": [
    "Voorspel de uitkomst van de volgende code regels;"
   ]
  },
  {
   "cell_type": "code",
   "execution_count": null,
   "metadata": {},
   "outputs": [],
   "source": [
    "i = 1\n",
    "j = 2\n",
    "\n",
    "if i==1 and j==3: print(\"er wordt voldaan aan i==1 and j==3\")\n",
    "if i==1 or j==3: print(\"er wordt voldaan aan i==1 or j==3\")\n",
    "if i!=2 and j<=2: print(\"er wordt voldaan aan i!=2 and j<=2\")    "
   ]
  },
  {
   "cell_type": "markdown",
   "metadata": {},
   "source": [
    "Run de volgende code en los de foutmelding op."
   ]
  },
  {
   "cell_type": "code",
   "execution_count": null,
   "metadata": {},
   "outputs": [],
   "source": [
    "b = 2\n",
    "if b=2:\n",
    "    print(\"Ja hoor, b is 2!\")"
   ]
  },
  {
   "cell_type": "markdown",
   "metadata": {},
   "source": [
    "### 2. loops\n",
    "\n",
    "#### 2.1 for loop\n",
    "\n",
    "Print je naam 10 maal door gebruik te maken van een for loop"
   ]
  },
  {
   "cell_type": "code",
   "execution_count": null,
   "metadata": {},
   "outputs": [],
   "source": []
  },
  {
   "cell_type": "markdown",
   "metadata": {},
   "source": [
    "Print de getallen 2, 4, 6, 8, 10 met behulp van een for loop waarbij de je range functie gebruikt."
   ]
  },
  {
   "cell_type": "code",
   "execution_count": null,
   "metadata": {},
   "outputs": [],
   "source": []
  },
  {
   "cell_type": "markdown",
   "metadata": {},
   "source": [
    "Print alle elementen uit deze lijst;"
   ]
  },
  {
   "cell_type": "code",
   "execution_count": null,
   "metadata": {},
   "outputs": [],
   "source": [
    "lijst = ['abc', 2, (1,2)]\n",
    "\n",
    "# voeg je code toe"
   ]
  },
  {
   "cell_type": "markdown",
   "metadata": {},
   "source": [
    "Print de elementen uit de vorige lijst in omgekeerde volgorde."
   ]
  },
  {
   "cell_type": "code",
   "execution_count": null,
   "metadata": {},
   "outputs": [],
   "source": []
  },
  {
   "cell_type": "markdown",
   "metadata": {},
   "source": [
    "#### 2.2 while loop\n",
    "\n",
    "Print je naam 10 keer door gebruik te maken van de while loop.\n",
    "\n",
    "**LET OP: er is een risico dat de while loop bij een verkeerde conditie nooit stopt** bijvoorbeeld in dit geval;\n",
    "\n",
    "<pre>\n",
    "while True: #while is altijd waar dus loopt altijd door\n",
    "    print(\"Hallo\")     \n",
    "</pre>\n",
    "\n",
    "**Als je merkt dat je notebook vastloopt kies dan Kernel | Restart of Interupt uit het menu van de notebook en begin opnieuw** \n"
   ]
  },
  {
   "cell_type": "code",
   "execution_count": null,
   "metadata": {},
   "outputs": [],
   "source": []
  },
  {
   "cell_type": "markdown",
   "metadata": {},
   "source": [
    "### 3 verdieping - list comprehension\n",
    "\n",
    "Print de waarden 0 tot 10 met list comprehension\n"
   ]
  },
  {
   "cell_type": "code",
   "execution_count": null,
   "metadata": {},
   "outputs": [],
   "source": []
  },
  {
   "cell_type": "markdown",
   "metadata": {},
   "source": [
    "Pas de volgende functie aan waarbij je alle namen in hoofdletters (upper()) print via list comprehension\n",
    "\n",
    "<pre>print([naam for naam in [\"Bert\", \"Boris\", \"Kees\", \"Joris\", \"Jan\", \"Viktor\"]])</pre>\n"
   ]
  },
  {
   "cell_type": "code",
   "execution_count": null,
   "metadata": {},
   "outputs": [],
   "source": []
  },
  {
   "cell_type": "markdown",
   "metadata": {},
   "source": [
    "Herhaal de vorige oefening maar print alleen de namen die beginnen met een B of een V"
   ]
  },
  {
   "cell_type": "code",
   "execution_count": null,
   "metadata": {},
   "outputs": [],
   "source": []
  }
 ],
 "metadata": {
  "kernelspec": {
   "display_name": "Python 3",
   "language": "python",
   "name": "python3"
  },
  "language_info": {
   "codemirror_mode": {
    "name": "ipython",
    "version": 3
   },
   "file_extension": ".py",
   "mimetype": "text/x-python",
   "name": "python",
   "nbconvert_exporter": "python",
   "pygments_lexer": "ipython3",
   "version": "3.8.5"
  }
 },
 "nbformat": 4,
 "nbformat_minor": 2
}
